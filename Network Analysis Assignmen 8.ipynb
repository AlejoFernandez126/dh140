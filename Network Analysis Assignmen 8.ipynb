{
 "cells": [
  {
   "cell_type": "markdown",
   "id": "2573fbfc-4ed1-491c-893f-9bd61ae30842",
   "metadata": {},
   "source": [
    "# Assingment 8 Network Analysis "
   ]
  },
  {
   "cell_type": "code",
   "execution_count": 56,
   "id": "99127efc-b2b7-4f6d-87d9-257f270aeca5",
   "metadata": {},
   "outputs": [],
   "source": [
    "# for this assignment i will be using the play ' Othello'"
   ]
  },
  {
   "cell_type": "code",
   "execution_count": 57,
   "id": "68cd9fbd-02bc-4411-aff2-5f1b9e14e485",
   "metadata": {},
   "outputs": [],
   "source": [
    "import requests\n",
    "import re\n",
    "import networkx as nx\n",
    "import matplotlib.pyplot as plt\n",
    "import pandas as pd\n",
    "import nltk\n",
    "from bs4 import BeautifulSoup"
   ]
  },
  {
   "cell_type": "code",
   "execution_count": 58,
   "id": "d5ee822b-69db-4051-bcdf-89e86ece09c3",
   "metadata": {},
   "outputs": [
    {
     "data": {
      "text/plain": [
       "<Response [200]>"
      ]
     },
     "execution_count": 58,
     "metadata": {},
     "output_type": "execute_result"
    }
   ],
   "source": [
    "response = requests.get('https://www.gutenberg.org/ebooks/1531.txt.utf-8')\n",
    "response"
   ]
  },
  {
   "cell_type": "code",
   "execution_count": 59,
   "id": "bfcdd2cd-1e68-4a0a-b4a2-2b22e2efbea4",
   "metadata": {},
   "outputs": [],
   "source": [
    "othello = response.text"
   ]
  },
  {
   "cell_type": "code",
   "execution_count": 60,
   "id": "b1557479-8a6c-4795-9247-a2d55db5bdf2",
   "metadata": {},
   "outputs": [
    {
     "data": {
      "text/plain": [
       "5"
      ]
     },
     "execution_count": 60,
     "metadata": {},
     "output_type": "execute_result"
    }
   ],
   "source": [
    "# search for the number of acts in 'Othello'\n",
    "\n",
    "othello_acts = othello.split('ACT')[6:11]\n",
    "\n",
    "len(othello_acts)"
   ]
  },
  {
   "cell_type": "code",
   "execution_count": 61,
   "id": "e30e6ed1-5ed7-4e6b-8e26-82b3b54eabc0",
   "metadata": {},
   "outputs": [],
   "source": [
    "characters = ['DUKE OF VENICE','BRABANTIO','GRATIANO','LODOVICO','OTHELLO','CASSIO','IAGO','MONTANO','RODERIGO','CLOWN','DESDEMONA','EMILIA','BIANCA']"
   ]
  },
  {
   "cell_type": "code",
   "execution_count": 62,
   "id": "de4f09e4-61f3-4177-952e-105c137d249d",
   "metadata": {},
   "outputs": [],
   "source": [
    "charnum = {}\n",
    "\n",
    "connections = {}\n",
    "for i in range(len(characters)-1):\n",
    "    for h in range(i+1,len(characters)):\n",
    "        connections[(characters[i],characters[h])] = 0\n",
    "\n",
    "for m in characters:\n",
    "    charnum[m] = 0\n",
    "\n",
    "for i in othello_acts:\n",
    "    for h in i.split('SCENE')[1:]:\n",
    "        scenechars = []\n",
    "        for m in characters:\n",
    "            if h.find(m) != -1:\n",
    "                scenechars.append(m)\n",
    "                charnum[m] += 1\n",
    "        for a in range(len(scenechars)-1):\n",
    "            for b in range(a+1,len(scenechars)):\n",
    "                connections[(scenechars[a],scenechars[b])] += 1"
   ]
  },
  {
   "cell_type": "code",
   "execution_count": 63,
   "id": "a38a39b2-6bc8-4044-a7b1-f54a88f557aa",
   "metadata": {},
   "outputs": [
    {
     "data": {
      "text/plain": [
       "{'DUKE OF VENICE': 0,\n",
       " 'BRABANTIO': 3,\n",
       " 'GRATIANO': 2,\n",
       " 'LODOVICO': 4,\n",
       " 'OTHELLO': 12,\n",
       " 'CASSIO': 9,\n",
       " 'IAGO': 13,\n",
       " 'MONTANO': 3,\n",
       " 'RODERIGO': 7,\n",
       " 'CLOWN': 2,\n",
       " 'DESDEMONA': 9,\n",
       " 'EMILIA': 8,\n",
       " 'BIANCA': 3}"
      ]
     },
     "execution_count": 63,
     "metadata": {},
     "output_type": "execute_result"
    }
   ],
   "source": [
    "# this is the number of appearances \n",
    "\n",
    "charnum"
   ]
  },
  {
   "cell_type": "code",
   "execution_count": 64,
   "id": "a734461e-21da-449f-99c0-4be3025716c5",
   "metadata": {},
   "outputs": [
    {
     "data": {
      "text/plain": [
       "{('DUKE OF VENICE', 'BRABANTIO'): 0,\n",
       " ('DUKE OF VENICE', 'GRATIANO'): 0,\n",
       " ('DUKE OF VENICE', 'LODOVICO'): 0,\n",
       " ('DUKE OF VENICE', 'OTHELLO'): 0,\n",
       " ('DUKE OF VENICE', 'CASSIO'): 0,\n",
       " ('DUKE OF VENICE', 'IAGO'): 0,\n",
       " ('DUKE OF VENICE', 'MONTANO'): 0,\n",
       " ('DUKE OF VENICE', 'RODERIGO'): 0,\n",
       " ('DUKE OF VENICE', 'CLOWN'): 0,\n",
       " ('DUKE OF VENICE', 'DESDEMONA'): 0,\n",
       " ('DUKE OF VENICE', 'EMILIA'): 0,\n",
       " ('DUKE OF VENICE', 'BIANCA'): 0,\n",
       " ('BRABANTIO', 'GRATIANO'): 0,\n",
       " ('BRABANTIO', 'LODOVICO'): 0,\n",
       " ('BRABANTIO', 'OTHELLO'): 2,\n",
       " ('BRABANTIO', 'CASSIO'): 1,\n",
       " ('BRABANTIO', 'IAGO'): 3,\n",
       " ('BRABANTIO', 'MONTANO'): 0,\n",
       " ('BRABANTIO', 'RODERIGO'): 3,\n",
       " ('BRABANTIO', 'CLOWN'): 0,\n",
       " ('BRABANTIO', 'DESDEMONA'): 1,\n",
       " ('BRABANTIO', 'EMILIA'): 0,\n",
       " ('BRABANTIO', 'BIANCA'): 0,\n",
       " ('GRATIANO', 'LODOVICO'): 2,\n",
       " ('GRATIANO', 'OTHELLO'): 2,\n",
       " ('GRATIANO', 'CASSIO'): 2,\n",
       " ('GRATIANO', 'IAGO'): 2,\n",
       " ('GRATIANO', 'MONTANO'): 1,\n",
       " ('GRATIANO', 'RODERIGO'): 1,\n",
       " ('GRATIANO', 'CLOWN'): 0,\n",
       " ('GRATIANO', 'DESDEMONA'): 1,\n",
       " ('GRATIANO', 'EMILIA'): 2,\n",
       " ('GRATIANO', 'BIANCA'): 1,\n",
       " ('LODOVICO', 'OTHELLO'): 4,\n",
       " ('LODOVICO', 'CASSIO'): 3,\n",
       " ('LODOVICO', 'IAGO'): 3,\n",
       " ('LODOVICO', 'MONTANO'): 1,\n",
       " ('LODOVICO', 'RODERIGO'): 1,\n",
       " ('LODOVICO', 'CLOWN'): 0,\n",
       " ('LODOVICO', 'DESDEMONA'): 3,\n",
       " ('LODOVICO', 'EMILIA'): 3,\n",
       " ('LODOVICO', 'BIANCA'): 2,\n",
       " ('OTHELLO', 'CASSIO'): 8,\n",
       " ('OTHELLO', 'IAGO'): 11,\n",
       " ('OTHELLO', 'MONTANO'): 3,\n",
       " ('OTHELLO', 'RODERIGO'): 6,\n",
       " ('OTHELLO', 'CLOWN'): 1,\n",
       " ('OTHELLO', 'DESDEMONA'): 9,\n",
       " ('OTHELLO', 'EMILIA'): 7,\n",
       " ('OTHELLO', 'BIANCA'): 3,\n",
       " ('CASSIO', 'IAGO'): 9,\n",
       " ('CASSIO', 'MONTANO'): 3,\n",
       " ('CASSIO', 'RODERIGO'): 4,\n",
       " ('CASSIO', 'CLOWN'): 2,\n",
       " ('CASSIO', 'DESDEMONA'): 6,\n",
       " ('CASSIO', 'EMILIA'): 6,\n",
       " ('CASSIO', 'BIANCA'): 3,\n",
       " ('IAGO', 'MONTANO'): 3,\n",
       " ('IAGO', 'RODERIGO'): 7,\n",
       " ('IAGO', 'CLOWN'): 2,\n",
       " ('IAGO', 'DESDEMONA'): 8,\n",
       " ('IAGO', 'EMILIA'): 7,\n",
       " ('IAGO', 'BIANCA'): 3,\n",
       " ('MONTANO', 'RODERIGO'): 2,\n",
       " ('MONTANO', 'CLOWN'): 0,\n",
       " ('MONTANO', 'DESDEMONA'): 3,\n",
       " ('MONTANO', 'EMILIA'): 2,\n",
       " ('MONTANO', 'BIANCA'): 0,\n",
       " ('RODERIGO', 'CLOWN'): 0,\n",
       " ('RODERIGO', 'DESDEMONA'): 4,\n",
       " ('RODERIGO', 'EMILIA'): 3,\n",
       " ('RODERIGO', 'BIANCA'): 1,\n",
       " ('CLOWN', 'DESDEMONA'): 1,\n",
       " ('CLOWN', 'EMILIA'): 2,\n",
       " ('CLOWN', 'BIANCA'): 1,\n",
       " ('DESDEMONA', 'EMILIA'): 6,\n",
       " ('DESDEMONA', 'BIANCA'): 2,\n",
       " ('EMILIA', 'BIANCA'): 2}"
      ]
     },
     "execution_count": 64,
     "metadata": {},
     "output_type": "execute_result"
    }
   ],
   "source": [
    "# Character Connections/Interactions with other Characters \n",
    "\n",
    "connections"
   ]
  },
  {
   "cell_type": "code",
   "execution_count": 65,
   "id": "420b6066-f93c-414d-852d-dbbc4795df28",
   "metadata": {},
   "outputs": [
    {
     "name": "stdout",
     "output_type": "stream",
     "text": [
      "DUKE OF VENICE 0\n",
      "BRABANTIO 3\n",
      "GRATIANO 2\n",
      "LODOVICO 4\n",
      "OTHELLO 12\n",
      "CASSIO 9\n",
      "IAGO 13\n",
      "MONTANO 3\n",
      "RODERIGO 7\n",
      "CLOWN 2\n",
      "DESDEMONA 9\n",
      "EMILIA 8\n",
      "BIANCA 3\n"
     ]
    }
   ],
   "source": [
    "\n",
    "for m,v in charnum.items():\n",
    "    print(m,v)"
   ]
  },
  {
   "cell_type": "code",
   "execution_count": 66,
   "id": "d4480804-43af-41ab-887f-a3a13920e83d",
   "metadata": {},
   "outputs": [],
   "source": [
    "# importing from networkx using girvan_newman\n",
    "\n",
    "from networkx.algorithms.community.centrality import girvan_newman"
   ]
  },
  {
   "cell_type": "code",
   "execution_count": 67,
   "id": "92c1f9e4-cb47-42ef-9d0c-06aa3a020124",
   "metadata": {},
   "outputs": [
    {
     "data": {
      "text/plain": [
       "[('BRABANTIO', 'OTHELLO'),\n",
       " ('BRABANTIO', 'CASSIO'),\n",
       " ('BRABANTIO', 'IAGO'),\n",
       " ('BRABANTIO', 'RODERIGO'),\n",
       " ('BRABANTIO', 'DESDEMONA'),\n",
       " ('GRATIANO', 'LODOVICO'),\n",
       " ('GRATIANO', 'OTHELLO'),\n",
       " ('GRATIANO', 'CASSIO'),\n",
       " ('GRATIANO', 'IAGO'),\n",
       " ('GRATIANO', 'MONTANO'),\n",
       " ('GRATIANO', 'RODERIGO'),\n",
       " ('GRATIANO', 'DESDEMONA'),\n",
       " ('GRATIANO', 'EMILIA'),\n",
       " ('GRATIANO', 'BIANCA'),\n",
       " ('LODOVICO', 'OTHELLO'),\n",
       " ('LODOVICO', 'CASSIO'),\n",
       " ('LODOVICO', 'IAGO'),\n",
       " ('LODOVICO', 'MONTANO'),\n",
       " ('LODOVICO', 'RODERIGO'),\n",
       " ('LODOVICO', 'DESDEMONA'),\n",
       " ('LODOVICO', 'EMILIA'),\n",
       " ('LODOVICO', 'BIANCA'),\n",
       " ('OTHELLO', 'CASSIO'),\n",
       " ('OTHELLO', 'IAGO'),\n",
       " ('OTHELLO', 'MONTANO'),\n",
       " ('OTHELLO', 'RODERIGO'),\n",
       " ('OTHELLO', 'CLOWN'),\n",
       " ('OTHELLO', 'DESDEMONA'),\n",
       " ('OTHELLO', 'EMILIA'),\n",
       " ('OTHELLO', 'BIANCA'),\n",
       " ('CASSIO', 'IAGO'),\n",
       " ('CASSIO', 'MONTANO'),\n",
       " ('CASSIO', 'RODERIGO'),\n",
       " ('CASSIO', 'CLOWN'),\n",
       " ('CASSIO', 'DESDEMONA'),\n",
       " ('CASSIO', 'EMILIA'),\n",
       " ('CASSIO', 'BIANCA'),\n",
       " ('IAGO', 'MONTANO'),\n",
       " ('IAGO', 'RODERIGO'),\n",
       " ('IAGO', 'CLOWN'),\n",
       " ('IAGO', 'DESDEMONA'),\n",
       " ('IAGO', 'EMILIA'),\n",
       " ('IAGO', 'BIANCA'),\n",
       " ('MONTANO', 'RODERIGO'),\n",
       " ('MONTANO', 'DESDEMONA'),\n",
       " ('MONTANO', 'EMILIA'),\n",
       " ('RODERIGO', 'DESDEMONA'),\n",
       " ('RODERIGO', 'EMILIA'),\n",
       " ('RODERIGO', 'BIANCA'),\n",
       " ('CLOWN', 'DESDEMONA'),\n",
       " ('CLOWN', 'EMILIA'),\n",
       " ('CLOWN', 'BIANCA'),\n",
       " ('DESDEMONA', 'EMILIA'),\n",
       " ('DESDEMONA', 'BIANCA'),\n",
       " ('EMILIA', 'BIANCA')]"
      ]
     },
     "execution_count": 67,
     "metadata": {},
     "output_type": "execute_result"
    }
   ],
   "source": [
    "nxgraphitems = []\n",
    "\n",
    "for m,v in connections.items():\n",
    "    if v != 0:\n",
    "        dashedge = (m[0],m[1])\n",
    "        nxgraphitems.append(dashedge)\n",
    "    \n",
    "nxgraphitems"
   ]
  },
  {
   "cell_type": "code",
   "execution_count": 68,
   "id": "ef4cee7b-9834-43e1-afac-0a27412b6fc4",
   "metadata": {},
   "outputs": [],
   "source": [
    "G = nx.Graph()"
   ]
  },
  {
   "cell_type": "code",
   "execution_count": 69,
   "id": "1259fd56-8673-46a0-9d06-bf8480334e17",
   "metadata": {},
   "outputs": [],
   "source": [
    "G.add_edges_from(nxgraphitems)"
   ]
  },
  {
   "cell_type": "code",
   "execution_count": 70,
   "id": "a3571b2a-4957-4189-b728-17236b081597",
   "metadata": {},
   "outputs": [
    {
     "data": {
      "text/plain": [
       "NodeView(('BRABANTIO', 'OTHELLO', 'CASSIO', 'IAGO', 'RODERIGO', 'DESDEMONA', 'GRATIANO', 'LODOVICO', 'MONTANO', 'EMILIA', 'BIANCA', 'CLOWN'))"
      ]
     },
     "execution_count": 70,
     "metadata": {},
     "output_type": "execute_result"
    }
   ],
   "source": [
    "G.nodes"
   ]
  },
  {
   "cell_type": "code",
   "execution_count": 71,
   "id": "ce90671c-2814-439b-88da-f68b70009f68",
   "metadata": {},
   "outputs": [],
   "source": [
    "communities = girvan_newman(G)"
   ]
  },
  {
   "cell_type": "code",
   "execution_count": 72,
   "id": "23638c9a-f863-4d53-967a-7e521ae4fe0f",
   "metadata": {},
   "outputs": [
    {
     "name": "stdout",
     "output_type": "stream",
     "text": [
      "[['BRABANTIO'], ['BIANCA', 'RODERIGO', 'CLOWN', 'IAGO', 'GRATIANO', 'OTHELLO', 'DESDEMONA', 'EMILIA', 'LODOVICO', 'CASSIO', 'MONTANO']]\n"
     ]
    },
    {
     "data": {
      "image/png": "[encoded data removed]",
      "text/plain": [
       "<Figure size 432x288 with 1 Axes>"
      ]
     },
     "metadata": {},
     "output_type": "display_data"
    }
   ],
   "source": [
    "node_groups = []\n",
    "for com in next(communities):\n",
    "    node_groups.append(list(com))\n",
    " \n",
    "print(node_groups)\n",
    " \n",
    "color_map = []\n",
    "for node in G:\n",
    "    if node in node_groups[0]:\n",
    "        color_map.append('blue')\n",
    "    else:\n",
    "        color_map.append('yellow')\n",
    "nx.draw(G, node_color=color_map, with_labels=True)\n",
    "plt.show()"
   ]
  },
  {
   "cell_type": "markdown",
   "id": "032290c0-2550-4902-9e1c-d36e18a7ada6",
   "metadata": {},
   "source": [
    "# Character Network Analysis from 'Othello'\n",
    "This visualization demosntrastes that Iago has the most connections since his cirlce is the biggest and his edgest are thicker than the other characters in the visual. This demonstrates that Inago is the most relevant character. \n",
    "\n",
    "Othello is next to Iago in terms of the amount of connections. Cassio and Desdemona follow Othello.\n",
    "\n",
    "Essentially, Iago, Othello, Cassio, and Desdemona are the characters with the most connections.\n",
    "\n",
    "This makes sense since the story of Othello revolves around these four characters the most."
   ]
  },
  {
   "cell_type": "code",
   "execution_count": 73,
   "id": "3fe26278-09bb-4d03-b9ba-0c0ca215507a",
   "metadata": {},
   "outputs": [
    {
     "data": {
      "text/plain": [
       "0.8333333333333334"
      ]
     },
     "execution_count": 73,
     "metadata": {},
     "output_type": "execute_result"
    }
   ],
   "source": [
    "nx.density(G)"
   ]
  },
  {
   "cell_type": "code",
   "execution_count": 74,
   "id": "51392576-194b-45b2-9471-4aa221d6837d",
   "metadata": {},
   "outputs": [
    {
     "data": {
      "text/plain": [
       "{'BRABANTIO': 0.4545454545454546,\n",
       " 'OTHELLO': 1.0,\n",
       " 'CASSIO': 1.0,\n",
       " 'IAGO': 1.0,\n",
       " 'RODERIGO': 0.9090909090909092,\n",
       " 'DESDEMONA': 1.0,\n",
       " 'GRATIANO': 0.8181818181818182,\n",
       " 'LODOVICO': 0.8181818181818182,\n",
       " 'MONTANO': 0.7272727272727273,\n",
       " 'EMILIA': 0.9090909090909092,\n",
       " 'BIANCA': 0.8181818181818182,\n",
       " 'CLOWN': 0.5454545454545454}"
      ]
     },
     "execution_count": 74,
     "metadata": {},
     "output_type": "execute_result"
    }
   ],
   "source": [
    "nx.degree_centrality(G)"
   ]
  },
  {
   "cell_type": "code",
   "execution_count": 75,
   "id": "6ac122d2-a300-4606-9edd-740455f0727a",
   "metadata": {},
   "outputs": [
    {
     "data": {
      "text/plain": [
       "{'BRABANTIO': 0.0,\n",
       " 'OTHELLO': 0.03772727272727273,\n",
       " 'CASSIO': 0.03772727272727273,\n",
       " 'IAGO': 0.03772727272727273,\n",
       " 'RODERIGO': 0.020454545454545454,\n",
       " 'DESDEMONA': 0.03772727272727273,\n",
       " 'GRATIANO': 0.0022727272727272726,\n",
       " 'LODOVICO': 0.0022727272727272726,\n",
       " 'MONTANO': 0.0,\n",
       " 'EMILIA': 0.014999999999999998,\n",
       " 'BIANCA': 0.00909090909090909,\n",
       " 'CLOWN': 0.0}"
      ]
     },
     "execution_count": 75,
     "metadata": {},
     "output_type": "execute_result"
    }
   ],
   "source": [
    "nx.betweenness_centrality(G)"
   ]
  },
  {
   "cell_type": "markdown",
   "id": "dd142bdc-d1ad-4ba6-b503-b403bf7e0065",
   "metadata": {},
   "source": [
    "# Degree of Centrality analysis \n",
    "This network visualizations depicts all the speaking characters and their interactions with each other within Shakespeare's play 'Othello'.\n",
    "\n",
    "According to our network visualization,the 3 most important nodes are Othello, Cassio, Iago, and Desdamonda.\n",
    "highest degree centrality of (1.0, 1.0, 1.0) In other words, these are the characters that seem to have the most interactions with the other characters and are a vital part of the social network within the play, this makes sense becuase the majority of the play revolves around the dynamic of these characters the most. \n",
    "\n",
    "The next most important nodes are Rodrigo and Emilia with a degree centrality of 0.909."
   ]
  }
 ],
 "metadata": {
  "kernelspec": {
   "display_name": "Python 3 (ipykernel)",
   "language": "python",
   "name": "python3"
  },
  "language_info": {
   "codemirror_mode": {
    "name": "ipython",
    "version": 3
   },
   "file_extension": ".py",
   "mimetype": "text/x-python",
   "name": "python",
   "nbconvert_exporter": "python",
   "pygments_lexer": "ipython3",
   "version": "3.9.6"
  }
 },
 "nbformat": 4,
 "nbformat_minor": 5
}
