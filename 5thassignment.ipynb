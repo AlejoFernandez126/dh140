{
 "cells": [
  {
   "cell_type": "code",
   "execution_count": 1,
   "id": "937afe74-72dc-4a18-acaf-bc6c21f266e7",
   "metadata": {},
   "outputs": [],
   "source": [
    "import requests"
   ]
  },
  {
   "cell_type": "code",
   "execution_count": 2,
   "id": "03915450-be61-4e94-8dfc-357bc4bdad3b",
   "metadata": {},
   "outputs": [],
   "source": [
    "response = requests.get('https://corgis-edu.github.io//corgis/csv/')"
   ]
  },
  {
   "cell_type": "code",
   "execution_count": 3,
   "id": "b248d18f-1db7-4f92-a7c8-31788b64603b",
   "metadata": {},
   "outputs": [
    {
     "data": {
      "text/plain": [
       "<Response [200]>"
      ]
     },
     "execution_count": 3,
     "metadata": {},
     "output_type": "execute_result"
    }
   ],
   "source": [
    "response"
   ]
  },
  {
   "cell_type": "markdown",
   "id": "a2fe09f1-285b-4b49-b731-22354c015bd1",
   "metadata": {},
   "source": [
    "# Step 2:Use requests and BeautifulSoup to make a list of all the CORGIS datasets."
   ]
  },
  {
   "cell_type": "code",
   "execution_count": 11,
   "id": "2e861e1b-d195-4162-87c2-fb0e0578ad71",
   "metadata": {},
   "outputs": [],
   "source": [
    "from bs4 import BeautifulSoup"
   ]
  },
  {
   "cell_type": "code",
   "execution_count": 20,
   "id": "10401e80-06c1-4107-9c90-44a2a17242f3",
   "metadata": {},
   "outputs": [],
   "source": [
    "html_string = response.text"
   ]
  },
  {
   "cell_type": "code",
   "execution_count": 21,
   "id": "f3f73686-ecb6-4bb8-9c6e-ae87e1cb27f4",
   "metadata": {},
   "outputs": [],
   "source": [
    "document = BeautifulSoup(html_string, \"html.parser\")"
   ]
  },
  {
   "cell_type": "code",
   "execution_count": 22,
   "id": "1bd46ed2-a8fb-428b-ba9d-9a1714512dce",
   "metadata": {},
   "outputs": [
    {
     "data": {
      "text/plain": [
       "[<h3>Aids</h3>,\n",
       " <h3>Airlines</h3>,\n",
       " <h3>Billionaires</h3>,\n",
       " <h3>Broadway</h3>,\n",
       " <h3>Business Dynamics</h3>,\n",
       " <h3>Cancer</h3>,\n",
       " <h3>Cars</h3>,\n",
       " <h3>Classics</h3>,\n",
       " <h3>Construction Permits</h3>,\n",
       " <h3>Construction Spending</h3>,\n",
       " <h3>County Demographics</h3>,\n",
       " <h3>Covid</h3>,\n",
       " <h3>Drugs</h3>,\n",
       " <h3>Earthquakes</h3>,\n",
       " <h3>Election</h3>,\n",
       " <h3>Electricity</h3>,\n",
       " <h3>Emissions</h3>,\n",
       " <h3>Energy</h3>,\n",
       " <h3>Finance</h3>,\n",
       " <h3>Food</h3>,\n",
       " <h3>Food Access</h3>,\n",
       " <h3>Global Development</h3>,\n",
       " <h3>Graduates</h3>,\n",
       " <h3>Health</h3>,\n",
       " <h3>Hospitals</h3>,\n",
       " <h3>Hydropower</h3>,\n",
       " <h3>Ingredients</h3>,\n",
       " <h3>Injuries</h3>,\n",
       " <h3>Labor</h3>,\n",
       " <h3>Medal Of Honor</h3>,\n",
       " <h3>Music</h3>,\n",
       " <h3>Opioids</h3>,\n",
       " <h3>Police Shootings</h3>,\n",
       " <h3>Publishers</h3>,\n",
       " <h3>Real Estate</h3>,\n",
       " <h3>Retail Services</h3>,\n",
       " <h3>School Scores</h3>,\n",
       " <h3>Skyscrapers</h3>,\n",
       " <h3>Slavery</h3>,\n",
       " <h3>State Crime</h3>,\n",
       " <h3>State Demographics</h3>,\n",
       " <h3>State Fragility</h3>,\n",
       " <h3>Suicide Attacks</h3>,\n",
       " <h3>Supreme Court</h3>,\n",
       " <h3>Tate</h3>,\n",
       " <h3>Video Games</h3>,\n",
       " <h3>Weather</h3>,\n",
       " <h3>Wind Turbines</h3>]"
      ]
     },
     "execution_count": 22,
     "metadata": {},
     "output_type": "execute_result"
    }
   ],
   "source": [
    "document.find_all('h3')"
   ]
  },
  {
   "cell_type": "code",
   "execution_count": 23,
   "id": "726a3354-26c7-45c3-9d6c-7fcfd3724543",
   "metadata": {},
   "outputs": [],
   "source": [
    "corgislist = []\n",
    "for i in document.find_all(\"h3\"):\n",
    "    corgislist.append(i.text.strip())"
   ]
  },
  {
   "cell_type": "code",
   "execution_count": 24,
   "id": "ad0b4808-090c-4a0a-963f-cb5da1e81dab",
   "metadata": {},
   "outputs": [
    {
     "data": {
      "text/plain": [
       "['Aids',\n",
       " 'Airlines',\n",
       " 'Billionaires',\n",
       " 'Broadway',\n",
       " 'Business Dynamics',\n",
       " 'Cancer',\n",
       " 'Cars',\n",
       " 'Classics',\n",
       " 'Construction Permits',\n",
       " 'Construction Spending',\n",
       " 'County Demographics',\n",
       " 'Covid',\n",
       " 'Drugs',\n",
       " 'Earthquakes',\n",
       " 'Election',\n",
       " 'Electricity',\n",
       " 'Emissions',\n",
       " 'Energy',\n",
       " 'Finance',\n",
       " 'Food',\n",
       " 'Food Access',\n",
       " 'Global Development',\n",
       " 'Graduates',\n",
       " 'Health',\n",
       " 'Hospitals',\n",
       " 'Hydropower',\n",
       " 'Ingredients',\n",
       " 'Injuries',\n",
       " 'Labor',\n",
       " 'Medal Of Honor',\n",
       " 'Music',\n",
       " 'Opioids',\n",
       " 'Police Shootings',\n",
       " 'Publishers',\n",
       " 'Real Estate',\n",
       " 'Retail Services',\n",
       " 'School Scores',\n",
       " 'Skyscrapers',\n",
       " 'Slavery',\n",
       " 'State Crime',\n",
       " 'State Demographics',\n",
       " 'State Fragility',\n",
       " 'Suicide Attacks',\n",
       " 'Supreme Court',\n",
       " 'Tate',\n",
       " 'Video Games',\n",
       " 'Weather',\n",
       " 'Wind Turbines']"
      ]
     },
     "execution_count": 24,
     "metadata": {},
     "output_type": "execute_result"
    }
   ],
   "source": [
    "corgislist  #list of all CORGIS datasets"
   ]
  },
  {
   "cell_type": "markdown",
   "id": "56750d92-0ee4-42bc-a86d-3d2d6f39e145",
   "metadata": {},
   "source": [
    " # Step 3: Write a function that takes an element from the list of CORGIS datasets, searches the respective CORGIS page for the CSV download link, and returns a Pandas dataframe."
   ]
  },
  {
   "cell_type": "code",
   "execution_count": 25,
   "id": "b00df3c1-84c2-4971-8970-416f7e115b1f",
   "metadata": {},
   "outputs": [],
   "source": [
    "import pandas as pd"
   ]
  },
  {
   "cell_type": "code",
   "execution_count": 27,
   "id": "73cd7865-585c-4e8f-b97a-e7b847c2bfc9",
   "metadata": {},
   "outputs": [],
   "source": [
    "def corgis(a):\n",
    "    lower = a.lower() \n",
    "    if \" \" in lower: #for elements that have more than one word (i.e. 'Medal of Honor', 'Supreme Court')\n",
    "        lower = lower.replace(\" \", \"_\")\n",
    "        response = requests.get('https://corgis-edu.github.io/corgis/csv/' + lower + '/')\n",
    "    else:\n",
    "        response = requests.get('https://corgis-edu.github.io/corgis/csv/' + lower + '/') \n",
    "    html_string = response.text\n",
    "    document = BeautifulSoup(html_string, \"html.parser\")\n",
    "    links = document.find_all('a')\n",
    "    for i in links:\n",
    "        if i.has_attr('download'):\n",
    "            download = i['href']\n",
    "    downloadlink = 'https://corgis-edu.github.io/corgis/csv/' + lower + '/' + download\n",
    "    corgisdf = pd.read_csv(downloadlink)\n",
    "    return corgisdf"
   ]
  },
  {
   "cell_type": "markdown",
   "id": "f06cf07f-3cb5-4340-86af-4a2079438768",
   "metadata": {},
   "source": [
    "# Broadway Data Set"
   ]
  },
  {
   "cell_type": "code",
   "execution_count": null,
   "id": "e3b04475-ae0c-45ff-a9d8-b1be633f1768",
   "metadata": {},
   "outputs": [
    {
     "data": {
      "text/plain": [
       "Index(['Date.Day', 'Date.Full', 'Date.Month', 'Date.Year', 'Show.Name',\n",
       "       'Show.Theatre', 'Show.Type', 'Statistics.Attendance',\n",
       "       'Statistics.Capacity', 'Statistics.Gross', 'Statistics.Gross Potential',\n",
       "       'Statistics.Performances'],\n",
       "      dtype='object')"
      ]
     },
     "execution_count": 28,
     "metadata": {},
     "output_type": "execute_result"
    }
   ],
   "source": [
    "broadway_df = corgis('Broadway')\n",
    "broadway_df.columns"
   ]
  },
  {
   "cell_type": "code",
   "execution_count": 34,
   "id": "8f78b6ab-cb3f-4ebb-8ff6-c198ef60825c",
   "metadata": {},
   "outputs": [
    {
     "data": {
      "text/plain": [
       "<AxesSubplot:xlabel='Show.Type'>"
      ]
     },
     "execution_count": 34,
     "metadata": {},
     "output_type": "execute_result"
    },
    {
     "data": {
      "image/png": "[encoded data removed]",
      "text/plain": [
       "<Figure size 432x288 with 1 Axes>"
      ]
     },
     "metadata": {
      "needs_background": "light"
     },
     "output_type": "display_data"
    }
   ],
   "source": [
    "w = broadway_df.groupby('Show.Type')[['Statistics.Gross']].mean()\n",
    "w.plot(kind = 'bar') \n",
    "# The bar graph which demosntrates the mean Statistics Gross for each of the three different show types in Broadway \n",
    "# 'Statistics Gross' == how much the show made in total across the entire week. "
   ]
  },
  {
   "cell_type": "markdown",
   "id": "ca006c2d-c921-4f3b-88db-3ec02316478c",
   "metadata": {},
   "source": [
    "# Lets look at the Hospitals dataset"
   ]
  },
  {
   "cell_type": "code",
   "execution_count": 36,
   "id": "b4e9720a-83eb-429a-a9d8-7e7fa82dabe1",
   "metadata": {},
   "outputs": [
    {
     "data": {
      "text/html": [
       "<div>\n",
       "<style scoped>\n",
       "    .dataframe tbody tr th:only-of-type {\n",
       "        vertical-align: middle;\n",
       "    }\n",
       "\n",
       "    .dataframe tbody tr th {\n",
       "        vertical-align: top;\n",
       "    }\n",
       "\n",
       "    .dataframe thead th {\n",
       "        text-align: right;\n",
       "    }\n",
       "</style>\n",
       "<table border=\"1\" class=\"dataframe\">\n",
       "  <thead>\n",
       "    <tr style=\"text-align: right;\">\n",
       "      <th></th>\n",
       "      <th>Facility.Name</th>\n",
       "      <th>Facility.City</th>\n",
       "      <th>Facility.State</th>\n",
       "      <th>Facility.Type</th>\n",
       "      <th>Rating.Overall</th>\n",
       "      <th>Rating.Mortality</th>\n",
       "      <th>Rating.Safety</th>\n",
       "      <th>Rating.Readmission</th>\n",
       "      <th>Rating.Experience</th>\n",
       "      <th>Rating.Effectiveness</th>\n",
       "      <th>...</th>\n",
       "      <th>Procedure.Heart Attack.Value</th>\n",
       "      <th>Procedure.Heart Failure.Cost</th>\n",
       "      <th>Procedure.Heart Failure.Quality</th>\n",
       "      <th>Procedure.Heart Failure.Value</th>\n",
       "      <th>Procedure.Pneumonia.Cost</th>\n",
       "      <th>Procedure.Pneumonia.Quality</th>\n",
       "      <th>Procedure.Pneumonia.Value</th>\n",
       "      <th>Procedure.Hip Knee.Cost</th>\n",
       "      <th>Procedure.Hip Knee.Quality</th>\n",
       "      <th>Procedure.Hip Knee.Value</th>\n",
       "    </tr>\n",
       "  </thead>\n",
       "  <tbody>\n",
       "    <tr>\n",
       "      <th>0</th>\n",
       "      <td>Southeast Alabama Medical Center</td>\n",
       "      <td>Dothan</td>\n",
       "      <td>AL</td>\n",
       "      <td>Government</td>\n",
       "      <td>2</td>\n",
       "      <td>Below</td>\n",
       "      <td>Above</td>\n",
       "      <td>Below</td>\n",
       "      <td>Below</td>\n",
       "      <td>Same</td>\n",
       "      <td>...</td>\n",
       "      <td>Average</td>\n",
       "      <td>17041</td>\n",
       "      <td>Average</td>\n",
       "      <td>Average</td>\n",
       "      <td>18281</td>\n",
       "      <td>Average</td>\n",
       "      <td>Average</td>\n",
       "      <td>25812</td>\n",
       "      <td>Average</td>\n",
       "      <td>Higher</td>\n",
       "    </tr>\n",
       "    <tr>\n",
       "      <th>1</th>\n",
       "      <td>Marshall Medical Center South</td>\n",
       "      <td>Boaz</td>\n",
       "      <td>AL</td>\n",
       "      <td>Government</td>\n",
       "      <td>1</td>\n",
       "      <td>Below</td>\n",
       "      <td>Below</td>\n",
       "      <td>Below</td>\n",
       "      <td>Same</td>\n",
       "      <td>Above</td>\n",
       "      <td>...</td>\n",
       "      <td>Average</td>\n",
       "      <td>15819</td>\n",
       "      <td>Worse</td>\n",
       "      <td>Average</td>\n",
       "      <td>15614</td>\n",
       "      <td>Worse</td>\n",
       "      <td>Lower</td>\n",
       "      <td>22747</td>\n",
       "      <td>Average</td>\n",
       "      <td>Average</td>\n",
       "    </tr>\n",
       "    <tr>\n",
       "      <th>2</th>\n",
       "      <td>Eliza Coffee Memorial Hospital</td>\n",
       "      <td>Florence</td>\n",
       "      <td>AL</td>\n",
       "      <td>Government</td>\n",
       "      <td>3</td>\n",
       "      <td>Below</td>\n",
       "      <td>Above</td>\n",
       "      <td>Above</td>\n",
       "      <td>Below</td>\n",
       "      <td>Same</td>\n",
       "      <td>...</td>\n",
       "      <td>Average</td>\n",
       "      <td>16334</td>\n",
       "      <td>Average</td>\n",
       "      <td>Average</td>\n",
       "      <td>17371</td>\n",
       "      <td>Average</td>\n",
       "      <td>Average</td>\n",
       "      <td>24491</td>\n",
       "      <td>Average</td>\n",
       "      <td>Higher</td>\n",
       "    </tr>\n",
       "    <tr>\n",
       "      <th>3</th>\n",
       "      <td>Mizell Memorial Hospital</td>\n",
       "      <td>Opp</td>\n",
       "      <td>AL</td>\n",
       "      <td>Private</td>\n",
       "      <td>1</td>\n",
       "      <td>Same</td>\n",
       "      <td>Same</td>\n",
       "      <td>Below</td>\n",
       "      <td>Below</td>\n",
       "      <td>Below</td>\n",
       "      <td>...</td>\n",
       "      <td>Unknown</td>\n",
       "      <td>14541</td>\n",
       "      <td>Average</td>\n",
       "      <td>Lower</td>\n",
       "      <td>15226</td>\n",
       "      <td>Worse</td>\n",
       "      <td>Lower</td>\n",
       "      <td>23472</td>\n",
       "      <td>Average</td>\n",
       "      <td>Average</td>\n",
       "    </tr>\n",
       "    <tr>\n",
       "      <th>4</th>\n",
       "      <td>Crenshaw Community Hospital</td>\n",
       "      <td>Luverne</td>\n",
       "      <td>AL</td>\n",
       "      <td>Proprietary</td>\n",
       "      <td>4</td>\n",
       "      <td>Same</td>\n",
       "      <td>None</td>\n",
       "      <td>Above</td>\n",
       "      <td>None</td>\n",
       "      <td>Same</td>\n",
       "      <td>...</td>\n",
       "      <td>Unknown</td>\n",
       "      <td>13767</td>\n",
       "      <td>Average</td>\n",
       "      <td>Lower</td>\n",
       "      <td>14341</td>\n",
       "      <td>Average</td>\n",
       "      <td>Lower</td>\n",
       "      <td>0</td>\n",
       "      <td>Unknown</td>\n",
       "      <td>Unknown</td>\n",
       "    </tr>\n",
       "  </tbody>\n",
       "</table>\n",
       "<p>5 rows × 24 columns</p>\n",
       "</div>"
      ],
      "text/plain": [
       "                      Facility.Name Facility.City Facility.State  \\\n",
       "0  Southeast Alabama Medical Center        Dothan             AL   \n",
       "1     Marshall Medical Center South          Boaz             AL   \n",
       "2    Eliza Coffee Memorial Hospital      Florence             AL   \n",
       "3          Mizell Memorial Hospital           Opp             AL   \n",
       "4       Crenshaw Community Hospital       Luverne             AL   \n",
       "\n",
       "  Facility.Type  Rating.Overall Rating.Mortality Rating.Safety  \\\n",
       "0    Government               2            Below         Above   \n",
       "1    Government               1            Below         Below   \n",
       "2    Government               3            Below         Above   \n",
       "3       Private               1             Same          Same   \n",
       "4   Proprietary               4             Same          None   \n",
       "\n",
       "  Rating.Readmission Rating.Experience Rating.Effectiveness  ...  \\\n",
       "0              Below             Below                 Same  ...   \n",
       "1              Below              Same                Above  ...   \n",
       "2              Above             Below                 Same  ...   \n",
       "3              Below             Below                Below  ...   \n",
       "4              Above              None                 Same  ...   \n",
       "\n",
       "  Procedure.Heart Attack.Value Procedure.Heart Failure.Cost  \\\n",
       "0                      Average                        17041   \n",
       "1                      Average                        15819   \n",
       "2                      Average                        16334   \n",
       "3                      Unknown                        14541   \n",
       "4                      Unknown                        13767   \n",
       "\n",
       "   Procedure.Heart Failure.Quality Procedure.Heart Failure.Value  \\\n",
       "0                          Average                       Average   \n",
       "1                            Worse                       Average   \n",
       "2                          Average                       Average   \n",
       "3                          Average                         Lower   \n",
       "4                          Average                         Lower   \n",
       "\n",
       "  Procedure.Pneumonia.Cost  Procedure.Pneumonia.Quality  \\\n",
       "0                    18281                      Average   \n",
       "1                    15614                        Worse   \n",
       "2                    17371                      Average   \n",
       "3                    15226                        Worse   \n",
       "4                    14341                      Average   \n",
       "\n",
       "  Procedure.Pneumonia.Value Procedure.Hip Knee.Cost  \\\n",
       "0                   Average                   25812   \n",
       "1                     Lower                   22747   \n",
       "2                   Average                   24491   \n",
       "3                     Lower                   23472   \n",
       "4                     Lower                       0   \n",
       "\n",
       "   Procedure.Hip Knee.Quality Procedure.Hip Knee.Value  \n",
       "0                     Average                   Higher  \n",
       "1                     Average                  Average  \n",
       "2                     Average                   Higher  \n",
       "3                     Average                  Average  \n",
       "4                     Unknown                  Unknown  \n",
       "\n",
       "[5 rows x 24 columns]"
      ]
     },
     "execution_count": 36,
     "metadata": {},
     "output_type": "execute_result"
    }
   ],
   "source": [
    "#Hospitals\n",
    "hs_df = corgis('Hospitals')\n",
    "hs_df.columns\n",
    "hs_df.head()"
   ]
  },
  {
   "cell_type": "code",
   "execution_count": 53,
   "id": "e1b6def0-bdda-439d-8bed-eb7f92a23f5b",
   "metadata": {},
   "outputs": [
    {
     "data": {
      "text/plain": [
       "<AxesSubplot:xlabel='Rating.Overall'>"
      ]
     },
     "execution_count": 53,
     "metadata": {},
     "output_type": "execute_result"
    },
    {
     "data": {
      "image/png": "[encoded data removed]",
      "text/plain": [
       "<Figure size 432x288 with 1 Axes>"
      ]
     },
     "metadata": {
      "needs_background": "light"
     },
     "output_type": "display_data"
    }
   ],
   "source": [
    "hs_df.groupby('Rating.Overall')[['Procedure.Pneumonia.Cost']].mean().plot(kind = 'line')\n",
    "# if i did this correctly, then the graph below demonstrates the mean cost of a 'procedure pneumonia cost' and aligns it witht the hsopitlas overall rating"
   ]
  },
  {
   "cell_type": "markdown",
   "id": "fe2f8b03-a799-4910-b16a-25bc5e8efb66",
   "metadata": {},
   "source": [
    "# Lets look at the Billionaires dataset"
   ]
  },
  {
   "cell_type": "code",
   "execution_count": 43,
   "id": "a03ddf78-0050-4e56-b6fd-ed1304f9ef32",
   "metadata": {},
   "outputs": [
    {
     "data": {
      "text/plain": [
       "Index(['name', 'rank', 'year', 'company.founded', 'company.name',\n",
       "       'company.relationship', 'company.sector', 'company.type',\n",
       "       'demographics.age', 'demographics.gender', 'location.citizenship',\n",
       "       'location.country code', 'location.gdp', 'location.region',\n",
       "       'wealth.type', 'wealth.worth in billions', 'wealth.how.category',\n",
       "       'wealth.how.from emerging', 'wealth.how.industry',\n",
       "       'wealth.how.inherited', 'wealth.how.was founder',\n",
       "       'wealth.how.was political'],\n",
       "      dtype='object')"
      ]
     },
     "execution_count": 43,
     "metadata": {},
     "output_type": "execute_result"
    }
   ],
   "source": [
    "bs_df = corgis('Billionaires')\n",
    "bs_df.columns"
   ]
  },
  {
   "cell_type": "code",
   "execution_count": 52,
   "id": "3f8cfc8e-99cd-4224-b824-ec935b734888",
   "metadata": {},
   "outputs": [
    {
     "data": {
      "text/plain": [
       "<AxesSubplot:ylabel='Frequency'>"
      ]
     },
     "execution_count": 52,
     "metadata": {},
     "output_type": "execute_result"
    },
    {
     "data": {
      "image/png": "[encoded data removed]",
      "text/plain": [
       "<Figure size 432x288 with 1 Axes>"
      ]
     },
     "metadata": {
      "needs_background": "light"
     },
     "output_type": "display_data"
    }
   ],
   "source": [
    "billionaires = pd.DataFrame ({'wealth.worth in billions' : bs_df['wealth.worth in billions']})\n",
    "billionaires.plot(kind = 'hist')\n",
    "\n",
    "# if i did this correctly this is a histortgram showing  every billionaires wealth from the corgis billionaire dataset "
   ]
  }
 ],
 "metadata": {
  "kernelspec": {
   "display_name": "Python 3 (ipykernel)",
   "language": "python",
   "name": "python3"
  },
  "language_info": {
   "codemirror_mode": {
    "name": "ipython",
    "version": 3
   },
   "file_extension": ".py",
   "mimetype": "text/x-python",
   "name": "python",
   "nbconvert_exporter": "python",
   "pygments_lexer": "ipython3",
   "version": "3.9.6"
  }
 },
 "nbformat": 4,
 "nbformat_minor": 5
}
