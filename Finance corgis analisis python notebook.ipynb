{
 "cells": [
  {
   "cell_type": "markdown",
   "id": "5561b4d3-0c37-43bd-9b7a-1273f285ba1f",
   "metadata": {
    "tags": []
   },
   "source": [
    "# Finance Corgis Analysis by Alejo Fernandez DGTHUM 140 UCLA Winter 2022"
   ]
  },
  {
   "cell_type": "code",
   "execution_count": 11,
   "id": "5b642bbf-c26e-4b5d-b576-3ab7e773c9fb",
   "metadata": {},
   "outputs": [
    {
     "name": "stdout",
     "output_type": "stream",
     "text": [
      "Hello World, This is alejo entering the internet\n"
     ]
    }
   ],
   "source": [
    "print ('Hello World, This is alejo entering the internet')"
   ]
  },
  {
   "cell_type": "code",
   "execution_count": 12,
   "id": "10f10328-aff8-402f-80e7-be252a772041",
   "metadata": {},
   "outputs": [
    {
     "ename": "DatasetException",
     "evalue": "Error! Could not find a \"/home/jovyan/dh140/graduates.data\" file. Make sure that there is a \"/home/jovyan/dh140/graduates.data\" in the same directory as \"graduates.py\"! Spelling is very important here.",
     "output_type": "error",
     "traceback": [
      "\u001b[0;31m---------------------------------------------------------------------------\u001b[0m",
      "\u001b[0;31mDatasetException\u001b[0m                          Traceback (most recent call last)",
      "\u001b[0;32m/tmp/ipykernel_52/2356674267.py\u001b[0m in \u001b[0;36m<module>\u001b[0;34m\u001b[0m\n\u001b[0;32m----> 1\u001b[0;31m \u001b[0;32mimport\u001b[0m \u001b[0mgraduates\u001b[0m\u001b[0;34m\u001b[0m\u001b[0;34m\u001b[0m\u001b[0m\n\u001b[0m",
      "\u001b[0;32m~/dh140/graduates.py\u001b[0m in \u001b[0;36m<module>\u001b[0;34m\u001b[0m\n\u001b[1;32m    111\u001b[0m                                           \"graduates.data\")\n\u001b[1;32m    112\u001b[0m \u001b[0;32mif\u001b[0m \u001b[0;32mnot\u001b[0m \u001b[0m_os\u001b[0m\u001b[0;34m.\u001b[0m\u001b[0maccess\u001b[0m\u001b[0;34m(\u001b[0m\u001b[0m_Constants\u001b[0m\u001b[0;34m.\u001b[0m\u001b[0m_DATABASE_NAME\u001b[0m\u001b[0;34m,\u001b[0m \u001b[0m_os\u001b[0m\u001b[0;34m.\u001b[0m\u001b[0mF_OK\u001b[0m\u001b[0;34m)\u001b[0m\u001b[0;34m:\u001b[0m\u001b[0;34m\u001b[0m\u001b[0;34m\u001b[0m\u001b[0m\n\u001b[0;32m--> 113\u001b[0;31m     raise DatasetException((\"Error! Could not find a \\\"{0}\\\" file. \"\n\u001b[0m\u001b[1;32m    114\u001b[0m                            \u001b[0;34m\"Make sure that there is a \\\"{0}\\\" in the \"\u001b[0m\u001b[0;34m\u001b[0m\u001b[0;34m\u001b[0m\u001b[0m\n\u001b[1;32m    115\u001b[0m                            \u001b[0;34m\"same directory as \\\"{1}.py\\\"! Spelling is \"\u001b[0m\u001b[0;34m\u001b[0m\u001b[0;34m\u001b[0m\u001b[0m\n",
      "\u001b[0;31mDatasetException\u001b[0m: Error! Could not find a \"/home/jovyan/dh140/graduates.data\" file. Make sure that there is a \"/home/jovyan/dh140/graduates.data\" in the same directory as \"graduates.py\"! Spelling is very important here."
     ]
    }
   ],
   "source": [
    "import graduates"
   ]
  },
  {
   "cell_type": "code",
   "execution_count": 13,
   "id": "cae7451d-0134-42f5-9eed-92a76b77ee2f",
   "metadata": {},
   "outputs": [
    {
     "ename": "NameError",
     "evalue": "name 'book' is not defined",
     "output_type": "error",
     "traceback": [
      "\u001b[0;31m---------------------------------------------------------------------------\u001b[0m",
      "\u001b[0;31mNameError\u001b[0m                                 Traceback (most recent call last)",
      "\u001b[0;32m/tmp/ipykernel_52/2080946290.py\u001b[0m in \u001b[0;36m<module>\u001b[0;34m\u001b[0m\n\u001b[0;32m----> 1\u001b[0;31m \u001b[0mtype\u001b[0m \u001b[0;34m(\u001b[0m\u001b[0mbook\u001b[0m\u001b[0;34m)\u001b[0m\u001b[0;34m\u001b[0m\u001b[0;34m\u001b[0m\u001b[0m\n\u001b[0m",
      "\u001b[0;31mNameError\u001b[0m: name 'book' is not defined"
     ]
    }
   ],
   "source": [
    "type (book)"
   ]
  },
  {
   "cell_type": "code",
   "execution_count": null,
   "id": "339f737f-bc9a-42d6-bb86-dd2778bd92e9",
   "metadata": {},
   "outputs": [],
   "source": []
  }
 ],
 "metadata": {
  "kernelspec": {
   "display_name": "Python 3 (ipykernel)",
   "language": "python",
   "name": "python3"
  },
  "language_info": {
   "codemirror_mode": {
    "name": "ipython",
    "version": 3
   },
   "file_extension": ".py",
   "mimetype": "text/x-python",
   "name": "python",
   "nbconvert_exporter": "python",
   "pygments_lexer": "ipython3",
   "version": "3.9.6"
  }
 },
 "nbformat": 4,
 "nbformat_minor": 5
}
