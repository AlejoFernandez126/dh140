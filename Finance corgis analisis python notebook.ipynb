{
 "cells": [
  {
   "cell_type": "markdown",
   "id": "5561b4d3-0c37-43bd-9b7a-1273f285ba1f",
   "metadata": {},
   "source": [
    "# Finance Corgis Analysis by Alejo Fernandez DGTHUM 140 UCLA Winter 2022"
   ]
  },
  {
   "cell_type": "code",
   "execution_count": null,
   "id": "daa90c62-8689-4ec9-a3f6-00cdc27402d9",
   "metadata": {},
   "outputs": [],
   "source": []
  },
  {
   "cell_type": "markdown",
   "id": "b8b7facc-3da7-45d9-bacb-7884cbf760d2",
   "metadata": {},
   "source": []
  }
 ],
 "metadata": {
  "kernelspec": {
   "display_name": "Python 3 (ipykernel)",
   "language": "python",
   "name": "python3"
  },
  "language_info": {
   "codemirror_mode": {
    "name": "ipython",
    "version": 3
   },
   "file_extension": ".py",
   "mimetype": "text/x-python",
   "name": "python",
   "nbconvert_exporter": "python",
   "pygments_lexer": "ipython3",
   "version": "3.9.6"
  }
 },
 "nbformat": 4,
 "nbformat_minor": 5
}
