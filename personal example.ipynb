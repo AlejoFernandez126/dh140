{
 "cells": [
  {
   "cell_type": "markdown",
   "id": "7374dc48-da84-469c-9f50-9f6ffc861296",
   "metadata": {},
   "source": [
    "\n",
    "# this is my personal example, working towards asignmetn 2 dght hum 140 "
   ]
  },
  {
   "cell_type": "code",
   "execution_count": 2,
   "id": "b5df01e0-b64f-4c20-9dcc-f5386f738081",
   "metadata": {},
   "outputs": [],
   "source": [
    "import finance "
   ]
  },
  {
   "cell_type": "code",
   "execution_count": 3,
   "id": "6249fae0-fc8d-4f8e-9e23-b8d23b0f3e39",
   "metadata": {},
   "outputs": [],
   "source": [
    "record = finance.get_record()"
   ]
  },
  {
   "cell_type": "code",
   "execution_count": 4,
   "id": "2f575c73-98f9-4fcf-8423-1169b2feb020",
   "metadata": {},
   "outputs": [
    {
     "data": {
      "text/plain": [
       "list"
      ]
     },
     "execution_count": 4,
     "metadata": {},
     "output_type": "execute_result"
    }
   ],
   "source": [
    "type(record)"
   ]
  },
  {
   "cell_type": "code",
   "execution_count": 5,
   "id": "e253dd1c-5fee-4758-9c8b-82b9c8dd6d6e",
   "metadata": {},
   "outputs": [
    {
     "data": {
      "text/plain": [
       "['__add__',\n",
       " '__class__',\n",
       " '__class_getitem__',\n",
       " '__contains__',\n",
       " '__delattr__',\n",
       " '__delitem__',\n",
       " '__dir__',\n",
       " '__doc__',\n",
       " '__eq__',\n",
       " '__format__',\n",
       " '__ge__',\n",
       " '__getattribute__',\n",
       " '__getitem__',\n",
       " '__gt__',\n",
       " '__hash__',\n",
       " '__iadd__',\n",
       " '__imul__',\n",
       " '__init__',\n",
       " '__init_subclass__',\n",
       " '__iter__',\n",
       " '__le__',\n",
       " '__len__',\n",
       " '__lt__',\n",
       " '__mul__',\n",
       " '__ne__',\n",
       " '__new__',\n",
       " '__reduce__',\n",
       " '__reduce_ex__',\n",
       " '__repr__',\n",
       " '__reversed__',\n",
       " '__rmul__',\n",
       " '__setattr__',\n",
       " '__setitem__',\n",
       " '__sizeof__',\n",
       " '__str__',\n",
       " '__subclasshook__',\n",
       " 'append',\n",
       " 'clear',\n",
       " 'copy',\n",
       " 'count',\n",
       " 'extend',\n",
       " 'index',\n",
       " 'insert',\n",
       " 'pop',\n",
       " 'remove',\n",
       " 'reverse',\n",
       " 'sort']"
      ]
     },
     "execution_count": 5,
     "metadata": {},
     "output_type": "execute_result"
    }
   ],
   "source": [
    "dir(list)"
   ]
  },
  {
   "cell_type": "code",
   "execution_count": 141,
   "id": "25b353c9-2155-4075-9aee-d9673df58720",
   "metadata": {},
   "outputs": [
    {
     "data": {
      "text/plain": [
       "{'State': 'ALABAMA',\n",
       " 'Year': 1992,\n",
       " 'Totals': {'Capital outlay': 664748,\n",
       "  'Revenue': 10536166,\n",
       "  'Expenditure': 9650515,\n",
       "  'General expenditure': 8788293,\n",
       "  'General revenue': 8910315,\n",
       "  'Insurance trust  revenue': 1473217,\n",
       "  'Intergovernmental': 2737180,\n",
       "  'License tax': 395202,\n",
       "  'Selective sales tax': 1103368,\n",
       "  'Tax': 4217916,\n",
       "  ' Debt at end of fiscal year': 4128724},\n",
       " 'Details': {'Correction': {'Correction Total': 182698},\n",
       "  'Education': {'Education Total': 3570524},\n",
       "  'Financial Aid': {'Assistance and Subsidies': 273050,\n",
       "   'Cash and Securities Total': 14594322},\n",
       "  'Health': {'Health Total Expenditure': 394119},\n",
       "  'Intergovernmental': {'Intergovernmental Expenditure': 2143312,\n",
       "   'Intergovernmental to Combined and Unallocable': 518611},\n",
       "  'Natural Resources': {'Natural Resources Construction': 151432,\n",
       "   'Parks': {'Parks Total Expenditure': 9728}},\n",
       "  'Utilities': {'Utilities Current Operation': 5564374},\n",
       "  'Welfare': {'Welfare Institution Total Expenditure': 1853436},\n",
       "  'Transportation': {'Highways': {'Highways Total Expenditure': 694874}},\n",
       "  'Insurance benefits and repayments': 724852,\n",
       "  'Interest on debt': 280179,\n",
       "  'Interest on general debt': 280179,\n",
       "  'Miscellaneous general revenue': 607453,\n",
       "  'Other taxes': 205227,\n",
       "  'Police protection': 77789}}"
      ]
     },
     "execution_count": 141,
     "metadata": {},
     "output_type": "execute_result"
    }
   ],
   "source": [
    "record[0]"
   ]
  },
  {
   "cell_type": "code",
   "execution_count": 110,
   "id": "219d1424-d0a8-4d03-8579-35bb66d461b3",
   "metadata": {},
   "outputs": [],
   "source": [
    "ex= { 'question': 'who is the best', 'quest2': 'Best day ever june 7 2021' }"
   ]
  },
  {
   "cell_type": "code",
   "execution_count": 111,
   "id": "ed9eeb78-afb9-496d-bc8c-d5a2d5d22ba3",
   "metadata": {},
   "outputs": [
    {
     "data": {
      "text/plain": [
       "'Best day ever june 7 2021'"
      ]
     },
     "execution_count": 111,
     "metadata": {},
     "output_type": "execute_result"
    }
   ],
   "source": [
    "ex['quest2']"
   ]
  },
  {
   "cell_type": "code",
   "execution_count": 144,
   "id": "e3d21431-69c9-42b5-b93b-c411400edb40",
   "metadata": {},
   "outputs": [
    {
     "data": {
      "text/plain": [
       "1992"
      ]
     },
     "execution_count": 144,
     "metadata": {},
     "output_type": "execute_result"
    }
   ],
   "source": [
    "record[0] ['Year']"
   ]
  },
  {
   "cell_type": "code",
   "execution_count": 158,
   "id": "adcf6c2e-9baa-4929-88af-3464af6ce701",
   "metadata": {},
   "outputs": [
    {
     "ename": "SyntaxError",
     "evalue": "invalid syntax (657810555.py, line 1)",
     "output_type": "error",
     "traceback": [
      "\u001b[0;36m  File \u001b[0;32m\"/tmp/ipykernel_54/657810555.py\"\u001b[0;36m, line \u001b[0;32m1\u001b[0m\n\u001b[0;31m    def ex2(4):\u001b[0m\n\u001b[0m            ^\u001b[0m\n\u001b[0;31mSyntaxError\u001b[0m\u001b[0;31m:\u001b[0m invalid syntax\n"
     ]
    }
   ],
   "source": [
    "def ex2(4):\n",
    "    state = record[4] ['State']\n",
    "    year = record[4] ['Year']\n",
    "    tax = record[4]['Totals']['Tax']\n",
    "    return [state, year, tax]"
   ]
  },
  {
   "cell_type": "code",
   "execution_count": 159,
   "id": "ef350920-4328-464b-993d-baa7eb17a830",
   "metadata": {},
   "outputs": [
    {
     "data": {
      "text/plain": [
       "['ALABAMA', 1996, 5257771]"
      ]
     },
     "execution_count": 159,
     "metadata": {},
     "output_type": "execute_result"
    }
   ],
   "source": [
    "ex2(0)"
   ]
  },
  {
   "cell_type": "code",
   "execution_count": 161,
   "id": "aacd9f43-0017-44e7-98de-df1c0c779235",
   "metadata": {},
   "outputs": [],
   "source": [
    "def ex2(i):\n",
    "    state = record[59] ['State']\n",
    "    year = record[59] ['Year']\n",
    "    tax = record[59]['Totals']['Tax']\n",
    "    return [state, year, tax]"
   ]
  },
  {
   "cell_type": "code",
   "execution_count": 163,
   "id": "93b948db-bd21-49c0-abd2-9531f42e5515",
   "metadata": {},
   "outputs": [
    {
     "data": {
      "text/plain": [
       "['ARIZONA', 2016, 14962172]"
      ]
     },
     "execution_count": 163,
     "metadata": {},
     "output_type": "execute_result"
    }
   ],
   "source": [
    "ex2(2)"
   ]
  },
  {
   "cell_type": "code",
   "execution_count": 198,
   "id": "d329048e-9afe-491c-a474-7cb5605f3874",
   "metadata": {},
   "outputs": [],
   "source": [
    "def ex2(i):\n",
    "    state = record[99]['State']\n",
    "    year = record[99]['Year']\n",
    "    print(str( 'had a total revenue of' )) \n",
    "    debt = record[99]['Totals'] ['Revenue']\n",
    "    return [state, year, debt]"
   ]
  },
  {
   "cell_type": "code",
   "execution_count": 199,
   "id": "2c5adf51-dec9-496b-83aa-63b1758153a5",
   "metadata": {},
   "outputs": [
    {
     "name": "stdout",
     "output_type": "stream",
     "text": [
      "had a total revenue of\n"
     ]
    },
    {
     "data": {
      "text/plain": [
       "['CALIFORNIA', 2014, 344302107]"
      ]
     },
     "execution_count": 199,
     "metadata": {},
     "output_type": "execute_result"
    }
   ],
   "source": [
    "ex2(4)"
   ]
  },
  {
   "cell_type": "code",
   "execution_count": null,
   "id": "3efc4038-4d2d-4c25-be82-d399f5a6a34b",
   "metadata": {},
   "outputs": [],
   "source": []
  },
  {
   "cell_type": "code",
   "execution_count": 197,
   "id": "b7bf85a2-9c31-42cf-ad24-a4c09f89d111",
   "metadata": {},
   "outputs": [
    {
     "ename": "TypeError",
     "evalue": "bad operand type for unary +: 'str'",
     "output_type": "error",
     "traceback": [
      "\u001b[0;31m---------------------------------------------------------------------------\u001b[0m",
      "\u001b[0;31mTypeError\u001b[0m                                 Traceback (most recent call last)",
      "\u001b[0;32m/tmp/ipykernel_54/3965342780.py\u001b[0m in \u001b[0;36m<module>\u001b[0;34m\u001b[0m\n\u001b[0;32m----> 1\u001b[0;31m \u001b[0mex2\u001b[0m\u001b[0;34m(\u001b[0m\u001b[0;36m4\u001b[0m\u001b[0;34m)\u001b[0m\u001b[0;34m\u001b[0m\u001b[0;34m\u001b[0m\u001b[0m\n\u001b[0m",
      "\u001b[0;32m/tmp/ipykernel_54/770385011.py\u001b[0m in \u001b[0;36mex2\u001b[0;34m(i)\u001b[0m\n\u001b[1;32m      2\u001b[0m     \u001b[0mstate\u001b[0m \u001b[0;34m=\u001b[0m \u001b[0mrecord\u001b[0m\u001b[0;34m[\u001b[0m\u001b[0;36m99\u001b[0m\u001b[0;34m]\u001b[0m\u001b[0;34m[\u001b[0m\u001b[0;34m'State'\u001b[0m\u001b[0;34m]\u001b[0m\u001b[0;34m\u001b[0m\u001b[0;34m\u001b[0m\u001b[0m\n\u001b[1;32m      3\u001b[0m     \u001b[0myear\u001b[0m \u001b[0;34m=\u001b[0m \u001b[0mrecord\u001b[0m\u001b[0;34m[\u001b[0m\u001b[0;36m99\u001b[0m\u001b[0;34m]\u001b[0m\u001b[0;34m[\u001b[0m\u001b[0;34m'Year'\u001b[0m\u001b[0;34m]\u001b[0m\u001b[0;34m\u001b[0m\u001b[0;34m\u001b[0m\u001b[0m\n\u001b[0;32m----> 4\u001b[0;31m     \u001b[0;34m+\u001b[0m \u001b[0;34m' had a total revenue of '\u001b[0m\u001b[0;34m\u001b[0m\u001b[0;34m\u001b[0m\u001b[0m\n\u001b[0m\u001b[1;32m      5\u001b[0m     \u001b[0mdebt\u001b[0m \u001b[0;34m=\u001b[0m \u001b[0mrecord\u001b[0m\u001b[0;34m[\u001b[0m\u001b[0;36m99\u001b[0m\u001b[0;34m]\u001b[0m\u001b[0;34m[\u001b[0m\u001b[0;34m'Totals'\u001b[0m\u001b[0;34m]\u001b[0m \u001b[0;34m[\u001b[0m\u001b[0;34m'Revenue'\u001b[0m\u001b[0;34m]\u001b[0m\u001b[0;34m\u001b[0m\u001b[0;34m\u001b[0m\u001b[0m\n\u001b[1;32m      6\u001b[0m     \u001b[0;32mreturn\u001b[0m \u001b[0;34m[\u001b[0m\u001b[0mstate\u001b[0m\u001b[0;34m,\u001b[0m \u001b[0myear\u001b[0m\u001b[0;34m,\u001b[0m \u001b[0mdebt\u001b[0m\u001b[0;34m]\u001b[0m\u001b[0;34m\u001b[0m\u001b[0;34m\u001b[0m\u001b[0m\n",
      "\u001b[0;31mTypeError\u001b[0m: bad operand type for unary +: 'str'"
     ]
    }
   ],
   "source": [
    "ex2(4)"
   ]
  },
  {
   "cell_type": "code",
   "execution_count": null,
   "id": "0cdc8076-67d2-47d6-a6ef-59f241064b82",
   "metadata": {},
   "outputs": [],
   "source": []
  },
  {
   "cell_type": "code",
   "execution_count": null,
   "id": "6e62cc3f-3ec2-4f7c-b3c1-d960c395d156",
   "metadata": {},
   "outputs": [],
   "source": []
  },
  {
   "cell_type": "code",
   "execution_count": 194,
   "id": "d38115d6-5c36-4065-83eb-9c881226cee6",
   "metadata": {},
   "outputs": [
    {
     "data": {
      "text/plain": [
       "['CALIFORNIA', 2014, 344302107]"
      ]
     },
     "execution_count": 194,
     "metadata": {},
     "output_type": "execute_result"
    }
   ],
   "source": [
    "ex2(3)"
   ]
  },
  {
   "cell_type": "code",
   "execution_count": null,
   "id": "94dd4939-a620-47f9-bfc1-043149519ec3",
   "metadata": {},
   "outputs": [],
   "source": []
  },
  {
   "cell_type": "code",
   "execution_count": 192,
   "id": "a5edba6c-91b9-48c4-a225-6c5d231a2d74",
   "metadata": {},
   "outputs": [
    {
     "data": {
      "text/plain": [
       "['CALIFORNIA',\n",
       " 2014,\n",
       " {'Capital outlay': 10136020,\n",
       "  'Revenue': 344302107,\n",
       "  'Expenditure': 286668146,\n",
       "  'General expenditure': 235768201,\n",
       "  'General revenue': 230758996,\n",
       "  'Insurance trust  revenue': 112549159,\n",
       "  'Intergovernmental': 63516604,\n",
       "  'License tax': 9004009,\n",
       "  'Selective sales tax': 12720611,\n",
       "  'Tax': 138087357,\n",
       "  ' Debt at end of fiscal year': 156807868}]"
      ]
     },
     "execution_count": 192,
     "metadata": {},
     "output_type": "execute_result"
    }
   ],
   "source": [
    "ex2(2)"
   ]
  },
  {
   "cell_type": "code",
   "execution_count": null,
   "id": "ccfb6498-d13c-4130-b4f1-ec44641c3453",
   "metadata": {},
   "outputs": [],
   "source": []
  },
  {
   "cell_type": "code",
   "execution_count": 190,
   "id": "36623369-0afa-4319-8f8d-22b1e95d6418",
   "metadata": {},
   "outputs": [
    {
     "ename": "KeyError",
     "evalue": "'Debt at end of fiscal year'",
     "output_type": "error",
     "traceback": [
      "\u001b[0;31m---------------------------------------------------------------------------\u001b[0m",
      "\u001b[0;31mKeyError\u001b[0m                                  Traceback (most recent call last)",
      "\u001b[0;32m/tmp/ipykernel_54/165603437.py\u001b[0m in \u001b[0;36m<module>\u001b[0;34m\u001b[0m\n\u001b[0;32m----> 1\u001b[0;31m \u001b[0mex2\u001b[0m\u001b[0;34m(\u001b[0m\u001b[0;36m2\u001b[0m\u001b[0;34m)\u001b[0m\u001b[0;34m\u001b[0m\u001b[0;34m\u001b[0m\u001b[0m\n\u001b[0m",
      "\u001b[0;32m/tmp/ipykernel_54/2334321935.py\u001b[0m in \u001b[0;36mex2\u001b[0;34m(i)\u001b[0m\n\u001b[1;32m      2\u001b[0m     \u001b[0mstate\u001b[0m \u001b[0;34m=\u001b[0m \u001b[0mrecord\u001b[0m\u001b[0;34m[\u001b[0m\u001b[0;36m99\u001b[0m\u001b[0;34m]\u001b[0m\u001b[0;34m[\u001b[0m\u001b[0;34m'State'\u001b[0m\u001b[0;34m]\u001b[0m\u001b[0;34m\u001b[0m\u001b[0;34m\u001b[0m\u001b[0m\n\u001b[1;32m      3\u001b[0m     \u001b[0myear\u001b[0m \u001b[0;34m=\u001b[0m \u001b[0mrecord\u001b[0m\u001b[0;34m[\u001b[0m\u001b[0;36m99\u001b[0m\u001b[0;34m]\u001b[0m\u001b[0;34m[\u001b[0m\u001b[0;34m'Year'\u001b[0m\u001b[0;34m]\u001b[0m\u001b[0;34m\u001b[0m\u001b[0;34m\u001b[0m\u001b[0m\n\u001b[0;32m----> 4\u001b[0;31m     \u001b[0mdebt\u001b[0m \u001b[0;34m=\u001b[0m \u001b[0mrecord\u001b[0m\u001b[0;34m[\u001b[0m\u001b[0;36m99\u001b[0m\u001b[0;34m]\u001b[0m\u001b[0;34m[\u001b[0m\u001b[0;34m'Totals'\u001b[0m\u001b[0;34m]\u001b[0m \u001b[0;34m[\u001b[0m\u001b[0;34m'Debt at end of fiscal year'\u001b[0m\u001b[0;34m]\u001b[0m\u001b[0;34m\u001b[0m\u001b[0;34m\u001b[0m\u001b[0m\n\u001b[0m\u001b[1;32m      5\u001b[0m     \u001b[0;32mreturn\u001b[0m \u001b[0;34m[\u001b[0m\u001b[0mstate\u001b[0m\u001b[0;34m,\u001b[0m \u001b[0myear\u001b[0m\u001b[0;34m,\u001b[0m \u001b[0mdebt\u001b[0m\u001b[0;34m]\u001b[0m\u001b[0;34m\u001b[0m\u001b[0;34m\u001b[0m\u001b[0m\n",
      "\u001b[0;31mKeyError\u001b[0m: 'Debt at end of fiscal year'"
     ]
    }
   ],
   "source": [
    "ex2(2)"
   ]
  },
  {
   "cell_type": "code",
   "execution_count": null,
   "id": "ba21545e-bbe7-48e8-a81c-324d67acf411",
   "metadata": {},
   "outputs": [],
   "source": []
  },
  {
   "cell_type": "code",
   "execution_count": 188,
   "id": "641f169d-2094-44c8-8195-7410440be252",
   "metadata": {},
   "outputs": [
    {
     "ename": "KeyError",
     "evalue": "'Debt at end of fiscal year'",
     "output_type": "error",
     "traceback": [
      "\u001b[0;31m---------------------------------------------------------------------------\u001b[0m",
      "\u001b[0;31mKeyError\u001b[0m                                  Traceback (most recent call last)",
      "\u001b[0;32m/tmp/ipykernel_54/2800147294.py\u001b[0m in \u001b[0;36m<module>\u001b[0;34m\u001b[0m\n\u001b[0;32m----> 1\u001b[0;31m \u001b[0mex2\u001b[0m\u001b[0;34m(\u001b[0m\u001b[0;36m99\u001b[0m\u001b[0;34m)\u001b[0m\u001b[0;34m\u001b[0m\u001b[0;34m\u001b[0m\u001b[0m\n\u001b[0m",
      "\u001b[0;32m/tmp/ipykernel_54/107725298.py\u001b[0m in \u001b[0;36mex2\u001b[0;34m(i)\u001b[0m\n\u001b[1;32m      2\u001b[0m     \u001b[0mstate\u001b[0m \u001b[0;34m=\u001b[0m \u001b[0mrecord\u001b[0m\u001b[0;34m[\u001b[0m\u001b[0;36m99\u001b[0m\u001b[0;34m]\u001b[0m\u001b[0;34m[\u001b[0m\u001b[0;34m'State'\u001b[0m\u001b[0;34m]\u001b[0m\u001b[0;34m\u001b[0m\u001b[0;34m\u001b[0m\u001b[0m\n\u001b[1;32m      3\u001b[0m     \u001b[0myear\u001b[0m \u001b[0;34m=\u001b[0m \u001b[0mrecord\u001b[0m\u001b[0;34m[\u001b[0m\u001b[0;36m99\u001b[0m\u001b[0;34m]\u001b[0m\u001b[0;34m[\u001b[0m\u001b[0;34m'Year'\u001b[0m\u001b[0;34m]\u001b[0m\u001b[0;34m\u001b[0m\u001b[0;34m\u001b[0m\u001b[0m\n\u001b[0;32m----> 4\u001b[0;31m     \u001b[0mdebt\u001b[0m \u001b[0;34m=\u001b[0m \u001b[0mrecord\u001b[0m\u001b[0;34m[\u001b[0m\u001b[0;36m99\u001b[0m\u001b[0;34m]\u001b[0m\u001b[0;34m[\u001b[0m\u001b[0;34m'Totals'\u001b[0m\u001b[0;34m]\u001b[0m \u001b[0;34m[\u001b[0m\u001b[0;34m'Debt at end of fiscal year'\u001b[0m\u001b[0;34m]\u001b[0m\u001b[0;34m\u001b[0m\u001b[0;34m\u001b[0m\u001b[0m\n\u001b[0m\u001b[1;32m      5\u001b[0m     \u001b[0;32mreturn\u001b[0m \u001b[0;34m[\u001b[0m\u001b[0mstate\u001b[0m\u001b[0;34m,\u001b[0m \u001b[0myear\u001b[0m\u001b[0;34m,\u001b[0m \u001b[0mwelfare\u001b[0m\u001b[0;34m]\u001b[0m\u001b[0;34m\u001b[0m\u001b[0;34m\u001b[0m\u001b[0m\n",
      "\u001b[0;31mKeyError\u001b[0m: 'Debt at end of fiscal year'"
     ]
    }
   ],
   "source": [
    "ex2(99)"
   ]
  },
  {
   "cell_type": "code",
   "execution_count": null,
   "id": "826b3aa9-9754-4d5b-b6b1-5b7b69bae1c8",
   "metadata": {},
   "outputs": [],
   "source": []
  },
  {
   "cell_type": "code",
   "execution_count": null,
   "id": "962d68be-5187-4f0b-a581-9bd6c24f5b6f",
   "metadata": {},
   "outputs": [],
   "source": []
  },
  {
   "cell_type": "code",
   "execution_count": null,
   "id": "87a10313-a788-4165-bb28-a3c41beef954",
   "metadata": {},
   "outputs": [],
   "source": []
  },
  {
   "cell_type": "code",
   "execution_count": null,
   "id": "40e8e711-e60e-4b5e-a7bb-b57a48035288",
   "metadata": {},
   "outputs": [],
   "source": []
  },
  {
   "cell_type": "code",
   "execution_count": 182,
   "id": "e8f144e6-a0c0-434b-9b05-0724249045f4",
   "metadata": {},
   "outputs": [
    {
     "ename": "KeyError",
     "evalue": "'Education total'",
     "output_type": "error",
     "traceback": [
      "\u001b[0;31m---------------------------------------------------------------------------\u001b[0m",
      "\u001b[0;31mKeyError\u001b[0m                                  Traceback (most recent call last)",
      "\u001b[0;32m/tmp/ipykernel_54/165603437.py\u001b[0m in \u001b[0;36m<module>\u001b[0;34m\u001b[0m\n\u001b[0;32m----> 1\u001b[0;31m \u001b[0mex2\u001b[0m\u001b[0;34m(\u001b[0m\u001b[0;36m2\u001b[0m\u001b[0;34m)\u001b[0m\u001b[0;34m\u001b[0m\u001b[0;34m\u001b[0m\u001b[0m\n\u001b[0m",
      "\u001b[0;32m/tmp/ipykernel_54/1321329273.py\u001b[0m in \u001b[0;36mex2\u001b[0;34m(i)\u001b[0m\n\u001b[1;32m      2\u001b[0m     \u001b[0mstate\u001b[0m \u001b[0;34m=\u001b[0m \u001b[0mrecord\u001b[0m\u001b[0;34m[\u001b[0m\u001b[0;36m99\u001b[0m\u001b[0;34m]\u001b[0m\u001b[0;34m[\u001b[0m\u001b[0;34m'State'\u001b[0m\u001b[0;34m]\u001b[0m\u001b[0;34m\u001b[0m\u001b[0;34m\u001b[0m\u001b[0m\n\u001b[1;32m      3\u001b[0m     \u001b[0myear\u001b[0m \u001b[0;34m=\u001b[0m \u001b[0mrecord\u001b[0m\u001b[0;34m[\u001b[0m\u001b[0;36m99\u001b[0m\u001b[0;34m]\u001b[0m\u001b[0;34m[\u001b[0m\u001b[0;34m'Year'\u001b[0m\u001b[0;34m]\u001b[0m\u001b[0;34m\u001b[0m\u001b[0;34m\u001b[0m\u001b[0m\n\u001b[0;32m----> 4\u001b[0;31m     \u001b[0mwelfare\u001b[0m \u001b[0;34m=\u001b[0m \u001b[0mrecord\u001b[0m\u001b[0;34m[\u001b[0m\u001b[0;36m99\u001b[0m\u001b[0;34m]\u001b[0m\u001b[0;34m[\u001b[0m\u001b[0;34m'Education total'\u001b[0m\u001b[0;34m]\u001b[0m\u001b[0;34m\u001b[0m\u001b[0;34m\u001b[0m\u001b[0m\n\u001b[0m\u001b[1;32m      5\u001b[0m     \u001b[0;32mreturn\u001b[0m \u001b[0;34m[\u001b[0m\u001b[0mstate\u001b[0m\u001b[0;34m,\u001b[0m \u001b[0myear\u001b[0m\u001b[0;34m,\u001b[0m \u001b[0mwelfare\u001b[0m\u001b[0;34m]\u001b[0m\u001b[0;34m\u001b[0m\u001b[0;34m\u001b[0m\u001b[0m\n",
      "\u001b[0;31mKeyError\u001b[0m: 'Education total'"
     ]
    }
   ],
   "source": [
    "ex2(2)"
   ]
  },
  {
   "cell_type": "code",
   "execution_count": null,
   "id": "8b3c6be9-f8af-4ab6-b2e8-6f004de72761",
   "metadata": {},
   "outputs": [],
   "source": []
  },
  {
   "cell_type": "code",
   "execution_count": null,
   "id": "3c158220-73dd-40fd-9759-3bf3a70bfe16",
   "metadata": {},
   "outputs": [],
   "source": []
  },
  {
   "cell_type": "code",
   "execution_count": null,
   "id": "4d063371-79f7-4474-b537-fc52c9261618",
   "metadata": {},
   "outputs": [],
   "source": []
  },
  {
   "cell_type": "code",
   "execution_count": null,
   "id": "8a279862-fc28-453d-84fe-805c8a3146d3",
   "metadata": {},
   "outputs": [],
   "source": []
  },
  {
   "cell_type": "code",
   "execution_count": 180,
   "id": "d7ba00d0-8ba7-491c-9da6-1fbcf0383e37",
   "metadata": {},
   "outputs": [
    {
     "ename": "KeyError",
     "evalue": "'Education total'",
     "output_type": "error",
     "traceback": [
      "\u001b[0;31m---------------------------------------------------------------------------\u001b[0m",
      "\u001b[0;31mKeyError\u001b[0m                                  Traceback (most recent call last)",
      "\u001b[0;32m/tmp/ipykernel_54/165603437.py\u001b[0m in \u001b[0;36m<module>\u001b[0;34m\u001b[0m\n\u001b[0;32m----> 1\u001b[0;31m \u001b[0mex2\u001b[0m\u001b[0;34m(\u001b[0m\u001b[0;36m2\u001b[0m\u001b[0;34m)\u001b[0m\u001b[0;34m\u001b[0m\u001b[0;34m\u001b[0m\u001b[0m\n\u001b[0m",
      "\u001b[0;32m/tmp/ipykernel_54/3992385742.py\u001b[0m in \u001b[0;36mex2\u001b[0;34m(i)\u001b[0m\n\u001b[1;32m      2\u001b[0m     \u001b[0mstate\u001b[0m \u001b[0;34m=\u001b[0m \u001b[0mrecord\u001b[0m\u001b[0;34m[\u001b[0m\u001b[0;36m99\u001b[0m\u001b[0;34m]\u001b[0m\u001b[0;34m[\u001b[0m\u001b[0;34m'State'\u001b[0m\u001b[0;34m]\u001b[0m\u001b[0;34m\u001b[0m\u001b[0;34m\u001b[0m\u001b[0m\n\u001b[1;32m      3\u001b[0m     \u001b[0myear\u001b[0m \u001b[0;34m=\u001b[0m \u001b[0mrecord\u001b[0m\u001b[0;34m[\u001b[0m\u001b[0;36m99\u001b[0m\u001b[0;34m]\u001b[0m\u001b[0;34m[\u001b[0m\u001b[0;34m'Year'\u001b[0m\u001b[0;34m]\u001b[0m\u001b[0;34m\u001b[0m\u001b[0;34m\u001b[0m\u001b[0m\n\u001b[0;32m----> 4\u001b[0;31m     \u001b[0mwelfare\u001b[0m \u001b[0;34m=\u001b[0m \u001b[0mrecord\u001b[0m\u001b[0;34m[\u001b[0m\u001b[0;36m99\u001b[0m\u001b[0;34m]\u001b[0m\u001b[0;34m[\u001b[0m\u001b[0;34m'Details'\u001b[0m\u001b[0;34m]\u001b[0m \u001b[0;34m[\u001b[0m\u001b[0;34m'Education total'\u001b[0m\u001b[0;34m]\u001b[0m\u001b[0;34m\u001b[0m\u001b[0;34m\u001b[0m\u001b[0m\n\u001b[0m\u001b[1;32m      5\u001b[0m     \u001b[0;32mreturn\u001b[0m \u001b[0;34m[\u001b[0m\u001b[0mstate\u001b[0m\u001b[0;34m,\u001b[0m \u001b[0myear\u001b[0m\u001b[0;34m,\u001b[0m \u001b[0mwelfare\u001b[0m\u001b[0;34m]\u001b[0m\u001b[0;34m\u001b[0m\u001b[0;34m\u001b[0m\u001b[0m\n",
      "\u001b[0;31mKeyError\u001b[0m: 'Education total'"
     ]
    }
   ],
   "source": [
    "ex2(2)"
   ]
  },
  {
   "cell_type": "code",
   "execution_count": null,
   "id": "d6c936e2-a377-4931-92a1-f3c3a401cbbe",
   "metadata": {},
   "outputs": [],
   "source": []
  },
  {
   "cell_type": "code",
   "execution_count": null,
   "id": "74ee60dc-08f3-47c1-92ad-4751b5b99eed",
   "metadata": {},
   "outputs": [],
   "source": []
  },
  {
   "cell_type": "code",
   "execution_count": null,
   "id": "88cb4946-edb4-47f2-939a-5f62970934f0",
   "metadata": {},
   "outputs": [],
   "source": []
  },
  {
   "cell_type": "code",
   "execution_count": null,
   "id": "c91c13f0-fdd2-4958-b620-fca1d284425b",
   "metadata": {},
   "outputs": [],
   "source": []
  },
  {
   "cell_type": "code",
   "execution_count": 172,
   "id": "c26c6566-4089-4786-8c97-5184d15fe2b2",
   "metadata": {},
   "outputs": [
    {
     "ename": "KeyError",
     "evalue": "'Welfare'",
     "output_type": "error",
     "traceback": [
      "\u001b[0;31m---------------------------------------------------------------------------\u001b[0m",
      "\u001b[0;31mKeyError\u001b[0m                                  Traceback (most recent call last)",
      "\u001b[0;32m/tmp/ipykernel_54/3558729618.py\u001b[0m in \u001b[0;36m<module>\u001b[0;34m\u001b[0m\n\u001b[0;32m----> 1\u001b[0;31m \u001b[0mex2\u001b[0m\u001b[0;34m(\u001b[0m\u001b[0;36m1\u001b[0m\u001b[0;34m)\u001b[0m\u001b[0;34m\u001b[0m\u001b[0;34m\u001b[0m\u001b[0m\n\u001b[0m",
      "\u001b[0;32m/tmp/ipykernel_54/1545753441.py\u001b[0m in \u001b[0;36mex2\u001b[0;34m(i)\u001b[0m\n\u001b[1;32m      2\u001b[0m     \u001b[0mstate\u001b[0m \u001b[0;34m=\u001b[0m \u001b[0mrecord\u001b[0m\u001b[0;34m[\u001b[0m\u001b[0;36m99\u001b[0m\u001b[0;34m]\u001b[0m \u001b[0;34m[\u001b[0m\u001b[0;34m'State'\u001b[0m\u001b[0;34m]\u001b[0m\u001b[0;34m\u001b[0m\u001b[0;34m\u001b[0m\u001b[0m\n\u001b[1;32m      3\u001b[0m     \u001b[0myear\u001b[0m \u001b[0;34m=\u001b[0m \u001b[0mrecord\u001b[0m\u001b[0;34m[\u001b[0m\u001b[0;36m99\u001b[0m\u001b[0;34m]\u001b[0m \u001b[0;34m[\u001b[0m\u001b[0;34m'Year'\u001b[0m\u001b[0;34m]\u001b[0m\u001b[0;34m\u001b[0m\u001b[0;34m\u001b[0m\u001b[0m\n\u001b[0;32m----> 4\u001b[0;31m     \u001b[0mwelfare\u001b[0m \u001b[0;34m=\u001b[0m \u001b[0mrecord\u001b[0m\u001b[0;34m[\u001b[0m\u001b[0;36m99\u001b[0m\u001b[0;34m]\u001b[0m\u001b[0;34m[\u001b[0m\u001b[0;34m'Totals'\u001b[0m\u001b[0;34m]\u001b[0m\u001b[0;34m[\u001b[0m\u001b[0;34m'Welfare'\u001b[0m\u001b[0;34m]\u001b[0m\u001b[0;34m\u001b[0m\u001b[0;34m\u001b[0m\u001b[0m\n\u001b[0m\u001b[1;32m      5\u001b[0m     \u001b[0;32mreturn\u001b[0m \u001b[0;34m[\u001b[0m\u001b[0mstate\u001b[0m\u001b[0;34m,\u001b[0m \u001b[0myear\u001b[0m\u001b[0;34m,\u001b[0m \u001b[0mwelfare\u001b[0m\u001b[0;34m]\u001b[0m\u001b[0;34m\u001b[0m\u001b[0;34m\u001b[0m\u001b[0m\n",
      "\u001b[0;31mKeyError\u001b[0m: 'Welfare'"
     ]
    }
   ],
   "source": [
    "ex2(1)"
   ]
  },
  {
   "cell_type": "code",
   "execution_count": 167,
   "id": "e7628629-e804-4684-a0dd-43eeab5f0c55",
   "metadata": {},
   "outputs": [
    {
     "data": {
      "text/plain": [
       "['CALIFORNIA', 2014, 138087357]"
      ]
     },
     "execution_count": 167,
     "metadata": {},
     "output_type": "execute_result"
    }
   ],
   "source": [
    "ex2(1)"
   ]
  },
  {
   "cell_type": "code",
   "execution_count": null,
   "id": "45381f76-3b9a-4d35-8573-ce7397fcaf83",
   "metadata": {},
   "outputs": [],
   "source": [
    "# Above i have made a coded and i have some what began to understnad it... the title of the the fucntion iex2. the fucntion will output the state year and taxof whaatever record youout inside[record number]"
   ]
  },
  {
   "cell_type": "code",
   "execution_count": null,
   "id": "782970a2-2a1e-4128-9deb-8b4ea4ed8d90",
   "metadata": {},
   "outputs": [],
   "source": []
  },
  {
   "cell_type": "code",
   "execution_count": null,
   "id": "5c1d37b4-98f1-43a2-ae53-43d6570c18a0",
   "metadata": {},
   "outputs": [],
   "source": [
    "Welfare': {'Welfare Institution Total Expenditure'"
   ]
  },
  {
   "cell_type": "code",
   "execution_count": 150,
   "id": "19ff0b68-5bf0-459f-be35-2b6267af7eed",
   "metadata": {},
   "outputs": [
    {
     "data": {
      "text/plain": [
       "['ALABAMA', 1992, 4217916]"
      ]
     },
     "execution_count": 150,
     "metadata": {},
     "output_type": "execute_result"
    }
   ],
   "source": [
    "ex2(4)"
   ]
  },
  {
   "cell_type": "code",
   "execution_count": null,
   "id": "96e9e855-8ff1-4455-866e-c7517c243866",
   "metadata": {},
   "outputs": [],
   "source": []
  },
  {
   "cell_type": "code",
   "execution_count": 109,
   "id": "07ebaffc-6434-4ad3-ba72-e549f0b0db0c",
   "metadata": {},
   "outputs": [
    {
     "data": {
      "text/plain": [
       "'who is the best'"
      ]
     },
     "execution_count": 109,
     "metadata": {},
     "output_type": "execute_result"
    }
   ],
   "source": [
    "ex['question']"
   ]
  },
  {
   "cell_type": "code",
   "execution_count": 112,
   "id": "5ef4940a-ee8a-4a1f-af83-f0cbbd9a988d",
   "metadata": {},
   "outputs": [
    {
     "data": {
      "text/plain": [
       "True"
      ]
     },
     "execution_count": 112,
     "metadata": {},
     "output_type": "execute_result"
    }
   ],
   "source": [
    "3==3"
   ]
  },
  {
   "cell_type": "code",
   "execution_count": 122,
   "id": "233233ba-b721-46aa-a3b5-826e5733cf67",
   "metadata": {},
   "outputs": [
    {
     "data": {
      "text/plain": [
       "{'State': 'ALABAMA',\n",
       " 'Year': 1992,\n",
       " 'Totals': {'Capital outlay': 664748,\n",
       "  'Revenue': 10536166,\n",
       "  'Expenditure': 9650515,\n",
       "  'General expenditure': 8788293,\n",
       "  'General revenue': 8910315,\n",
       "  'Insurance trust  revenue': 1473217,\n",
       "  'Intergovernmental': 2737180,\n",
       "  'License tax': 395202,\n",
       "  'Selective sales tax': 1103368,\n",
       "  'Tax': 4217916,\n",
       "  ' Debt at end of fiscal year': 4128724},\n",
       " 'Details': {'Correction': {'Correction Total': 182698},\n",
       "  'Education': {'Education Total': 3570524},\n",
       "  'Financial Aid': {'Assistance and Subsidies': 273050,\n",
       "   'Cash and Securities Total': 14594322},\n",
       "  'Health': {'Health Total Expenditure': 394119},\n",
       "  'Intergovernmental': {'Intergovernmental Expenditure': 2143312,\n",
       "   'Intergovernmental to Combined and Unallocable': 518611},\n",
       "  'Natural Resources': {'Natural Resources Construction': 151432,\n",
       "   'Parks': {'Parks Total Expenditure': 9728}},\n",
       "  'Utilities': {'Utilities Current Operation': 5564374},\n",
       "  'Welfare': {'Welfare Institution Total Expenditure': 1853436},\n",
       "  'Transportation': {'Highways': {'Highways Total Expenditure': 694874}},\n",
       "  'Insurance benefits and repayments': 724852,\n",
       "  'Interest on debt': 280179,\n",
       "  'Interest on general debt': 280179,\n",
       "  'Miscellaneous general revenue': 607453,\n",
       "  'Other taxes': 205227,\n",
       "  'Police protection': 77789}}"
      ]
     },
     "execution_count": 122,
     "metadata": {},
     "output_type": "execute_result"
    }
   ],
   "source": [
    "record[0]"
   ]
  },
  {
   "cell_type": "code",
   "execution_count": null,
   "id": "901743cc-c285-4626-b231-3b92e2519da6",
   "metadata": {},
   "outputs": [],
   "source": []
  },
  {
   "cell_type": "code",
   "execution_count": null,
   "id": "99713541-807a-4116-a145-d0330dd942eb",
   "metadata": {},
   "outputs": [],
   "source": []
  },
  {
   "cell_type": "code",
   "execution_count": 115,
   "id": "691a8493-87d0-413f-83af-2ce740d305f5",
   "metadata": {},
   "outputs": [
    {
     "data": {
      "text/plain": [
       "dict_keys(['State', 'Year', 'Totals', 'Details'])"
      ]
     },
     "execution_count": 115,
     "metadata": {},
     "output_type": "execute_result"
    }
   ],
   "source": [
    "record[0].keys()"
   ]
  },
  {
   "cell_type": "code",
   "execution_count": 120,
   "id": "81323734-1df0-4f76-9672-42cc833b3dac",
   "metadata": {},
   "outputs": [
    {
     "ename": "ValueError",
     "evalue": "{'state': 'CALIFORNIA'} is not in list",
     "output_type": "error",
     "traceback": [
      "\u001b[0;31m---------------------------------------------------------------------------\u001b[0m",
      "\u001b[0;31mValueError\u001b[0m                                Traceback (most recent call last)",
      "\u001b[0;32m/tmp/ipykernel_54/4249519196.py\u001b[0m in \u001b[0;36m<module>\u001b[0;34m\u001b[0m\n\u001b[0;32m----> 1\u001b[0;31m \u001b[0mrecord\u001b[0m\u001b[0;34m.\u001b[0m\u001b[0mindex\u001b[0m\u001b[0;34m(\u001b[0m \u001b[0;34m{\u001b[0m\u001b[0;34m'state'\u001b[0m\u001b[0;34m:\u001b[0m \u001b[0;34m'CALIFORNIA'\u001b[0m\u001b[0;34m}\u001b[0m\u001b[0;34m)\u001b[0m\u001b[0;34m\u001b[0m\u001b[0;34m\u001b[0m\u001b[0m\n\u001b[0m",
      "\u001b[0;31mValueError\u001b[0m: {'state': 'CALIFORNIA'} is not in list"
     ]
    }
   ],
   "source": [
    "record.index( ' )"
   ]
  },
  {
   "cell_type": "code",
   "execution_count": 31,
   "id": "eafba2e8-2e1c-44f6-8203-21848a422fe9",
   "metadata": {},
   "outputs": [
    {
     "data": {
      "text/plain": [
       "{'State': 'CALIFORNIA',\n",
       " 'Year': 2015,\n",
       " 'Totals': {'Capital outlay': 10183475,\n",
       "  'Revenue': 317407713,\n",
       "  'Expenditure': 320288030,\n",
       "  'General expenditure': 269774501,\n",
       "  'General revenue': 265499211,\n",
       "  'Insurance trust  revenue': 50905722,\n",
       "  'Intergovernmental': 82907118,\n",
       "  'License tax': 9420863,\n",
       "  'Selective sales tax': 13947655,\n",
       "  'Tax': 151234534,\n",
       "  ' Debt at end of fiscal year': 151715007},\n",
       " 'Details': {'Correction': {'Correction Total': 9667904},\n",
       "  'Education': {'Education Total': 90276519},\n",
       "  'Financial Aid': {'Assistance and Subsidies': 4930538,\n",
       "   'Cash and Securities Total': 451011171},\n",
       "  'Health': {'Health Total Expenditure': 8177522},\n",
       "  'Intergovernmental': {'Intergovernmental Expenditure': 97968328,\n",
       "   'Intergovernmental to Combined and Unallocable': 9235789},\n",
       "  'Natural Resources': {'Natural Resources Construction': 3809737,\n",
       "   'Parks': {'Parks Total Expenditure': 529286}},\n",
       "  'Utilities': {'Utilities Current Operation': 151981870},\n",
       "  'Welfare': {'Welfare Institution Total Expenditure': 109031702},\n",
       "  'Transportation': {'Highways': {'Highways Total Expenditure': 10529860}},\n",
       "  'Insurance benefits and repayments': 47828113,\n",
       "  'Interest on debt': 7395706,\n",
       "  'Interest on general debt': 7168706,\n",
       "  'Miscellaneous general revenue': 9984477,\n",
       "  'Other taxes': 2464579,\n",
       "  'Police protection': 1790672}}"
      ]
     },
     "execution_count": 31,
     "metadata": {},
     "output_type": "execute_result"
    }
   ],
   "source": [
    "record[100] "
   ]
  },
  {
   "cell_type": "code",
   "execution_count": null,
   "id": "bb6efd78-e4dd-4a1b-a3b6-3951e99a5a21",
   "metadata": {},
   "outputs": [],
   "source": [
    "## this is a code that outputs the name of the record number with the year associated with that state and lastly the states general expendtiture for that year"
   ]
  },
  {
   "cell_type": "code",
   "execution_count": 89,
   "id": "f6edd205-b2bf-494d-a178-5e32835ded5b",
   "metadata": {},
   "outputs": [],
   "source": [
    "def name(i):\n",
    "    state = record[99]['State']\n",
    "    year = record[99]['Year']\n",
    "    genexpenditure = record[99]['Totals'] ['General expenditure']\n",
    "    return [state, year, genexpenditure]"
   ]
  },
  {
   "cell_type": "code",
   "execution_count": 90,
   "id": "aaf2ead9-ba2b-450a-a045-4c4e3a472eba",
   "metadata": {},
   "outputs": [
    {
     "data": {
      "text/plain": [
       "['CALIFORNIA', 2014, 235768201]"
      ]
     },
     "execution_count": 90,
     "metadata": {},
     "output_type": "execute_result"
    }
   ],
   "source": [
    "name(99)"
   ]
  },
  {
   "cell_type": "code",
   "execution_count": null,
   "id": "aef392ff-5a6d-4e77-8194-ca6fea2535f7",
   "metadata": {},
   "outputs": [],
   "source": [
    "def getinfo(i)\n",
    "    state = "
   ]
  },
  {
   "cell_type": "code",
   "execution_count": null,
   "id": "a1bb83c4-fc16-41ac-b4ef-0cb2025a5ae1",
   "metadata": {},
   "outputs": [
    {
     "data": {
      "text/plain": [
       "['CALIFORNIA', 2014, 235768201]"
      ]
     },
     "execution_count": 79,
     "metadata": {},
     "output_type": "execute_result"
    }
   ],
   "source": [
    "name(99"
   ]
  },
  {
   "cell_type": "code",
   "execution_count": null,
   "id": "7df8d678-4f7b-4ae2-a40a-f9de6d2b7c4c",
   "metadata": {},
   "outputs": [],
   "source": []
  },
  {
   "cell_type": "code",
   "execution_count": 51,
   "id": "ec754553-535e-4ae5-9d7e-597e23223fe2",
   "metadata": {},
   "outputs": [
    {
     "data": {
      "text/plain": [
       "['ALABAMA', 1992, 8788293]"
      ]
     },
     "execution_count": 51,
     "metadata": {},
     "output_type": "execute_result"
    }
   ],
   "source": [
    "name(100)"
   ]
  },
  {
   "cell_type": "code",
   "execution_count": 86,
   "id": "ff51537a-e46e-44e7-b2f1-36f3a652dcb8",
   "metadata": {},
   "outputs": [],
   "source": [
    "def getstate(i):\n",
    "    return {record[i]['State']: record[i]['Totals']['Tax'],'Revenue': record[i]['Totals']['Revenue']}"
   ]
  },
  {
   "cell_type": "code",
   "execution_count": 88,
   "id": "73674c3f-7b53-4f9c-bdfe-37f85433a91f",
   "metadata": {},
   "outputs": [
    {
     "data": {
      "text/plain": [
       "{'ALABAMA': 6747707, 'Revenue': 17859899}"
      ]
     },
     "execution_count": 88,
     "metadata": {},
     "output_type": "execute_result"
    }
   ],
   "source": [
    "getstate(9)"
   ]
  },
  {
   "cell_type": "code",
   "execution_count": null,
   "id": "b4b530f0-9fb3-431d-8f9f-8e64a78232e4",
   "metadata": {},
   "outputs": [],
   "source": []
  },
  {
   "cell_type": "code",
   "execution_count": null,
   "id": "02e57000-3b1e-4e0c-8973-a53f3aa47b0d",
   "metadata": {},
   "outputs": [],
   "source": [
    "ca = {'CALIFORNIA']"
   ]
  },
  {
   "cell_type": "code",
   "execution_count": 75,
   "id": "c62dcc47-ab12-4155-89bd-c833e92d2ef0",
   "metadata": {},
   "outputs": [
    {
     "data": {
      "text/plain": [
       "{'CALIFORNIA': 138087357, 'Revenue': 344302107}"
      ]
     },
     "execution_count": 75,
     "metadata": {},
     "output_type": "execute_result"
    }
   ],
   "source": [
    "getstate(99)"
   ]
  },
  {
   "cell_type": "code",
   "execution_count": null,
   "id": "e3e3e4b2-0e96-49a9-9881-85de780e1871",
   "metadata": {},
   "outputs": [],
   "source": []
  },
  {
   "cell_type": "code",
   "execution_count": null,
   "id": "decb06ed-0a92-4961-904d-ea09df08fa55",
   "metadata": {},
   "outputs": [],
   "source": []
  },
  {
   "cell_type": "code",
   "execution_count": null,
   "id": "26c1f50f-014e-406a-a8f0-f7dbbbd687e2",
   "metadata": {},
   "outputs": [],
   "source": []
  },
  {
   "cell_type": "code",
   "execution_count": null,
   "id": "cbaeed73-1a59-4763-8312-3b48a6f54b86",
   "metadata": {},
   "outputs": [],
   "source": []
  },
  {
   "cell_type": "code",
   "execution_count": 53,
   "id": "120324a4-d14d-43bd-aa74-12d795e701f0",
   "metadata": {},
   "outputs": [
    {
     "data": {
      "text/plain": [
       "{'ARKANSAS': 9430833, 'Revenue': 21364876}"
      ]
     },
     "execution_count": 53,
     "metadata": {},
     "output_type": "execute_result"
    }
   ],
   "source": [
    "getstate(80)"
   ]
  },
  {
   "cell_type": "code",
   "execution_count": null,
   "id": "64ccd0c4-7142-43ba-a2eb-1f5037634f8e",
   "metadata": {},
   "outputs": [],
   "source": []
  },
  {
   "cell_type": "code",
   "execution_count": 58,
   "id": "1c6d1001-42ab-4096-a566-d17e9e8e85e1",
   "metadata": {},
   "outputs": [],
   "source": [
    "def name(p):\n",
    "    state = record[100]['State']\n",
    "    year = record[100]['Year']\n",
    "    genexpenditure = record[100]['Totals'] ['General expenditure']\n",
    "    return [state, year, genexpenditure]"
   ]
  },
  {
   "cell_type": "code",
   "execution_count": 59,
   "id": "b3abb68b-c1e8-47fe-bf96-37a0d834bd54",
   "metadata": {},
   "outputs": [
    {
     "ename": "TypeError",
     "evalue": "string indices must be integers",
     "output_type": "error",
     "traceback": [
      "\u001b[0;31m---------------------------------------------------------------------------\u001b[0m",
      "\u001b[0;31mTypeError\u001b[0m                                 Traceback (most recent call last)",
      "\u001b[0;32m/tmp/ipykernel_54/4119067817.py\u001b[0m in \u001b[0;36m<module>\u001b[0;34m\u001b[0m\n\u001b[0;32m----> 1\u001b[0;31m \u001b[0mname\u001b[0m\u001b[0;34m(\u001b[0m\u001b[0;36m100\u001b[0m\u001b[0;34m)\u001b[0m\u001b[0;34m\u001b[0m\u001b[0;34m\u001b[0m\u001b[0m\n\u001b[0m",
      "\u001b[0;32m/tmp/ipykernel_54/1848117122.py\u001b[0m in \u001b[0;36mname\u001b[0;34m(p)\u001b[0m\n\u001b[1;32m      1\u001b[0m \u001b[0;32mdef\u001b[0m \u001b[0mname\u001b[0m\u001b[0;34m(\u001b[0m\u001b[0mp\u001b[0m\u001b[0;34m)\u001b[0m\u001b[0;34m:\u001b[0m\u001b[0;34m\u001b[0m\u001b[0;34m\u001b[0m\u001b[0m\n\u001b[0;32m----> 2\u001b[0;31m     \u001b[0mstate\u001b[0m \u001b[0;34m=\u001b[0m \u001b[0mrecord\u001b[0m\u001b[0;34m[\u001b[0m\u001b[0;36m100\u001b[0m\u001b[0;34m]\u001b[0m\u001b[0;34m[\u001b[0m\u001b[0;34m'State'\u001b[0m\u001b[0;34m]\u001b[0m\u001b[0;34m\u001b[0m\u001b[0;34m\u001b[0m\u001b[0m\n\u001b[0m\u001b[1;32m      3\u001b[0m     \u001b[0myear\u001b[0m \u001b[0;34m=\u001b[0m \u001b[0mrecord\u001b[0m\u001b[0;34m[\u001b[0m\u001b[0;36m100\u001b[0m\u001b[0;34m]\u001b[0m\u001b[0;34m[\u001b[0m\u001b[0;34m'Year'\u001b[0m\u001b[0;34m]\u001b[0m\u001b[0;34m\u001b[0m\u001b[0;34m\u001b[0m\u001b[0m\n\u001b[1;32m      4\u001b[0m     \u001b[0mgenexpenditure\u001b[0m \u001b[0;34m=\u001b[0m \u001b[0mrecord\u001b[0m\u001b[0;34m[\u001b[0m\u001b[0;36m100\u001b[0m\u001b[0;34m]\u001b[0m\u001b[0;34m[\u001b[0m\u001b[0;34m'Totals'\u001b[0m\u001b[0;34m]\u001b[0m \u001b[0;34m[\u001b[0m\u001b[0;34m'General expenditure'\u001b[0m\u001b[0;34m]\u001b[0m\u001b[0;34m\u001b[0m\u001b[0;34m\u001b[0m\u001b[0m\n\u001b[1;32m      5\u001b[0m     \u001b[0;32mreturn\u001b[0m \u001b[0;34m[\u001b[0m\u001b[0mstate\u001b[0m\u001b[0;34m,\u001b[0m \u001b[0myear\u001b[0m\u001b[0;34m,\u001b[0m \u001b[0mgenexpenditure\u001b[0m\u001b[0;34m]\u001b[0m\u001b[0;34m\u001b[0m\u001b[0;34m\u001b[0m\u001b[0m\n",
      "\u001b[0;31mTypeError\u001b[0m: string indices must be integers"
     ]
    }
   ],
   "source": [
    "name(100)"
   ]
  },
  {
   "cell_type": "code",
   "execution_count": null,
   "id": "87ee4a4b-c752-4ace-be5d-7393adcde64d",
   "metadata": {},
   "outputs": [],
   "source": []
  },
  {
   "cell_type": "code",
   "execution_count": null,
   "id": "5927ef1a-5332-4dfc-8503-ec4a2b4b26ec",
   "metadata": {},
   "outputs": [],
   "source": []
  },
  {
   "cell_type": "code",
   "execution_count": 57,
   "id": "6112d9ea-1049-4b0a-a2b1-b043df701f7e",
   "metadata": {},
   "outputs": [
    {
     "data": {
      "text/plain": [
       "['ALABAMA', 2002, 16160326]"
      ]
     },
     "execution_count": 57,
     "metadata": {},
     "output_type": "execute_result"
    }
   ],
   "source": [
    "name(10)"
   ]
  },
  {
   "cell_type": "code",
   "execution_count": null,
   "id": "d9c45413-443a-47a0-9b53-b50bae35258e",
   "metadata": {},
   "outputs": [],
   "source": []
  },
  {
   "cell_type": "code",
   "execution_count": null,
   "id": "140037bd-894c-4fb4-baed-1a90cd5fb7db",
   "metadata": {},
   "outputs": [],
   "source": []
  },
  {
   "cell_type": "code",
   "execution_count": 55,
   "id": "7634c266-bab6-4472-90b0-b0271a7d9e61",
   "metadata": {},
   "outputs": [
    {
     "data": {
      "text/plain": [
       "['ALABAMA', 1992, 8788293]"
      ]
     },
     "execution_count": 55,
     "metadata": {},
     "output_type": "execute_result"
    }
   ],
   "source": [
    "name(0)"
   ]
  },
  {
   "cell_type": "code",
   "execution_count": null,
   "id": "057a19af-d1c8-4a30-8a9a-e6a2393469db",
   "metadata": {},
   "outputs": [],
   "source": []
  },
  {
   "cell_type": "code",
   "execution_count": null,
   "id": "a826d17b-f4ab-48cc-bd23-2e07499c17e9",
   "metadata": {},
   "outputs": [
    {
     "ename": "NameError",
     "evalue": "name 'a' is not defined",
     "output_type": "error",
     "traceback": [
      "\u001b[0;31m---------------------------------------------------------------------------\u001b[0m",
      "\u001b[0;31mNameError\u001b[0m                                 Traceback (most recent call last)",
      "\u001b[0;32m/tmp/ipykernel_54/6679990.py\u001b[0m in \u001b[0;36m<module>\u001b[0;34m\u001b[0m\n\u001b[0;32m----> 1\u001b[0;31m \u001b[0ma\u001b[0m\u001b[0;34m[\u001b[0m\u001b[0;34m'State'\u001b[0m\u001b[0;34m]\u001b[0m\u001b[0;34m\u001b[0m\u001b[0;34m\u001b[0m\u001b[0m\n\u001b[0m",
      "\u001b[0;31mNameError\u001b[0m: name 'a' is not defined"
     ]
    }
   ],
   "source": [
    "a['State']"
   ]
  },
  {
   "cell_type": "code",
   "execution_count": null,
   "id": "f94a2832-9f2e-458b-91ef-a72c24aa3086",
   "metadata": {},
   "outputs": [
    {
     "ename": "SyntaxError",
     "evalue": "unexpected EOF while parsing (3754165193.py, line 2)",
     "output_type": "error",
     "traceback": [
      "\u001b[0;36m  File \u001b[0;32m\"/tmp/ipykernel_54/3754165193.py\"\u001b[0;36m, line \u001b[0;32m2\u001b[0m\n\u001b[0;31m    return [record[i]['State']\u001b[0m\n\u001b[0m                               ^\u001b[0m\n\u001b[0;31mSyntaxError\u001b[0m\u001b[0;31m:\u001b[0m unexpected EOF while parsing\n"
     ]
    }
   ],
   "source": [
    "{"
   ]
  },
  {
   "cell_type": "code",
   "execution_count": null,
   "id": "19ba9910-17a7-437c-9cc5-0f176e6ba488",
   "metadata": {},
   "outputs": [
    {
     "ename": "NameError",
     "evalue": "name 'State' is not defined",
     "output_type": "error",
     "traceback": [
      "\u001b[0;31m---------------------------------------------------------------------------\u001b[0m",
      "\u001b[0;31mNameError\u001b[0m                                 Traceback (most recent call last)",
      "\u001b[0;32m/tmp/ipykernel_54/2748703320.py\u001b[0m in \u001b[0;36m<module>\u001b[0;34m\u001b[0m\n\u001b[0;32m----> 1\u001b[0;31m \u001b[0mState\u001b[0m\u001b[0;34m\u001b[0m\u001b[0;34m\u001b[0m\u001b[0m\n\u001b[0m",
      "\u001b[0;31mNameError\u001b[0m: name 'State' is not defined"
     ]
    }
   ],
   "source": [
    "State"
   ]
  },
  {
   "cell_type": "code",
   "execution_count": 72,
   "id": "5b0a816b-0323-419e-b091-e239c4e6c13d",
   "metadata": {},
   "outputs": [
    {
     "data": {
      "text/plain": [
       "'CALIFORNIA'"
      ]
     },
     "execution_count": 72,
     "metadata": {},
     "output_type": "execute_result"
    }
   ],
   "source": [
    "record[100]"
   ]
  },
  {
   "cell_type": "code",
   "execution_count": 15,
   "id": "1683b990-c8aa-4e2f-b457-e7be7c439b6c",
   "metadata": {},
   "outputs": [],
   "source": [
    "a=record[0]"
   ]
  },
  {
   "cell_type": "code",
   "execution_count": null,
   "id": "aee4faff-3fac-41ee-8a1b-915e9cbd912e",
   "metadata": {},
   "outputs": [],
   "source": []
  },
  {
   "cell_type": "code",
   "execution_count": 30,
   "id": "c83c881a-b46f-4be0-88a7-3ddf65c33177",
   "metadata": {},
   "outputs": [
    {
     "data": {
      "text/plain": [
       "{'State': 'ALABAMA',\n",
       " 'Year': 1992,\n",
       " 'Totals': {'Capital outlay': 664748,\n",
       "  'Revenue': 10536166,\n",
       "  'Expenditure': 9650515,\n",
       "  'General expenditure': 8788293,\n",
       "  'General revenue': 8910315,\n",
       "  'Insurance trust  revenue': 1473217,\n",
       "  'Intergovernmental': 2737180,\n",
       "  'License tax': 395202,\n",
       "  'Selective sales tax': 1103368,\n",
       "  'Tax': 4217916,\n",
       "  ' Debt at end of fiscal year': 4128724},\n",
       " 'Details': {'Correction': {'Correction Total': 182698},\n",
       "  'Education': {'Education Total': 3570524},\n",
       "  'Financial Aid': {'Assistance and Subsidies': 273050,\n",
       "   'Cash and Securities Total': 14594322},\n",
       "  'Health': {'Health Total Expenditure': 394119},\n",
       "  'Intergovernmental': {'Intergovernmental Expenditure': 2143312,\n",
       "   'Intergovernmental to Combined and Unallocable': 518611},\n",
       "  'Natural Resources': {'Natural Resources Construction': 151432,\n",
       "   'Parks': {'Parks Total Expenditure': 9728}},\n",
       "  'Utilities': {'Utilities Current Operation': 5564374},\n",
       "  'Welfare': {'Welfare Institution Total Expenditure': 1853436},\n",
       "  'Transportation': {'Highways': {'Highways Total Expenditure': 694874}},\n",
       "  'Insurance benefits and repayments': 724852,\n",
       "  'Interest on debt': 280179,\n",
       "  'Interest on general debt': 280179,\n",
       "  'Miscellaneous general revenue': 607453,\n",
       "  'Other taxes': 205227,\n",
       "  'Police protection': 77789}}"
      ]
     },
     "execution_count": 30,
     "metadata": {},
     "output_type": "execute_result"
    }
   ],
   "source": [
    "record[0]"
   ]
  },
  {
   "cell_type": "code",
   "execution_count": 31,
   "id": "d3f54572-e357-4bf1-876c-56093b70cf0b",
   "metadata": {},
   "outputs": [
    {
     "data": {
      "text/plain": [
       "4217916"
      ]
     },
     "execution_count": 31,
     "metadata": {},
     "output_type": "execute_result"
    }
   ],
   "source": [
    "record[0] ['Totals'] ['Tax']"
   ]
  },
  {
   "cell_type": "code",
   "execution_count": 33,
   "id": "8bd49883-a655-4767-85d1-48efbac45281",
   "metadata": {},
   "outputs": [
    {
     "data": {
      "text/plain": [
       "'MISSISSIPPI'"
      ]
     },
     "execution_count": 33,
     "metadata": {},
     "output_type": "execute_result"
    }
   ],
   "source": [
    "record[500] ['State']"
   ]
  },
  {
   "cell_type": "code",
   "execution_count": null,
   "id": "04bb9394-1be8-4164-a2f4-c688a14f7b29",
   "metadata": {},
   "outputs": [],
   "source": []
  },
  {
   "cell_type": "code",
   "execution_count": 37,
   "id": "767e3a39-9ef2-4b0a-9f59-55e2ceac131e",
   "metadata": {},
   "outputs": [
    {
     "data": {
      "text/plain": [
       "1992"
      ]
     },
     "execution_count": 37,
     "metadata": {},
     "output_type": "execute_result"
    }
   ],
   "source": [
    "record[0] ['Year']"
   ]
  },
  {
   "cell_type": "code",
   "execution_count": 41,
   "id": "ee8bd5be-4817-4481-82b3-022d2bffc5be",
   "metadata": {},
   "outputs": [
    {
     "data": {
      "text/plain": [
       "dict_keys(['Correction', 'Education', 'Financial Aid', 'Health', 'Intergovernmental', 'Natural Resources', 'Utilities', 'Welfare', 'Transportation', 'Insurance benefits and repayments', 'Interest on debt', 'Interest on general debt', 'Miscellaneous general revenue', 'Other taxes', 'Police protection'])"
      ]
     },
     "execution_count": 41,
     "metadata": {},
     "output_type": "execute_result"
    }
   ],
   "source": [
    "record[0] ['Details'].keys()"
   ]
  },
  {
   "cell_type": "code",
   "execution_count": 43,
   "id": "6b2c29fe-be26-42e5-ae15-bcc8c7d94a1f",
   "metadata": {},
   "outputs": [
    {
     "data": {
      "text/plain": [
       "dict_keys(['State', 'Year', 'Totals', 'Details'])"
      ]
     },
     "execution_count": 43,
     "metadata": {},
     "output_type": "execute_result"
    }
   ],
   "source": [
    "record[0].keys()"
   ]
  },
  {
   "cell_type": "code",
   "execution_count": 49,
   "id": "a8bfb692-b0d0-4ec4-af4b-769bcfa7a077",
   "metadata": {},
   "outputs": [
    {
     "data": {
      "text/plain": [
       "{'State': 'ALABAMA',\n",
       " 'Year': 1992,\n",
       " 'Totals': {'Capital outlay': 664748,\n",
       "  'Revenue': 10536166,\n",
       "  'Expenditure': 9650515,\n",
       "  'General expenditure': 8788293,\n",
       "  'General revenue': 8910315,\n",
       "  'Insurance trust  revenue': 1473217,\n",
       "  'Intergovernmental': 2737180,\n",
       "  'License tax': 395202,\n",
       "  'Selective sales tax': 1103368,\n",
       "  'Tax': 4217916,\n",
       "  ' Debt at end of fiscal year': 4128724},\n",
       " 'Details': {'Correction': {'Correction Total': 182698},\n",
       "  'Education': {'Education Total': 3570524},\n",
       "  'Financial Aid': {'Assistance and Subsidies': 273050,\n",
       "   'Cash and Securities Total': 14594322},\n",
       "  'Health': {'Health Total Expenditure': 394119},\n",
       "  'Intergovernmental': {'Intergovernmental Expenditure': 2143312,\n",
       "   'Intergovernmental to Combined and Unallocable': 518611},\n",
       "  'Natural Resources': {'Natural Resources Construction': 151432,\n",
       "   'Parks': {'Parks Total Expenditure': 9728}},\n",
       "  'Utilities': {'Utilities Current Operation': 5564374},\n",
       "  'Welfare': {'Welfare Institution Total Expenditure': 1853436},\n",
       "  'Transportation': {'Highways': {'Highways Total Expenditure': 694874}},\n",
       "  'Insurance benefits and repayments': 724852,\n",
       "  'Interest on debt': 280179,\n",
       "  'Interest on general debt': 280179,\n",
       "  'Miscellaneous general revenue': 607453,\n",
       "  'Other taxes': 205227,\n",
       "  'Police protection': 77789}}"
      ]
     },
     "execution_count": 49,
     "metadata": {},
     "output_type": "execute_result"
    }
   ],
   "source": [
    "record[0]"
   ]
  },
  {
   "cell_type": "code",
   "execution_count": 50,
   "id": "81b2b195-efbc-446a-99b3-9e814fbf107a",
   "metadata": {},
   "outputs": [
    {
     "data": {
      "text/plain": [
       "{'Welfare Institution Total Expenditure': 1853436}"
      ]
     },
     "execution_count": 50,
     "metadata": {},
     "output_type": "execute_result"
    }
   ],
   "source": [
    "record[0]['Details'] ['Welfare']"
   ]
  },
  {
   "cell_type": "code",
   "execution_count": 52,
   "id": "56e25ed8-0ca3-4f21-9d1d-96faf9480e03",
   "metadata": {},
   "outputs": [
    {
     "data": {
      "text/plain": [
       "{'Education Total': 3570524}"
      ]
     },
     "execution_count": 52,
     "metadata": {},
     "output_type": "execute_result"
    }
   ],
   "source": [
    "record[0]['Details'] ['Education']"
   ]
  },
  {
   "cell_type": "markdown",
   "id": "4c5c4ed0-d9c8-48ac-b556-c7a819f85684",
   "metadata": {},
   "source": [
    "# Here is a list of Welfare Expenditures"
   ]
  },
  {
   "cell_type": "code",
   "execution_count": 101,
   "id": "679bc8ff-c8b3-466b-b3d7-f35093583874",
   "metadata": {},
   "outputs": [
    {
     "name": "stdout",
     "output_type": "stream",
     "text": [
      "In 1992 California had a spending of 23.895791 to the nearest million \n",
      "In 1993 California had a spending of 25.118234 to the nearest million \n",
      "In 1994 California had a spending of 28.567751 to the nearest million \n",
      "In 1995 California had a spending of 28.512998 to the nearest million \n",
      "In 1996 California had a spending of 28.804856 to the nearest million \n",
      "In 1997 California had a spending of 30.205384 to the nearest million \n",
      "In 1998 California had a spending of 30.411684 to the nearest million \n",
      "In 1999 California had a spending of 33.516613 to the nearest million \n",
      "In 2000 California had a spending of 36.467804 to the nearest million \n",
      "In 2001 California had a spending of 37.25133 to the nearest million \n",
      "In 2002 California had a spending of 42.965482 to the nearest million \n",
      "In 2003 California had a spending of 48.472281 to the nearest million \n",
      "In 2004 California had a spending of 46.898712 to the nearest million \n",
      "In 2012 California had a spending of 69.087772 to the nearest million \n",
      "In 2013 California had a spending of 80.014405 to the nearest million \n",
      "In 2014 California had a spending of 83.491245 to the nearest million \n",
      "In 2015 California had a spending of 109.031702 to the nearest million \n",
      "In 2016 California had a spending of 123.038997 to the nearest million \n",
      "In 2017 California had a spending of 124.082248 to the nearest million \n",
      "In 2018 California had a spending of 132.045291 to the nearest million \n",
      "In 2019 California had a spending of 143.427752 to the nearest million \n"
     ]
    }
   ],
   "source": [
    "for i in record:\n",
    "   \n",
    "    if i['State']=='CALIFORNIA':\n",
    "        print('In ' + str(i['Year']) + ' California had a spending of ' + str(i['Details']['Welfare']['Welfare Institution Total Expenditure'] / 1000000.0) + ' to the nearest million ')\n",
    "        "
   ]
  },
  {
   "cell_type": "code",
   "execution_count": null,
   "id": "0886b80f-800e-4571-89d1-cb12d89271f9",
   "metadata": {},
   "outputs": [],
   "source": []
  },
  {
   "cell_type": "markdown",
   "id": "6a96a19b-0a76-4751-8f76-a2f51d47cd95",
   "metadata": {},
   "source": [
    "## Next I will present the same data in the same format except it will correspond to New York state."
   ]
  },
  {
   "cell_type": "code",
   "execution_count": 129,
   "id": "0978e8f6-3529-4755-8ff6-c20b6c1b0695",
   "metadata": {},
   "outputs": [
    {
     "name": "stdout",
     "output_type": "stream",
     "text": [
      "In 1992 New York had a spending of 20.315984 to the nearest million \n",
      "In 1993 New York had a spending of 21.975194 to the nearest million \n",
      "In 1994 New York had a spending of 24.008547 to the nearest million \n",
      "In 1995 New York had a spending of 25.7849 to the nearest million \n",
      "In 1996 New York had a spending of 26.145751 to the nearest million \n",
      "In 1997 New York had a spending of 27.594459 to the nearest million \n",
      "In 1998 New York had a spending of 28.537685 to the nearest million \n",
      "In 1999 New York had a spending of 30.487297 to the nearest million \n",
      "In 2000 New York had a spending of 30.71808 to the nearest million \n",
      "In 2001 New York had a spending of 32.220931 to the nearest million \n",
      "In 2002 New York had a spending of 34.59824 to the nearest million \n",
      "In 2003 New York had a spending of 38.893504 to the nearest million \n",
      "In 2004 New York had a spending of 41.154459 to the nearest million \n",
      "In 2012 New York had a spending of 52.276732 to the nearest million \n",
      "In 2013 New York had a spending of 57.737111 to the nearest million \n",
      "In 2014 New York had a spending of 53.755017 to the nearest million \n",
      "In 2015 New York had a spending of 58.001659 to the nearest million \n",
      "In 2016 New York had a spending of 63.04679 to the nearest million \n",
      "In 2017 New York had a spending of 66.871098 to the nearest million \n",
      "In 2018 New York had a spending of 71.586122 to the nearest million \n",
      "In 2019 New York had a spending of 75.185226 to the nearest million \n"
     ]
    }
   ],
   "source": [
    "for i in record:\n",
    "   \n",
    "    if i['State']=='NEW YORK':\n",
    "        print('In ' + str(i['Year']) + ' New York had a spending of ' + str(i['Details']['Welfare']['Welfare Institution Total Expenditure'] / 1000000.0) + ' to the nearest million ')\n",
    "        "
   ]
  },
  {
   "cell_type": "code",
   "execution_count": null,
   "id": "39242159-8a1d-4b4d-8ef0-bdfa9fce6552",
   "metadata": {},
   "outputs": [],
   "source": []
  },
  {
   "cell_type": "code",
   "execution_count": null,
   "id": "d44d6c8b-5112-4090-9ab4-eeb3cf67f8e0",
   "metadata": {},
   "outputs": [],
   "source": []
  },
  {
   "cell_type": "code",
   "execution_count": 22,
   "id": "1ba9f2db-812d-483f-8920-8a5e8e818c10",
   "metadata": {},
   "outputs": [
    {
     "ename": "SyntaxError",
     "evalue": "cannot assign to function call (1280074513.py, line 2)",
     "output_type": "error",
     "traceback": [
      "\u001b[0;36m  File \u001b[0;32m\"/tmp/ipykernel_1562/1280074513.py\"\u001b[0;36m, line \u001b[0;32m2\u001b[0m\n\u001b[0;31m    codef(ny) = ny\u001b[0m\n\u001b[0m    ^\u001b[0m\n\u001b[0;31mSyntaxError\u001b[0m\u001b[0;31m:\u001b[0m cannot assign to function call\n"
     ]
    }
   ],
   "source": [
    "def codef(ny):\n",
    "    for i in record:\n",
    "   \n",
    "        if i['State']=='NEW YORK':\n",
    "            print('In ' + str(i['Year']) + ' New York had a spending of ' + str(i['Details']['Welfare']['Welfare Institution Total Expenditure'] / 1000000.0) + ' to the nearest million ')\n",
    "        "
   ]
  },
  {
   "cell_type": "code",
   "execution_count": null,
   "id": "7c8c86dc-4e94-4828-84c8-0b1e227951ab",
   "metadata": {},
   "outputs": [
    {
     "ename": "NameError",
     "evalue": "name 'ny' is not defined",
     "output_type": "error",
     "traceback": [
      "\u001b[0;31m---------------------------------------------------------------------------\u001b[0m",
      "\u001b[0;31mNameError\u001b[0m                                 Traceback (most recent call last)",
      "\u001b[0;32m/tmp/ipykernel_1562/2297951271.py\u001b[0m in \u001b[0;36m<module>\u001b[0;34m\u001b[0m\n\u001b[0;32m----> 1\u001b[0;31m \u001b[0mcodef\u001b[0m\u001b[0;34m(\u001b[0m\u001b[0mny\u001b[0m\u001b[0;34m)\u001b[0m\u001b[0;34m\u001b[0m\u001b[0;34m\u001b[0m\u001b[0m\n\u001b[0m",
      "\u001b[0;31mNameError\u001b[0m: name 'ny' is not defined"
     ]
    }
   ],
   "source": [
    "codef(ny)"
   ]
  },
  {
   "cell_type": "code",
   "execution_count": null,
   "id": "c7fc31bf-87c9-4670-9d6c-ceac42a3409f",
   "metadata": {},
   "outputs": [],
   "source": []
  },
  {
   "cell_type": "code",
   "execution_count": null,
   "id": "f3774d0d-1ee7-4f67-9c04-e196f7d95d5f",
   "metadata": {},
   "outputs": [],
   "source": []
  },
  {
   "cell_type": "code",
   "execution_count": null,
   "id": "65b0737d-979e-4951-b9b8-f0544e90aac4",
   "metadata": {},
   "outputs": [],
   "source": []
  },
  {
   "cell_type": "code",
   "execution_count": 19,
   "id": "f7fa0e9f-c901-473f-a539-75574d9be8b8",
   "metadata": {},
   "outputs": [
    {
     "name": "stdout",
     "output_type": "stream",
     "text": [
      "This is the text i want to print from the function titled codef\n"
     ]
    }
   ],
   "source": [
    "codef('ny')"
   ]
  },
  {
   "cell_type": "code",
   "execution_count": null,
   "id": "b7ec6bd3-a75d-4ff1-98f8-fa5d4db86986",
   "metadata": {},
   "outputs": [],
   "source": []
  },
  {
   "cell_type": "code",
   "execution_count": null,
   "id": "e3fa81fd-8b8d-46d5-9aad-824457e285c7",
   "metadata": {},
   "outputs": [],
   "source": []
  },
  {
   "cell_type": "code",
   "execution_count": null,
   "id": "d640f351-2bd4-4d0f-a924-19f83ad570c1",
   "metadata": {},
   "outputs": [],
   "source": [
    "def codeny(c"
   ]
  },
  {
   "cell_type": "code",
   "execution_count": 123,
   "id": "4fdf4b9e-ad68-435c-b4fc-71ba8180bb69",
   "metadata": {},
   "outputs": [
    {
     "name": "stdout",
     "output_type": "stream",
     "text": [
      "This is the text i want to print from the function titled codef\n"
     ]
    }
   ],
   "source": [
    "codef()"
   ]
  },
  {
   "cell_type": "code",
   "execution_count": null,
   "id": "2fc75ffb-bc92-4714-be40-65c85d1c259b",
   "metadata": {},
   "outputs": [],
   "source": []
  },
  {
   "cell_type": "code",
   "execution_count": 121,
   "id": "ae258409-b2b7-4fbe-9bab-1bcc71762c27",
   "metadata": {},
   "outputs": [
    {
     "ename": "SyntaxError",
     "evalue": "invalid syntax (965720245.py, line 1)",
     "output_type": "error",
     "traceback": [
      "\u001b[0;36m  File \u001b[0;32m\"/tmp/ipykernel_912/965720245.py\"\u001b[0;36m, line \u001b[0;32m1\u001b[0m\n\u001b[0;31m    codef():\u001b[0m\n\u001b[0m            ^\u001b[0m\n\u001b[0;31mSyntaxError\u001b[0m\u001b[0;31m:\u001b[0m invalid syntax\n"
     ]
    }
   ],
   "source": []
  },
  {
   "cell_type": "code",
   "execution_count": null,
   "id": "61b0c454-cced-42aa-9a84-f51e89330338",
   "metadata": {},
   "outputs": [],
   "source": []
  },
  {
   "cell_type": "code",
   "execution_count": 120,
   "id": "637ff29d-24c8-41d2-accd-507fc9740e98",
   "metadata": {},
   "outputs": [
    {
     "ename": "SyntaxError",
     "evalue": "invalid syntax (965720245.py, line 1)",
     "output_type": "error",
     "traceback": [
      "\u001b[0;36m  File \u001b[0;32m\"/tmp/ipykernel_912/965720245.py\"\u001b[0;36m, line \u001b[0;32m1\u001b[0m\n\u001b[0;31m    codef():\u001b[0m\n\u001b[0m            ^\u001b[0m\n\u001b[0;31mSyntaxError\u001b[0m\u001b[0;31m:\u001b[0m invalid syntax\n"
     ]
    }
   ],
   "source": [
    "codef():"
   ]
  },
  {
   "cell_type": "code",
   "execution_count": null,
   "id": "6142bfdb-72c3-4ad2-8474-952e52612a33",
   "metadata": {},
   "outputs": [],
   "source": []
  },
  {
   "cell_type": "code",
   "execution_count": 117,
   "id": "a16f2052-5c47-4cf9-9c7a-b580b32d91d4",
   "metadata": {},
   "outputs": [
    {
     "name": "stdout",
     "output_type": "stream",
     "text": [
      "This is the text i want to print from the function titles codef\n"
     ]
    }
   ],
   "source": [
    "codef()"
   ]
  },
  {
   "cell_type": "markdown",
   "id": "a7fa1645-856e-4819-91d0-5d65b289b24c",
   "metadata": {},
   "source": [
    "# here i am placing a code that i had from earlier "
   ]
  },
  {
   "cell_type": "code",
   "execution_count": null,
   "id": "eccbab4a-1524-4ee1-a278-99ca9fde7019",
   "metadata": {},
   "outputs": [],
   "source": []
  },
  {
   "cell_type": "code",
   "execution_count": 60,
   "id": "547d7dec-b336-4512-8acc-401600d1cb3d",
   "metadata": {},
   "outputs": [],
   "source": [
    "def name(p):\n",
    "    state = record[0]['State']\n",
    "    year = record[0]['Year']\n",
    "    genexpenditure = record[0]['Totals'] ['General expenditure']\n",
    "    return [state, year, genexpenditure]"
   ]
  }
 ],
 "metadata": {
  "kernelspec": {
   "display_name": "Python 3 (ipykernel)",
   "language": "python",
   "name": "python3"
  },
  "language_info": {
   "codemirror_mode": {
    "name": "ipython",
    "version": 3
   },
   "file_extension": ".py",
   "mimetype": "text/x-python",
   "name": "python",
   "nbconvert_exporter": "python",
   "pygments_lexer": "ipython3",
   "version": "3.9.6"
  }
 },
 "nbformat": 4,
 "nbformat_minor": 5
}
