{
 "cells": [
  {
   "cell_type": "markdown",
   "id": "5df80099-8a3d-45f9-a395-974eddc992ae",
   "metadata": {
    "tags": []
   },
   "source": [
    "#Title "
   ]
  },
  {
   "cell_type": "markdown",
   "id": "dfbcfce8-223b-4c96-9808-66525fa88337",
   "metadata": {
    "tags": []
   },
   "source": []
  },
  {
   "cell_type": "markdown",
   "id": "6900625e-6e69-40e3-bf93-c6bb3030a53f",
   "metadata": {},
   "source": []
  },
  {
   "cell_type": "code",
   "execution_count": null,
   "id": "8a7580bf-b05b-4a9e-a871-9fa27df169a5",
   "metadata": {},
   "outputs": [],
   "source": []
  }
 ],
 "metadata": {
  "kernelspec": {
   "display_name": "Python 3 (ipykernel)",
   "language": "python",
   "name": "python3"
  },
  "language_info": {
   "codemirror_mode": {
    "name": "ipython",
    "version": 3
   },
   "file_extension": ".py",
   "mimetype": "text/x-python",
   "name": "python",
   "nbconvert_exporter": "python",
   "pygments_lexer": "ipython3",
   "version": "3.9.6"
  }
 },
 "nbformat": 4,
 "nbformat_minor": 5
}
