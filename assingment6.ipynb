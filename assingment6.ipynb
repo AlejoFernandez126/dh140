{
 "cells": [
  {
   "cell_type": "code",
   "execution_count": 1,
   "id": "020c714c-39ac-4451-99c4-187e5ba311c3",
   "metadata": {},
   "outputs": [],
   "source": []
  },
  {
   "cell_type": "markdown",
   "id": "d55c3960-0b5f-4e35-a088-ea8af600a226",
   "metadata": {},
   "source": [
    "# Assignment 6: Text Analysis "
   ]
  },
  {
   "cell_type": "markdown",
   "id": "c4ff14fd-87a9-4058-8778-28e3b25ae987",
   "metadata": {},
   "source": [
    "### First step of the assingment\n",
    "\n",
    "-find a text i want to analize which is going to be Mcbeth found on project Gutenberg."
   ]
  },
  {
   "cell_type": "code",
   "execution_count": 13,
   "id": "93d3195e-b504-4026-9225-b3b54c37b0fe",
   "metadata": {},
   "outputs": [],
   "source": [
    "import requests"
   ]
  },
  {
   "cell_type": "code",
   "execution_count": 14,
   "id": "337df02b-6e6b-452b-95a1-d83ab18680bd",
   "metadata": {},
   "outputs": [],
   "source": [
    "import nltk"
   ]
  },
  {
   "cell_type": "code",
   "execution_count": 15,
   "id": "d424be44-7bfb-4125-828a-80a688bb7f71",
   "metadata": {},
   "outputs": [],
   "source": [
    "target_url = \"https://www.gutenberg.org/files/1533/1533-0.txt\"\n",
    "response = requests.get(target_url)\n",
    "with open('macbeth.txt','w',encoding='utf-8') as f:\n",
    "    f.write(response.text)"
   ]
  },
  {
   "cell_type": "code",
   "execution_count": 16,
   "id": "926dbf5b-d8e8-4748-8681-6afcb4baabb4",
   "metadata": {},
   "outputs": [],
   "source": [
    "document = open('macbeth.txt', 'r')\n",
    "text = document.read().lower()"
   ]
  },
  {
   "cell_type": "markdown",
   "id": "4257d748-51f7-4dc3-a545-164f4e274445",
   "metadata": {},
   "source": [
    "## Second step, Tokenization "
   ]
  },
  {
   "cell_type": "code",
   "execution_count": 17,
   "id": "a70482b6-e121-4261-be82-90b120ee6f49",
   "metadata": {},
   "outputs": [],
   "source": [
    "# next i am going to begin the tokenization process\n",
    "\n",
    "from nltk.tokenize import word_tokenize, sent_tokenize"
   ]
  },
  {
   "cell_type": "code",
   "execution_count": 18,
   "id": "d4b4f8f4-a674-4e6f-a4c7-6e756a092a1f",
   "metadata": {},
   "outputs": [],
   "source": [
    "# now i am beginning the tokenization of the sentences.\n",
    "\n",
    "sentences = sent_tokenize(text)"
   ]
  },
  {
   "cell_type": "code",
   "execution_count": 19,
   "id": "ce99f752-ebc3-47db-a915-6a3af779c6bb",
   "metadata": {},
   "outputs": [],
   "source": [
    "# now tokenization of the words.\n",
    "\n",
    "words = []\n",
    "for s in sentences:\n",
    "    for w in word_tokenize(s):\n",
    "        words.append(w)"
   ]
  },
  {
   "cell_type": "markdown",
   "id": "e048fa53-ff5a-4a93-b05b-cdefb6aa214a",
   "metadata": {},
   "source": [
    "## Third step, Stop word removal"
   ]
  },
  {
   "cell_type": "code",
   "execution_count": 20,
   "id": "9e7f33f2-33a1-43dc-a58f-cc61cec4ad08",
   "metadata": {},
   "outputs": [
    {
     "name": "stderr",
     "output_type": "stream",
     "text": [
      "[nltk_data] Downloading package stopwords to /home/jovyan/nltk_data...\n",
      "[nltk_data]   Package stopwords is already up-to-date!\n"
     ]
    },
    {
     "data": {
      "text/plain": [
       "True"
      ]
     },
     "execution_count": 20,
     "metadata": {},
     "output_type": "execute_result"
    }
   ],
   "source": [
    "# the next step is to remove stop words\n",
    "\n",
    "from nltk.corpus import stopwords\n",
    "from string import punctuation\n",
    "nltk.download('stopwords')"
   ]
  },
  {
   "cell_type": "code",
   "execution_count": 21,
   "id": "0e6b2c43-8e71-4f35-86fe-268633c96a8c",
   "metadata": {},
   "outputs": [],
   "source": [
    "other_sw = [\"--\", \"...\", \"\\\\\", \"ï\", \"»\", \"¿\"\"project\", \"gutenberg\", \"gutenberg-tm\"]"
   ]
  },
  {
   "cell_type": "code",
   "execution_count": 22,
   "id": "b1853d15-53e1-437f-b556-1637c601367c",
   "metadata": {},
   "outputs": [],
   "source": [
    "#sw = stopwords\n",
    "\n",
    "sw = list(punctuation) + stopwords.words('english') + other_sw"
   ]
  },
  {
   "cell_type": "code",
   "execution_count": 23,
   "id": "6aa13fb0-28f4-4b62-916e-174f907cd655",
   "metadata": {},
   "outputs": [],
   "source": [
    "words_no_sw = [w for w in words if w not in sw]"
   ]
  },
  {
   "cell_type": "markdown",
   "id": "6c830c3a-7482-4d19-aa4d-df2844ef4779",
   "metadata": {},
   "source": [
    "## Finding the 20 most frequent worsd in the play."
   ]
  },
  {
   "cell_type": "code",
   "execution_count": 24,
   "id": "8358cb6a-7d79-4cfd-b7c0-14f94e36a380",
   "metadata": {},
   "outputs": [],
   "source": [
    "import collections"
   ]
  },
  {
   "cell_type": "code",
   "execution_count": 25,
   "id": "0088a106-ab16-4004-ac14-d457ab90bd09",
   "metadata": {},
   "outputs": [],
   "source": [
    "word_count = collections.Counter(words_no_sw)\n",
    "word_top_20 = word_count.most_common(20)"
   ]
  },
  {
   "cell_type": "code",
   "execution_count": 26,
   "id": "3e49d459-6887-4ecf-af51-7163d8018e74",
   "metadata": {},
   "outputs": [
    {
     "name": "stdout",
     "output_type": "stream",
     "text": [
      "[('macbeth', 286), ('macduff', 109), ('lady', 97), ('project', 89), ('thou', 88), ('enter', 72), ('shall', 69), ('banquo', 67), ('upon', 61), ('thee', 60), ('malcolm', 58), ('scene', 57), ('yet', 56), ('us', 54), ('ross', 53), ('come', 53), ('witch', 52), ('good', 52), ('thy', 52), ('hath', 51)]\n"
     ]
    }
   ],
   "source": [
    "print(word_top_20)"
   ]
  },
  {
   "cell_type": "markdown",
   "id": "4a0f86c8-d5f3-4a82-9546-2e5cc8c7c1a4",
   "metadata": {},
   "source": [
    "The words printed above are the 20 most frequent words in Shakespears play Macbeth. These words can provide insight when analizing the text. For example, in this play there proper nouns such as: Macbeth, Macduff, Lady, etc... Addiotnaly we notice that some aritcle words and prepostional words such as: thou, thee, thy, etc... are used in old english a lot more frequent than in current english dialect. Therefore, the particular use of these article words provides information about the context of the text."
   ]
  },
  {
   "cell_type": "markdown",
   "id": "91e19126-44ea-4009-9cf6-1138658cfb46",
   "metadata": {},
   "source": [
    "# Yelp sentiment exploration "
   ]
  },
  {
   "cell_type": "markdown",
   "id": "6dc249bc-11a4-4ceb-9eee-26f58a2f1ee4",
   "metadata": {},
   "source": [
    "### first step \n",
    "-use 15 yelp reviews for the restuarant UOVO (Santa Monica) to make a python string"
   ]
  },
  {
   "cell_type": "code",
   "execution_count": 27,
   "id": "d823a656-8599-4004-a2ba-4987b2f849d5",
   "metadata": {},
   "outputs": [
    {
     "name": "stderr",
     "output_type": "stream",
     "text": [
      "[nltk_data] Downloading package vader_lexicon to\n",
      "[nltk_data]     /home/jovyan/nltk_data...\n",
      "[nltk_data]   Package vader_lexicon is already up-to-date!\n"
     ]
    },
    {
     "data": {
      "text/plain": [
       "True"
      ]
     },
     "execution_count": 27,
     "metadata": {},
     "output_type": "execute_result"
    }
   ],
   "source": [
    "from nltk.sentiment import vader\n",
    "nltk.download('vader_lexicon')"
   ]
  },
  {
   "cell_type": "markdown",
   "id": "efb5d33e-bff3-45c2-b44b-de46af8c7a44",
   "metadata": {},
   "source": [
    "### second step\n",
    "-Import reviews.\n",
    "-To import reviews, I am going to just copy and paste them from an arbitrary restuarant on yelp. "
   ]
  },
  {
   "cell_type": "markdown",
   "id": "f76942e2-7248-4445-8a08-6a78045ac4cc",
   "metadata": {},
   "source": [
    "### third step\n",
    "-paste reviews on here and categorize the reviews to keep track of them."
   ]
  },
  {
   "cell_type": "code",
   "execution_count": 28,
   "id": "e29c6f51-d5ce-4d81-ac8d-048fed6e0943",
   "metadata": {},
   "outputs": [],
   "source": [
    "# Uovo, Santa Monica Location, Reviews on Yelp.\n",
    "# r is short for review, followed by number of review.\n",
    "\n",
    "#r1 5-star\n",
    "r1 = \"The food was him, service bomb, and management was dope. Recommending to everyone. I got the special and it was cooked to perfection. Will be back with my clients.\"\n",
    "\n",
    "#r2 5-star\n",
    "r2 = \"Simply the best pasta I have ever eaten. Price was very reasonable with no tipping policy. Very cool local vibe. Pasta is made in Italy fresh and shipped overnight to Santa Monica. Tasting menu was a great value and allowed us to try several entrees.\"\n",
    "\n",
    "#r3 5-star\n",
    "r3 = \"It is hard to find authentic pasta in LA- there is good pasta everywhere, but this place goes above and beyond to stick to classics and do them to perfection. The service was awesome- we decided after being seated that we would prefer to sit outside (the inside was crowded and it was a nice night), so we let the hostess know and she was totally accommodating. Our waiter, Alexis, was friendly and helpful and funny- he also set up the outside heater next to our table so we were extra comfortable. We had the truffle and cheese tasting menu, and it was AMAZING!! My favorite was pasta #1. This may seem expensive, but it's totally worth it- you get an appetizer, three half servings (so basically 1.5 pastas) and a dessert. The wine selection is also phenomenal and the waiters are prepared to help you find the right pairing. Perfect!\"\n",
    "\n",
    "#r4 5-star\n",
    "r4 = \"Love Love Love!! We came here for our valentines dinner & opted for the cheese and truffle tasting menu. It came with yellowtail crudo, tagliatelle in truffle sauce, pomodoro, cacio e pepe, and tiramisu. I had it with a recommended white wine which was lovely. We also ordered the broccolini which was SO good!!The one thing I will say though, is their pastas are pretty salty like others said. The cacio e pepe was over the top salty due to wayyy overload of pecorino. The manager came around asking how everything was and when we told him about the cacio e pepe, he gladly took care of it and helped us exchange it for the lasagna instead. The service and how he took care of us was super appreciative. I definitely want to come back and try all of the other pastas on the menu! A true 5 star restaurant.\"\n",
    "\n",
    "#r5 5-star\n",
    "r5 = \" I came here for DineLa for lunch. I only recommend coming here for DineLa during lunchtime, it's the same exact menu except you get dessert with dinner and you pay more for it. Personally not a big fan of dessert and didn't think it was worth it. However, I loved both of the dishes. You're practically getting 2 entrees with Dine LA for $25. On top of that, I just loved their noodles. It's freshly made and the flavor was amazing. We decided to sit outside because it was a beautiful day. We were greeted by the owner/ manager. Service was great, although my expectation for service is not very high, to begin with.\"\n",
    "\n",
    "#r6 5-star\n",
    "r6 = \"I wish I had found this place sooner! It's such a gem! The concept was really cool, too cool for LA almost haha. Food was delicious, everything was cooked to perfection! Service was good, our waitress wasn't the best but another waiter, the cook, and the manager were all friendly and helpful.The place doesn't take reservations but totally worth the wait, the wait wasn't that bad, we only waited about ten minutes and it was the night before thanksgiving. Pricing is reasonable. They are a tip-free restaurant, I thought that was nice.Hands down the best casual pasta place in LA!\"\n",
    "\n",
    "#r7 5-star\n",
    "r7 = \" Rumor has it that they import their pasta from Italy! Uovo is authentic, freakin delicious, and well priced. The server was highly knowledgeable about the menu items and was able to provide us with recommendations curated to our preferences (however you can't go wrong with any of selections). I definitely recommend the ragu! The noodles had the perfect texture and consistency and the sauce was so flavorful and not overwhelmingly beefy as you might expect. Definitely planning to come back and probably just go for one of the tasting menus next time because I want to try it allllllll.\"\n",
    "\n",
    "#r8 5-star\n",
    "r8 = \"Uovo now has a Tasting Menu and that's a game changer! We opted for the Cheese & Truffle, which features 3 full-size pastas split for 2 people so you don't notice how much delicious pasta you ate until later. Yellowtail Crudo - Fresh, tender, perfectly dressed yellowtail Tagliatelle in truffle sauce: Perfect tagliatelle in a fragrant and light truffle sauce. The simplicity allows both the truffle and pasta to shine. Pomodoro: The tomato sauce is so deceptively simple, but so good. Cacio e Pepe: Thicker pasta with a nice balance of pepper and cheese. Tiramisu al cucchiaio: I was blown away by how amazing and different this tiramisu was! This is not your typical soaked ladyfinger tiramisu, but rather a custard and nutella type of tiramisu.The al fresco dining was simply perfect for all the dishes, as was the service!\"\n",
    "\n",
    "#r9 5-star\n",
    "r9 = \"Get the Cheese & Truffle Sampler and you won't regret it. Sicilian Olive oil that's drizzled on the crudo is top-notch quality. The first runner up-butter truffle tagliatelle is out-of-this-world delicious. Next time I come, I could see myself getting a full dish of the truffle tagliatelle. The al-dente texture and perfectly coated truffle butter made this pasta incredibly aromatic and so so memorable. Even with the shared appetizer and dessert, I felt full after having three sampler pasta dishes, all unique in its own way. Even though they didn't have any ciabatta, focaccia, or any bread whatsoever, I didn't feel that there was anything lacking because their pasta alone was phenomenal and they truly maintain the quality of their dishes. Pasta is daily imported from Italy, and I am thrilled to have access to all three Uovo locations within driving distance: Santa Monica, Wilshire, and Marina Del Rey. Next time, I will try their butter truffle tagliatelle with mushrooms as well as their ragu. See you again very soon, Uovo!\"\n",
    "\n",
    "#r10 4-star\n",
    "r10 = \"Overall I really enjoyed the tasting menu. Service was quick and attentive and the price is Great for what you get. It's a great way to be able to sample a couple of different various pastas and flavors. I would definitely recommend you try the tasting menu if you haven't yet.\"\n",
    "\n",
    "#r11 4-star\n",
    "r11 = \"First time here and I recommend coming here between 5:30-6pm so wait time isnt too longParking: theres meters or you can park in the structure right across. First 90mins is free Dining in: you just scan the QR code to be added to the wait list. They have a 5 min grace period and ALL party must be present. Option to dine indoor or outdoor. All staff wears mask Food: the noodles were cooked well and flavor for all the pasta was pretty delicious. I like how there were different options from meaty, more cheese flavor, to not heavy cheese. Which is nice since I'm not super into cheese Tiramisu wasn't my favorite. It was in a small cup and it felt more like a liquid pudding. Personally I would pass on that hence a star off. It just felt meh and not worth the price Service: Our server was excellent at clearing out any empty plates we had. He checked in on our and gave good recommendations for pasta so that was awesome. I wish I remembered his name but it was kind of loud Inside but we sat right by the bathroom and back kitchen corner booth table. At there 8.14.21 party of 4 at 6:45pm seat time. Hope this Info helps!But overall it was a nice pasta place to grab a bite and catch up with friends\"\n",
    "\n",
    "#r12 3 star\n",
    "r12 = \"My friend and I came here for dinner on a Thursday night. Before coming, a couple of friends had recommended this place. I was also aware that they ship the freshly made pasta from Italy to LA overnight, to ensure the most fresh product. Based on the above, I had high expectations for Uovo. They don't take reservations, but when we came at 6 that night, we were able to be seated immediately. The staff were friendly and welcoming. At the time we came, we had the option of both indoor and outdoor dining. The menu is not extensive. They have options for both pasta tasting or a la carte. Prices are on the lower side, around $15 for most pastas. The food was served not long after ordering. My friend had the carbonara and I had the arrabbiata. We also shared the cauliflower. My friend liked her dish but remarked that it was heavy and filling. I liked my arrabbiata but would have preferred if the texture was a bit more al dente. It also wasn't as spicy as I thought it would be. I'd probably come back if I'm looking for a casual dining experience but I think there are better options on the west side.\"\n",
    "\n",
    "#r13 2-star\n",
    "r13 = \"Saw all of the reviews and was excited to try this place, but Uovo is mid. I'm not sure what all of the hype is about. Their pasta was the saltiest I've ever had.\"\n",
    "\n",
    "#r14 1-star\n",
    "r14 = \"Don't waste your time, this place is ridiculous and won't be around for long. Walked in at 3pm and the place was empty. I wanted to sit down and order ahead for my wife who was 10mins out. We need to be in an out as we have a baby at home. The increddibly rude waiter would not let me order or at least sit down before my wife is here. What a shithole of a reataurant, thankfully there are many other restaurants in walking distance that don't have their heads up their ass.\"\n",
    "\n",
    "#r15 1-star\n",
    "r15 = \"I do not like this because when I have gone here the service was very bad and I wish they could do but especially the food it had almost made me throw up it tasted so bad and I had to use the restroom for like 1 hr.\""
   ]
  },
  {
   "cell_type": "code",
   "execution_count": 29,
   "id": "24804f03-04c2-4ad8-88ce-f644f676e8e4",
   "metadata": {},
   "outputs": [],
   "source": [
    "# interesting note on retrieving the reviews, is that it was harder to find the low star reviews. I actually had to click on a small hyper link to find the lower star reviews"
   ]
  },
  {
   "cell_type": "markdown",
   "id": "8f453a3c-999d-4f2e-a91c-ff12369adc07",
   "metadata": {},
   "source": [
    "### Fourth step, Use Vader to find the polairty of each review"
   ]
  },
  {
   "cell_type": "code",
   "execution_count": 30,
   "id": "2643efd0-5f6a-44eb-8e0c-42712b854f0c",
   "metadata": {},
   "outputs": [],
   "source": [
    "#sia is sentiment intensity analyzer\n",
    "\n",
    "sia = vader.SentimentIntensityAnalyzer()"
   ]
  },
  {
   "cell_type": "markdown",
   "id": "7bee8efb-af4e-4016-9f4e-8d40ebe0d841",
   "metadata": {},
   "source": [
    "### Fifth Step, create a list from the yelp reviews."
   ]
  },
  {
   "cell_type": "code",
   "execution_count": 31,
   "id": "55d1c0d4-8bb2-47a0-a9b3-a829ea6b76cf",
   "metadata": {},
   "outputs": [],
   "source": [
    "reviews = [r1,r2,r3,r4,r5,r6,r7,r8,r9,r10,r11,r12,r13,r14,r15]"
   ]
  },
  {
   "cell_type": "markdown",
   "id": "cf96ea21-b319-4d87-8986-e12e1126e879",
   "metadata": {},
   "source": [
    "### Sixth step, create a list for the scores that each reviews recives."
   ]
  },
  {
   "cell_type": "code",
   "execution_count": 32,
   "id": "7a0d7f88-2e12-4d68-9f3b-c0b521803587",
   "metadata": {},
   "outputs": [],
   "source": [
    "scores = []\n",
    "for r in reviews:\n",
    "    scores.append(sia.polarity_scores(r))"
   ]
  },
  {
   "cell_type": "code",
   "execution_count": 33,
   "id": "935e3d39-b06c-4dc6-9015-e425df806968",
   "metadata": {},
   "outputs": [
    {
     "name": "stdout",
     "output_type": "stream",
     "text": [
      "{'neg': 0.092, 'neu': 0.723, 'pos': 0.185, 'compound': 0.4939}\n",
      "{'neg': 0.045, 'neu': 0.672, 'pos': 0.283, 'compound': 0.9206}\n",
      "{'neg': 0.006, 'neu': 0.695, 'pos': 0.299, 'compound': 0.996}\n",
      "{'neg': 0.014, 'neu': 0.701, 'pos': 0.285, 'compound': 0.993}\n",
      "{'neg': 0.026, 'neu': 0.754, 'pos': 0.219, 'compound': 0.9765}\n",
      "{'neg': 0.058, 'neu': 0.701, 'pos': 0.241, 'compound': 0.9548}\n",
      "{'neg': 0.0, 'neu': 0.791, 'pos': 0.209, 'compound': 0.9648}\n",
      "{'neg': 0.0, 'neu': 0.807, 'pos': 0.193, 'compound': 0.9832}\n",
      "{'neg': 0.011, 'neu': 0.872, 'pos': 0.117, 'compound': 0.9573}\n",
      "{'neg': 0.0, 'neu': 0.712, 'pos': 0.288, 'compound': 0.9516}\n",
      "{'neg': 0.031, 'neu': 0.791, 'pos': 0.177, 'compound': 0.9858}\n",
      "{'neg': 0.012, 'neu': 0.799, 'pos': 0.188, 'compound': 0.9896}\n",
      "{'neg': 0.068, 'neu': 0.885, 'pos': 0.047, 'compound': -0.1884}\n",
      "{'neg': 0.108, 'neu': 0.841, 'pos': 0.051, 'compound': -0.6876}\n",
      "{'neg': 0.228, 'neu': 0.734, 'pos': 0.038, 'compound': -0.8697}\n"
     ]
    }
   ],
   "source": [
    "# now I can print the scores for the reviews\n",
    "# the order is based on how i tagged/calssifed the reviews from the begging, i.e. r1,r2,-15 are in discending order from 5-star to 1-star\n",
    "\n",
    "for s in scores:\n",
    "    print(s)"
   ]
  },
  {
   "cell_type": "markdown",
   "id": "213cc96a-37a3-46a8-bf55-f9605862aa82",
   "metadata": {},
   "source": [
    "After reviewing the scores I infer that Vader scores can be accurate, however due to the complexities of language and typos from user errors this also creates inaacuarte results. One reason I mention this is becuase if we look at the first score, (.4939) which was from a 5 star review. Lets compare that to another 5-star reviews.\n",
    "\n",
    "   --After making the comparison, the first score was signigifiantly lower than the following 5-star review. This made me want to analize the text and i think the difference in the score is a result of what the first review user input for the review. It seems like its a typo and the type of slang used in the first review tha makes the score drop even though in context its should be a similar score to the other 5-star reviews.\n",
    "\n",
    "A further analsyis demosntrates that Vader can misinterpret langauge by misinterpreting capitlization and punctaution for words that may not seem usual to a sentiment analizer. For example, I arranged the reviews from 5 - 1 star so i was assuming that i would see the scores represent the star reviews. a 5 star review should hvae. ahigher pos score and compound socre than a 4,3,2,1 star review. This was not the result that Vader scores created. I noticed that the 5,4,3,2 star reviews had a similar and high compound score. When inspectiving the pos scores there does seem to be regressive trend which shows me that Vader is doing a good job correlating the pos score and the star review. Furthermore, the neg score was interesting to notice since it does seem to show an accurate correlation between a high neg score a lower star review, but it was odd to see three individual reviews recieve a 0.0 neg score yet their neu scores were not similar. \n",
    "\n",
    "Overall Vader can be a great tool to analyze sentiment in text, it seems to lean on the postive side if there is a trend. For best results clean the text that you want to analize prior to pasting the text to be analized."
   ]
  },
  {
   "cell_type": "markdown",
   "id": "ad8ec224-92c9-4d34-ac53-aa84d20e086d",
   "metadata": {},
   "source": [
    "# Movie Reviews"
   ]
  },
  {
   "cell_type": "markdown",
   "id": "055e225a-22ec-430a-aa75-b2b20cac18ba",
   "metadata": {},
   "source": [
    "### Make 5 string that contains comedy movie reviews. Each review must have at leat 3 sentences. \"Wedding Crashers\""
   ]
  },
  {
   "cell_type": "code",
   "execution_count": 57,
   "id": "54631734-0956-428c-98a9-05fd0732c3b5",
   "metadata": {},
   "outputs": [],
   "source": [
    "#prof instructions: \n",
    "#Step 4: Your movie reviews\n",
    "\n",
    "#Make 5 strings that contain reviews (3 sentences each) of your favorite movie comedies\n",
    "#make 5 strings that contain reviews (3 sentence each) of your favorite movie dramas\n",
    "#Make a Python list that contains these 10 strings\n",
    "#Replicate the analysis pipeline from \"04_news_topics.ipynb\"\n",
    "#You don't have to open any files\n",
    "#Instead of using \"listOfNews\", use your list of movie reviews\n",
    "#Modify the characters in \"extrastop\" if you want to\n",
    "#For the LDA model step, use \"num_topics = 2\"\n",
    "#Comment on the words that the model chooses to represent the 2 topics, and whether they match with your split between comedies and dramas\n",
    "#Step 5: When finished, add your notebook to your \"dh140\" repository on GitHub and submit the link.\n",
    "\n",
    "\n"
   ]
  },
  {
   "cell_type": "code",
   "execution_count": 35,
   "id": "ecde70a5-f9dc-4cd1-a429-12b6c003065e",
   "metadata": {},
   "outputs": [],
   "source": [
    "# C is short for the categorization of the reviews for the comedy movie i elected, \"Wedding Crashers\".\n",
    "# D is short for the categorization of the reviews for the drama movie i elected, \"Parasite\"."
   ]
  },
  {
   "cell_type": "code",
   "execution_count": 36,
   "id": "371c5d6f-6cf6-4a31-920d-9e227f60e47a",
   "metadata": {},
   "outputs": [],
   "source": [
    "#comedy movie revies \n",
    "\n",
    "#c1 5-star\n",
    "\n",
    "c1 = \"I was pleasantly surprised by this movie. I expected it to be a predictable, typical rom-com following the same tropes and beats and in some ways it was but there was something so tender about it that couldn't categorize it into those endlessly factory-made films with no heart. I may be exaggerating but I liked the film more than I thought I'd do. And it's particularly because of the amazing cast. It has Vince Vaughn, Owen Wilson, Rachel McAdams, Bradley Cooper and Christopher Walken, among others. What more do you need. Walken and Vaughn were very good here. Funny and a pleasure to watch while Owen Wilson did a pretty good job holding everything together. Rachel McAdams is great in this. And this maybe because I just love her. She is charming, cute, gracious and gorgeous. And all of this is enough for me to fall in love with her as Wilson did. Some of the jokes don't fit in quite well, some land well but largely it's an enjoyable affair. And don't let anybody tell you any different. Yes, it's cliché but only because it's supposed to be. It has to be. Don't let anybody fool you because that is what you want to see. A light and fun romantic comedy which is perhaps predictable but, you know, it's part of the deal, it's what you sign up for and yes there are instances of films where no compromise is needed to be made but those are very rare. And this is anything but rare. But it's good enough to sit back and have a laugh about it and be a hopeless romantic, once again.\"\n",
    "\n",
    "#c2 5-star\n",
    "c2 = \"Today this film came on television.I was just changing channels and this movie came and at first glance it seemed interesting,and then I liked the movie it's so funny about Jeremy's GF and Jeremy himself.Nice movie overall.\"\n",
    "\n",
    "#c3 4-star\n",
    "c3 = \"A very well balanced combination of humor with not just a love story, but a friends and loyalty story. Far from a Mensa movie, but equally distant from the three stooges/goofy genre as well. It works as both a romantic based and comedy based date movie, but also bodes well for a you and some friends having a few drinks, hanging out movie !!  On a 1 - 10 for RomComs ONLY, I would give it a solid 8 .\"\n",
    "\n",
    "#C4 3-star\n",
    "c4 = \"It was just worthy of a three star rating, no less no more. Although the premise was good and the actors were phenominal and well known....the script was bland and only watchable. Its worth a watch for the sake of knowing it and isnt the worst movie ever; but I definitely wouldnt watch it twice. Although it seems like its trying to set you up to laugh...in most places I found my face just not lifting into a grin. Its watchable. Not rewatchable.\"\n",
    "\n",
    "#c5 3-star\n",
    "c5 = \"I liked the Bradley Cooper’s acting and character better than Jack. Sad he lost the girl.\""
   ]
  },
  {
   "cell_type": "markdown",
   "id": "588f449d-775b-4f82-a0b7-b4337b1ed2bc",
   "metadata": {},
   "source": [
    "### Make 5 string that contains drama movie reviews. Each review must have at leat 3 sentences. \"Parasite\""
   ]
  },
  {
   "cell_type": "code",
   "execution_count": 37,
   "id": "df2e18ad-13cc-4980-b991-23d436e295e5",
   "metadata": {},
   "outputs": [],
   "source": [
    "# d1 5-star\n",
    "\n",
    "d1 = \"Song Kang-ho is one of my favorite South Korean actors and I've seen many of his films. However, I hadn't seen a Korean film since a long time, and once I heard all the good things about Parasite and the amount of acclaim it has earned, I couldn't stop myself from watching it. And whoever said it slowly transforms into something unexpected, wasn't kidding at all! Parasite started as a drama with shades of dark humor, before morphing into an edge of the seat thriller that keeps you captivated and shocks you to the extent that you can't even move. It's that spellbinding.The film can't be easily put into one genre, and that's true. Still, whether you like black comedies/dramas/thrillers or not, you must see this film at least once. It's just that you need to prepare yourself to be shocked because once the surprises start coming, you can't forget any of that for a long time. Parasite runs a little more than 2 hours but is so captivating that it might feel like the shortest 2 hours of all time.Words won't be sufficient to further describe this film's actual brilliance. I'm still spellbound. What started like a fun movie became something so surprising that it was hard to forget after it ended. It took away the very feel of watching a film. Whatever I saw just felt real, absolutely real. No doubt, Parasite is one of the most original films you'll see in the recent memory, and surprisingly has elements of almost every genre covered in its entire duration. Let's hope it wins big at the Oscars too!\"\n",
    " \n",
    "#d2 5-star review\n",
    "\n",
    "d2 = \"Rarely do I get to say this,but Bong Joon-ho's Parasite is a perfect film. There is nothing out of place in the film,nothing too stretched out and nothing less fleshed out. Everything in this film,is perfect. And that is among many of the positives of the movie. The movie is quite complex and layered much more than one may think it to be. The story of the family mixed with different genres and sub-genres such as comedy,thriller,suspense,horror is done seamlessly and quite brilliantly such that it feels earned. The shift in the quirky fun heist comedy to horrific edge of the seat thriller is the highlight of the film. There is meaning conveyed in almost every scene,every shot constructed with such precision with much deeper layers into it connected throughout the film,for instance, the Native American reference or the line that Mr. Park crosses that urges Mr. Kim to take such a sudden and extreme action. I don't want to spoil the movie for anyone but after watching this movie I'm deadly serious that there's nothing in this film that doesn't add to the narrative of the film. This is a black comedy that goes from being very funny to nerve-wracking within seconds that is endlessly entertaining and at the same time very thoughtful about it's themes about class divide,guilt,redemption and truth. Such films don't come very often and this movie proves why Bong Joon-ho is one of the best filmmakers working today.\"\n",
    "\n",
    "#d3 4-star\n",
    "\n",
    "d3 = \"Hey it's a good movie, I'm not able to speak to the metaphors and hidden messages I thought it was pretty straight forward. However, I will say it is interesting that the creators allowed the viewer to see it from different perspectives. As many other reviews took the parasite title to mean the capitalist the simple rich people etc. I saw a bunch of unemployed con artists sucking up as much free internet, food etc. reap what they sowed. I would say my peers would describe me as a progressive democrat and I believe Capitalism has done more harm for many people and great things for a few lucky people, so I just think it's crazy as someone who grew up poor in public housing with nothing can see it an entirely different way. As for the acting, I mean I was doing a lot of reading so it's hard to gauge it but I would say it was bad at all. I don't mind reading subtitles I put them on a lot anyway but I feel like that would be the biggest reason why people wouldn't watch. I think anyone that wants to enjoy a good movie should give it a chance. There was a couple of jaw dropping moments and a crazy plot twist.\"\n",
    "\n",
    "#d4 3-star\n",
    "\n",
    "d4 = \"I found it OK immediately after finishing the movie. Just OK, that is. But there was a lump in my throat at the same time. It still deeply affected me. The satire was effective and it was an entertaining film, but maybe because I am Filipino, there's a factor of already being “numbed” by poverty porn. We've had “Insiang”, the recent Mendoza films, various indie films tackling poverty with almost equally promising wit, satire and dark humour such as but not limited to “Ang Babae sa Septic Tank” plus almost all other indie films, lol. But then again, I think the power of Parasite is contained in the title itself. It works its way through your subconscious like a parasite, feeding on your deepest and darkest secrets, regrets, guilt and sins, not only as an individual but as a part of this mammothic gyrations of economic and social strata. It's power is in subtlety, in the nuanced story-telling, in the layered metaphors painted through clever visual dance, in putting the gray areas of class divide onto a pedestal, flesh and blood and then making you stab it in the heart, but it cuts deeper because in the end, you realize it's a magic mirror and you are holding your own lacerated heart.\"\n",
    "\n",
    "#d5 1-star\n",
    "\n",
    "d5 = \"I saw this last night, knowing it won best picture and when it ended, I shook my head and under my breath said, what a bunch of nonsense. An Oscar winner these days should raise the bar on film making, whereas this was a derivative mess full of implausible situations and unlikeable characters. This felt like a screwball comedy from the 1940s crossed with a dark art film from the 1970s. I saw 1917 a few days earlier and was captivated beginning to end and stunned by the cinematography that made it feel like it was done in one take in real time (ie original). Parasite was boring and tedious. I even felt the acting was blade, like a budget tv show. The most well done part of Parasite was the little pyjama sex scene, but I can't see myself remembering this film for anything else. Good heavens....\""
   ]
  },
  {
   "cell_type": "code",
   "execution_count": 38,
   "id": "0afe4904-ee29-407d-a81b-0fcf7d5d1b28",
   "metadata": {},
   "outputs": [],
   "source": [
    "# Now make a Python list that contains these 10 strings\n",
    "\n",
    "movie_reviews = [c1, c2, c3, c4, c5, d1, d2, d3, d4, d5]\n"
   ]
  },
  {
   "cell_type": "code",
   "execution_count": 39,
   "id": "3d77b54d-6dbf-4609-9da7-3a2a0032da0f",
   "metadata": {},
   "outputs": [],
   "source": [
    "# next step is to begin the analysis "
   ]
  },
  {
   "cell_type": "markdown",
   "id": "8950c12b-5346-45b2-8b39-eae870988074",
   "metadata": {},
   "source": [
    "## Analysis for movie reviews."
   ]
  },
  {
   "cell_type": "code",
   "execution_count": 40,
   "id": "244d9ae9-a8c5-4c9a-a0eb-6e9cdf3067ac",
   "metadata": {},
   "outputs": [],
   "source": [
    "extrastop = ['``',\"''\",\"'re\",\"'s\",\"'re\",'``',\"''\",\"'ll\",\"--\",\"\\'\\'\",\"...\", \"n\\'t\",'one','would','use','from',\"\\'m\",\"\\'ve\"]"
   ]
  },
  {
   "cell_type": "code",
   "execution_count": 41,
   "id": "dfec4dcc-aabf-4cf7-9780-45686108fe2a",
   "metadata": {},
   "outputs": [],
   "source": [
    "myStopWords = list(punctuation) + stopwords.words('english') + extrastop"
   ]
  },
  {
   "cell_type": "code",
   "execution_count": 42,
   "id": "f24f15ac-7006-4b26-849d-7c4fac9411d6",
   "metadata": {},
   "outputs": [],
   "source": [
    "movie_reviews_no_sw = []\n",
    "for i in movie_reviews:\n",
    "    movie_reviews_no_sw.append([w for w in word_tokenize(i.lower()) if w not in myStopWords])"
   ]
  },
  {
   "cell_type": "code",
   "execution_count": 44,
   "id": "6f6f8393-d49c-43c4-bb27-fa4f57529e7d",
   "metadata": {},
   "outputs": [],
   "source": [
    "from nltk.stem.porter import PorterStemmer"
   ]
  },
  {
   "cell_type": "code",
   "execution_count": 47,
   "id": "bbb01f30-2f69-49a0-ad55-f59a5fd9366c",
   "metadata": {},
   "outputs": [],
   "source": [
    "# now i am going to use the porterstemmer to create a class/categorization of stem\n",
    "\n",
    "p_stemmer = PorterStemmer()"
   ]
  },
  {
   "cell_type": "code",
   "execution_count": 48,
   "id": "25ffa15b-4d43-401e-acd3-da68190419c1",
   "metadata": {},
   "outputs": [],
   "source": [
    "listOfStemmedWords = []\n",
    "for i in movie_reviews_no_sw:\n",
    "    listOfStemmedWords.append([p_stemmer.stem(w) for w in i])"
   ]
  },
  {
   "cell_type": "code",
   "execution_count": 49,
   "id": "3faeebc8-a9ea-4ea8-938c-da496ccf347f",
   "metadata": {},
   "outputs": [
    {
     "name": "stdout",
     "output_type": "stream",
     "text": [
      "Collecting gensim\n",
      "  Using cached gensim-4.1.2-cp39-cp39-manylinux_2_12_x86_64.manylinux2010_x86_64.whl (24.0 MB)\n",
      "Collecting smart-open>=1.8.1\n",
      "  Using cached smart_open-5.2.1-py3-none-any.whl (58 kB)\n",
      "Requirement already satisfied: numpy>=1.17.0 in /opt/conda/lib/python3.9/site-packages (from gensim) (1.20.3)\n",
      "Requirement already satisfied: scipy>=0.18.1 in /opt/conda/lib/python3.9/site-packages (from gensim) (1.7.1)\n",
      "Installing collected packages: smart-open, gensim\n",
      "Successfully installed gensim-4.1.2 smart-open-5.2.1\n"
     ]
    }
   ],
   "source": [
    "!pip install gensim"
   ]
  },
  {
   "cell_type": "code",
   "execution_count": 50,
   "id": "70a28274-5f45-46da-981b-212d90998f0b",
   "metadata": {},
   "outputs": [],
   "source": [
    "from gensim import corpora, models\n",
    "import gensim"
   ]
  },
  {
   "cell_type": "code",
   "execution_count": 52,
   "id": "2d644977-e32b-4aac-8f22-a62b34e8eb2b",
   "metadata": {},
   "outputs": [],
   "source": [
    "dictionary = corpora.Dictionary(listOfStemmedWords)"
   ]
  },
  {
   "cell_type": "code",
   "execution_count": 53,
   "id": "48f4e577-f9c8-4686-be28-b64f2a758923",
   "metadata": {},
   "outputs": [],
   "source": [
    "corpus = [dictionary.doc2bow(text) for text in listOfStemmedWords]"
   ]
  },
  {
   "cell_type": "code",
   "execution_count": 55,
   "id": "b2043c68-adcf-463a-afc7-0a536b4421a9",
   "metadata": {},
   "outputs": [],
   "source": [
    "ldamodel = gensim.models.ldamodel.LdaModel(corpus, num_topics=2,id2word=dictionary, passes=20)"
   ]
  },
  {
   "cell_type": "code",
   "execution_count": 56,
   "id": "7e42865c-db50-420a-b5e4-b62df04e739c",
   "metadata": {},
   "outputs": [
    {
     "name": "stdout",
     "output_type": "stream",
     "text": [
      "(0, '0.014*\"movi\" + 0.012*\"well\" + 0.012*\"good\" + 0.008*\"watch\" + 0.008*\"peopl\" + 0.006*\"say\" + 0.006*\"differ\" + 0.006*\"see\" + 0.006*\"like\" + 0.006*\"wilson\" + 0.006*\"love\" + 0.006*\"romant\" + 0.006*\"film\" + 0.005*\"know\" + 0.005*\"thought\" + 0.005*\"want\" + 0.005*\"mean\" + 0.005*\"rare\" + 0.005*\"way\" + 0.005*\"let\"')\n",
      "(1, '0.032*\"film\" + 0.014*\"movi\" + 0.013*\"parasit\" + 0.013*\"like\" + 0.007*\"time\" + 0.006*\"comedi\" + 0.006*\"noth\" + 0.006*\"feel\" + 0.006*\"ca\" + 0.006*\"almost\" + 0.006*\"end\" + 0.005*\"genr\" + 0.005*\"saw\" + 0.005*\"done\" + 0.005*\"watch\" + 0.005*\"still\" + 0.005*\"everi\" + 0.005*\"start\" + 0.005*\"thriller\" + 0.005*\"layer\"')\n"
     ]
    }
   ],
   "source": [
    "for i in ldamodel.print_topics(num_topics=2,num_words=20):\n",
    "    print(i)"
   ]
  },
  {
   "cell_type": "markdown",
   "id": "44e5985a-fc6d-4736-9f0d-62cc4e0e7a4c",
   "metadata": {},
   "source": [
    "# Comment on the words that the model chooses to represent the 2 topics and whether they match your split between comedeis and dramas."
   ]
  },
  {
   "cell_type": "markdown",
   "id": "4218e0e9-8316-4e74-9fb8-28ab8575c582",
   "metadata": {},
   "source": [
    "The two topics that the model chooses to recommend based uponnelting a moview that is a comedy and another that is a drama. An interesting point to observe is that while the genre for each movie is disticnt the recomendations dont seem to see such a split between the two genres. For exmaple, both topics provide,film, movi, yet the comedy movie doesnt five comedi as a reccomendation, it seems like it was analized as a romantic comedy. Furthermore,they also share common root words yet can give different meanings. For example: the first topic includes the verbs \" watch, say, see, thought, want. The second topic has: \"saw, watch, still,start\" This demonstrates how there isnt a clear cut separation betweemn the two films and their topics/reviews."
   ]
  },
  {
   "cell_type": "code",
   "execution_count": null,
   "id": "699fa615-875a-40b0-af8e-e1b88d4c57d2",
   "metadata": {},
   "outputs": [],
   "source": []
  }
 ],
 "metadata": {
  "kernelspec": {
   "display_name": "Python 3 (ipykernel)",
   "language": "python",
   "name": "python3"
  },
  "language_info": {
   "codemirror_mode": {
    "name": "ipython",
    "version": 3
   },
   "file_extension": ".py",
   "mimetype": "text/x-python",
   "name": "python",
   "nbconvert_exporter": "python",
   "pygments_lexer": "ipython3",
   "version": "3.9.6"
  }
 },
 "nbformat": 4,
 "nbformat_minor": 5
}
