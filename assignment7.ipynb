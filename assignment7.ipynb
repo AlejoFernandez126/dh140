{
 "cells": [
  {
   "cell_type": "markdown",
   "id": "f12a74f1-26f7-4ebc-a802-2f9d94dc2194",
   "metadata": {},
   "source": [
    "# Assigment 7 Stats & Modeling"
   ]
  },
  {
   "cell_type": "markdown",
   "id": "b9921dae-a9e4-4bb9-81a3-5cec2413310c",
   "metadata": {},
   "source": [
    "## The first step I am tkaing for this assignment is to first import the libraries i will be using for this assignment "
   ]
  },
  {
   "cell_type": "code",
   "execution_count": 96,
   "id": "3818a4ea-a0d3-43ec-be13-06d9ed4274d1",
   "metadata": {},
   "outputs": [],
   "source": [
    "import requests\n",
    "from nltk.tokenize import sent_tokenize, word_tokenize\n",
    "from nltk.corpus import stopwords\n",
    "from nltk.probability import FreqDist\n",
    "from nltk.stem import WordNetLemmatizer\n",
    "from string import punctuation\n",
    "import numpy as np\n",
    "import pandas as pd"
   ]
  },
  {
   "cell_type": "markdown",
   "id": "71f7203b-0030-45f8-8cb3-834da6b64171",
   "metadata": {},
   "source": [
    "## Second step create python string from text"
   ]
  },
  {
   "cell_type": "code",
   "execution_count": 97,
   "id": "d7382e81-5442-4e44-8404-638840bf061a",
   "metadata": {},
   "outputs": [],
   "source": [
    "# Make a python string that contains the play Macbeth by William Shakespear.\n",
    "\n",
    "# Text was found on project gutenberg\n",
    "\n",
    "with open('macbeth.txt','w',encoding='utf-8') as f:\n",
    "    f.write(requests.get('https://www.gutenberg.org/cache/epub/2264/pg2264.txt').text)"
   ]
  },
  {
   "cell_type": "code",
   "execution_count": 98,
   "id": "1eabe153-adb4-4fa6-bd2b-1b3c4e97bd44",
   "metadata": {},
   "outputs": [],
   "source": [
    "document = open ('macbeth.txt', 'r')\n",
    "text = document.read().lower()"
   ]
  },
  {
   "cell_type": "markdown",
   "id": "47c585e5-d65e-44eb-9fab-228624fa75d0",
   "metadata": {},
   "source": [
    "## Third Step, Tokenization & Lemmeatization"
   ]
  },
  {
   "cell_type": "code",
   "execution_count": 99,
   "id": "dcc6d1f3-9961-4a46-97a8-9ee0cc1073c0",
   "metadata": {},
   "outputs": [],
   "source": [
    "from nltk.tokenize import word_tokenize, sent_tokenize"
   ]
  },
  {
   "cell_type": "markdown",
   "id": "23cc310c-10a9-46f6-8e06-15f825c8b424",
   "metadata": {},
   "source": [
    "## Fourth step\n",
    "-now i am going to tokenize the text into sentences."
   ]
  },
  {
   "cell_type": "code",
   "execution_count": 100,
   "id": "c6a960e7-1f27-43a6-bc5f-b4f71013f463",
   "metadata": {},
   "outputs": [],
   "source": [
    "sentences = sent_tokenize(text)"
   ]
  },
  {
   "cell_type": "markdown",
   "id": "795b0cc9-0ea7-4a75-bdf9-5e6313abcddd",
   "metadata": {},
   "source": [
    "## Fifth Step\n",
    "\n",
    "-now i am going to tokenize the sentences into words.\n",
    "\n"
   ]
  },
  {
   "cell_type": "code",
   "execution_count": 101,
   "id": "75e54d7b-ea42-4e09-842d-c98f812761af",
   "metadata": {},
   "outputs": [],
   "source": [
    "words = []\n",
    "for s in sentences:\n",
    "    for w in word_tokenize(s):\n",
    "        words.append(w)"
   ]
  },
  {
   "cell_type": "code",
   "execution_count": 102,
   "id": "bb39f021-be52-48f9-9e89-73e36dedf63e",
   "metadata": {},
   "outputs": [],
   "source": [
    "# now lemmeatization of stemmed words\n",
    "\n",
    "words_stemmed = [WordNetLemmatizer().lemmatize(w) for w in words]"
   ]
  },
  {
   "cell_type": "markdown",
   "id": "0d3c44ce-2192-474f-bf17-1f879f7ab1f0",
   "metadata": {},
   "source": [
    "## Sixth Step\n",
    "### stop word removal"
   ]
  },
  {
   "cell_type": "code",
   "execution_count": 103,
   "id": "3a521bfe-9696-4ece-9185-92d3ea0eff21",
   "metadata": {},
   "outputs": [],
   "source": [
    "#ex_sw is short for extra stopwords"
   ]
  },
  {
   "cell_type": "code",
   "execution_count": 104,
   "id": "e045a374-a7ca-47f7-9c45-fa15c8fe6e8c",
   "metadata": {},
   "outputs": [],
   "source": [
    "ex_sw = ['project', 'gutenberg', 'gutenberg-tm', '--', '...', '\\\\', 'ï', '»', '¿']"
   ]
  },
  {
   "cell_type": "code",
   "execution_count": 105,
   "id": "f91766d0-b7dc-4a4d-9da3-16ba7fa34dfe",
   "metadata": {},
   "outputs": [],
   "source": [
    "#sw is short for stopwords\n",
    "\n",
    "sw = list(punctuation) + stopwords.words('english') + ex_sw"
   ]
  },
  {
   "cell_type": "code",
   "execution_count": 106,
   "id": "657b15b3-b50f-47dd-b331-98c60f3d16d3",
   "metadata": {},
   "outputs": [],
   "source": [
    "words_no_sw = [w for w in words_stemmed if w not in sw]"
   ]
  },
  {
   "cell_type": "markdown",
   "id": "49477f7d-3776-493f-9923-050df9836b06",
   "metadata": {},
   "source": [
    "## Seventh step, Word Frequencies with mean median, mode & trimmed mean"
   ]
  },
  {
   "cell_type": "code",
   "execution_count": 107,
   "id": "2e07acae-befc-4d1b-9cf2-9b03185a633a",
   "metadata": {},
   "outputs": [],
   "source": [
    "#the words that are not a part of the stop word list are going to be significant words. *personal note*\n",
    "\n",
    "words_no_sw = FreqDist(words_no_sw)"
   ]
  },
  {
   "cell_type": "code",
   "execution_count": 108,
   "id": "2e8c0501-0711-43c0-a79c-1a594c2b6de4",
   "metadata": {},
   "outputs": [],
   "source": [
    "words_no_sw = [w for w in words_stemmed if w not in sw]"
   ]
  },
  {
   "cell_type": "code",
   "execution_count": 109,
   "id": "09a397d3-62f5-4711-98be-b860652b33a0",
   "metadata": {},
   "outputs": [],
   "source": [
    "words_freq = FreqDist(words_no_sw)"
   ]
  },
  {
   "cell_type": "code",
   "execution_count": 110,
   "id": "c0592fd0-c1a6-4d83-a857-490ed6900f8b",
   "metadata": {},
   "outputs": [],
   "source": [
    "wordlist = []\n",
    "wordfreq = []\n",
    "for i in sorted(words_freq, key=words_freq.get, reverse=True):\n",
    "    wordlist.append(i)\n",
    "    wordfreq.append(words_freq[i])"
   ]
  },
  {
   "cell_type": "code",
   "execution_count": 111,
   "id": "26ed204d-713e-4f4a-8a6e-0b0ba8181def",
   "metadata": {},
   "outputs": [],
   "source": [
    "df = pd.DataFrame({'wordlist': wordlist, 'wordfreq': wordfreq})"
   ]
  },
  {
   "cell_type": "code",
   "execution_count": 112,
   "id": "0b436f42-00f7-4329-b962-a0aa08f3b8d6",
   "metadata": {},
   "outputs": [
    {
     "data": {
      "text/plain": [
       "3.1443381180223287"
      ]
     },
     "execution_count": 112,
     "metadata": {},
     "output_type": "execute_result"
    }
   ],
   "source": [
    "# now i can find the mean\n",
    "\n",
    "df['wordfreq'].mean()"
   ]
  },
  {
   "cell_type": "code",
   "execution_count": 113,
   "id": "4f9d1d3d-6630-46e2-8bfb-be5aaa5921b0",
   "metadata": {},
   "outputs": [
    {
     "data": {
      "text/plain": [
       "0    1\n",
       "dtype: int64"
      ]
     },
     "execution_count": 113,
     "metadata": {},
     "output_type": "execute_result"
    }
   ],
   "source": [
    "# now i can find the mode\n",
    "\n",
    "df['wordfreq'].mode()"
   ]
  },
  {
   "cell_type": "code",
   "execution_count": 114,
   "id": "f043fd15-bddc-48eb-be62-5e7f77faf157",
   "metadata": {},
   "outputs": [
    {
     "data": {
      "text/plain": [
       "1.0"
      ]
     },
     "execution_count": 114,
     "metadata": {},
     "output_type": "execute_result"
    }
   ],
   "source": [
    "# now i can find the median\n",
    "\n",
    "df['wordfreq'].median()"
   ]
  },
  {
   "cell_type": "code",
   "execution_count": 115,
   "id": "600a694f-69f0-4e38-892e-49de89968fdc",
   "metadata": {},
   "outputs": [
    {
     "data": {
      "text/plain": [
       "14.652083333333334"
      ]
     },
     "execution_count": 115,
     "metadata": {},
     "output_type": "execute_result"
    }
   ],
   "source": [
    "# Finding trimmed mean\n",
    "\n",
    "df[df['wordfreq'] >= 5]['wordfreq'].mean()"
   ]
  },
  {
   "cell_type": "markdown",
   "id": "aef1da77-1be9-40f6-9a8d-70f53f167f19",
   "metadata": {},
   "source": [
    "Words that have a frequency that is lower than 5 occurances get omitted when calculatin the trimmed mean"
   ]
  },
  {
   "cell_type": "markdown",
   "id": "f7830748-2a31-476f-8ebf-0bc4c1765255",
   "metadata": {},
   "source": [
    "I wanted to see the difference in the trimmed mean when comparing words that occur less than 5 times with words that occur less than 10 "
   ]
  },
  {
   "cell_type": "code",
   "execution_count": 116,
   "id": "1ccaae12-daec-4e97-b9f6-98f24bcb3df1",
   "metadata": {},
   "outputs": [
    {
     "data": {
      "text/plain": [
       "25.023474178403756"
      ]
     },
     "execution_count": 116,
     "metadata": {},
     "output_type": "execute_result"
    }
   ],
   "source": [
    "# Finding trimmed mean\n",
    "\n",
    "df[df['wordfreq'] >= 10]['wordfreq'].mean()"
   ]
  },
  {
   "cell_type": "markdown",
   "id": "cd9c815b-d442-4ee3-beee-b14d71938dfd",
   "metadata": {},
   "source": [
    "# Plotting the data "
   ]
  },
  {
   "cell_type": "markdown",
   "id": "b4c0349d-e811-4138-84a5-2fc663a90358",
   "metadata": {},
   "source": [
    "### Next plot a histogram of the number of word frequency \n"
   ]
  },
  {
   "cell_type": "code",
   "execution_count": 118,
   "id": "6136e82a-e9d8-4e57-b286-89e3417b5e29",
   "metadata": {},
   "outputs": [
    {
     "data": {
      "text/plain": [
       "<AxesSubplot:title={'center':'Word Frenquency in Macbeth by Shakespeare'}, ylabel='Frequency'>"
      ]
     },
     "execution_count": 118,
     "metadata": {},
     "output_type": "execute_result"
    },
    {
     "data": {
      "image/png": "[encoded data removed]",
      "text/plain": [
       "<Figure size 432x288 with 1 Axes>"
      ]
     },
     "metadata": {
      "needs_background": "light"
     },
     "output_type": "display_data"
    }
   ],
   "source": [
    "df.plot(kind='hist', bins=70, title='Word Frenquency in Macbeth by Shakespeare')"
   ]
  },
  {
   "cell_type": "markdown",
   "id": "70f5fca5-8237-4119-8354-5a59c40e34ad",
   "metadata": {},
   "source": [
    "### Analysis for the above histogram:\n",
    "\n",
    "The mean word frequency is roughly 3.29, which is on the very left corner of the histogram.\n",
    "\n",
    "The scale of the x-axis is from 0 to over 200. The median and mode are both 1, which shows that the majority of the words appear once, and these values are plotted in the lower end of the x-axis of the histogram. \n",
    "\n",
    "The trimmed mean, which trimmed the word frequencies lower than 5, has a value of 14.52. This is still on the lower end of the histogram, However it skews more towards the right than the mean, mode, and median."
   ]
  },
  {
   "cell_type": "code",
   "execution_count": 119,
   "id": "8dabe915-2ea9-44b4-92ab-f81b6ea1e817",
   "metadata": {},
   "outputs": [
    {
     "data": {
      "text/plain": [
       "<AxesSubplot:title={'center':'Word Frequency in Macbeth  by Shakespeare'}, ylabel='Frequency'>"
      ]
     },
     "execution_count": 119,
     "metadata": {},
     "output_type": "execute_result"
    },
    {
     "data": {
      "image/png": "[encoded data removed]",
      "text/plain": [
       "<Figure size 432x288 with 1 Axes>"
      ]
     },
     "metadata": {
      "needs_background": "light"
     },
     "output_type": "display_data"
    }
   ],
   "source": [
    "# word frequency histogram with word frequencies >= 5\n",
    "\n",
    "df[df['wordfreq'] >= 5]['wordfreq'].plot(kind='hist', bins=70, title='Word Frequency in Macbeth  by Shakespeare')"
   ]
  },
  {
   "cell_type": "markdown",
   "id": "47c702e6-6e1e-4dd0-9164-4ef89d48fece",
   "metadata": {},
   "source": [
    "This histogram only shows the word frequencies greater or equal to 5, and we are able to see the frequency distribution (especially the higher values) more clearly."
   ]
  },
  {
   "cell_type": "code",
   "execution_count": 120,
   "id": "26a7f7a9-903b-4f69-ac03-c2c9c32cbc28",
   "metadata": {},
   "outputs": [
    {
     "data": {
      "text/plain": [
       "7.8437720863697535"
      ]
     },
     "execution_count": 120,
     "metadata": {},
     "output_type": "execute_result"
    }
   ],
   "source": [
    "# standard deviation\n",
    "\n",
    "df['wordfreq'].std()"
   ]
  },
  {
   "cell_type": "code",
   "execution_count": 121,
   "id": "e7443641-14a6-40cb-b89b-14329159ae80",
   "metadata": {},
   "outputs": [
    {
     "data": {
      "text/plain": [
       "1.0"
      ]
     },
     "execution_count": 121,
     "metadata": {},
     "output_type": "execute_result"
    }
   ],
   "source": [
    "# interquartile range\n",
    "\n",
    "df['wordfreq'].quantile(0.75) - df['wordfreq'].quantile(0.25)\n"
   ]
  },
  {
   "cell_type": "markdown",
   "id": "05749695-5b08-4def-a902-202d4fb7ef4c",
   "metadata": {},
   "source": [
    "### Overall Analysis\n",
    "\n",
    "The standard deviation and the interquartile range can both be used to measure the spread of the values. For this analysis, the standard deviation and the interquartile range have a large difference because the data is skewed to the right. \n",
    "\n",
    "This indicates that there are a lot of outliers i.e. values of greater values than the normal value. The standard deviation is 8.27, this shows that there could be values that deviate far from the mean, 3.29. \n",
    "\n",
    "The interquartile range is only 2, with the 75% quantile being 2 and the 25% quantile being 1, demonstrates that there are is a very large number of values clustered at the lower end. \n",
    "\n",
    "On the histogram, the interquartile range would be at the very lower end, and the standard deviation would be to the right of it"
   ]
  },
  {
   "cell_type": "markdown",
   "id": "ad123155-2c3c-47a7-9a25-d311500e30b2",
   "metadata": {},
   "source": [
    "# Foray into Machine learning"
   ]
  },
  {
   "cell_type": "markdown",
   "id": "26847871-58c4-4584-9278-50b7c4ce95ae",
   "metadata": {},
   "source": [
    "### First step is to import scikit-learn's example diabetes dataset as a Panda's dataframe"
   ]
  },
  {
   "cell_type": "code",
   "execution_count": 122,
   "id": "36ab1272-96a6-4a4a-ba92-d23cb57d20b0",
   "metadata": {},
   "outputs": [],
   "source": [
    "from sklearn import datasets\n",
    "df = datasets.load_diabetes(as_frame=True) \n",
    "features_df = df.data\n",
    "target_df = df.target"
   ]
  },
  {
   "cell_type": "code",
   "execution_count": 123,
   "id": "113d24f7-f477-48c8-bbc1-f23df93ecc76",
   "metadata": {},
   "outputs": [
    {
     "name": "stdout",
     "output_type": "stream",
     "text": [
      ".. _diabetes_dataset:\n",
      "\n",
      "Diabetes dataset\n",
      "----------------\n",
      "\n",
      "Ten baseline variables, age, sex, body mass index, average blood\n",
      "pressure, and six blood serum measurements were obtained for each of n =\n",
      "442 diabetes patients, as well as the response of interest, a\n",
      "quantitative measure of disease progression one year after baseline.\n",
      "\n",
      "**Data Set Characteristics:**\n",
      "\n",
      "  :Number of Instances: 442\n",
      "\n",
      "  :Number of Attributes: First 10 columns are numeric predictive values\n",
      "\n",
      "  :Target: Column 11 is a quantitative measure of disease progression one year after baseline\n",
      "\n",
      "  :Attribute Information:\n",
      "      - age     age in years\n",
      "      - sex\n",
      "      - bmi     body mass index\n",
      "      - bp      average blood pressure\n",
      "      - s1      tc, total serum cholesterol\n",
      "      - s2      ldl, low-density lipoproteins\n",
      "      - s3      hdl, high-density lipoproteins\n",
      "      - s4      tch, total cholesterol / HDL\n",
      "      - s5      ltg, possibly log of serum triglycerides level\n",
      "      - s6      glu, blood sugar level\n",
      "\n",
      "Note: Each of these 10 feature variables have been mean centered and scaled by the standard deviation times `n_samples` (i.e. the sum of squares of each column totals 1).\n",
      "\n",
      "Source URL:\n",
      "https://www4.stat.ncsu.edu/~boos/var.select/diabetes.html\n",
      "\n",
      "For more information see:\n",
      "Bradley Efron, Trevor Hastie, Iain Johnstone and Robert Tibshirani (2004) \"Least Angle Regression,\" Annals of Statistics (with discussion), 407-499.\n",
      "(https://web.stanford.edu/~hastie/Papers/LARS/LeastAngle_2002.pdf)\n"
     ]
    }
   ],
   "source": [
    "# To view description of the dataset\n",
    "\n",
    "print(df.DESCR)"
   ]
  },
  {
   "cell_type": "markdown",
   "id": "573d5d60-6fb4-4722-b881-8ac28908f8cb",
   "metadata": {},
   "source": [
    "### Exploratory Data Analysis"
   ]
  },
  {
   "cell_type": "code",
   "execution_count": 124,
   "id": "13582fb7-bf90-4571-9ce5-93abb1ff046a",
   "metadata": {},
   "outputs": [
    {
     "data": {
      "text/html": [
       "<div>\n",
       "<style scoped>\n",
       "    .dataframe tbody tr th:only-of-type {\n",
       "        vertical-align: middle;\n",
       "    }\n",
       "\n",
       "    .dataframe tbody tr th {\n",
       "        vertical-align: top;\n",
       "    }\n",
       "\n",
       "    .dataframe thead th {\n",
       "        text-align: right;\n",
       "    }\n",
       "</style>\n",
       "<table border=\"1\" class=\"dataframe\">\n",
       "  <thead>\n",
       "    <tr style=\"text-align: right;\">\n",
       "      <th></th>\n",
       "      <th>age</th>\n",
       "      <th>sex</th>\n",
       "      <th>bmi</th>\n",
       "      <th>bp</th>\n",
       "      <th>s1</th>\n",
       "      <th>s2</th>\n",
       "      <th>s3</th>\n",
       "      <th>s4</th>\n",
       "      <th>s5</th>\n",
       "      <th>s6</th>\n",
       "    </tr>\n",
       "  </thead>\n",
       "  <tbody>\n",
       "    <tr>\n",
       "      <th>0</th>\n",
       "      <td>0.038076</td>\n",
       "      <td>0.050680</td>\n",
       "      <td>0.061696</td>\n",
       "      <td>0.021872</td>\n",
       "      <td>-0.044223</td>\n",
       "      <td>-0.034821</td>\n",
       "      <td>-0.043401</td>\n",
       "      <td>-0.002592</td>\n",
       "      <td>0.019908</td>\n",
       "      <td>-0.017646</td>\n",
       "    </tr>\n",
       "    <tr>\n",
       "      <th>1</th>\n",
       "      <td>-0.001882</td>\n",
       "      <td>-0.044642</td>\n",
       "      <td>-0.051474</td>\n",
       "      <td>-0.026328</td>\n",
       "      <td>-0.008449</td>\n",
       "      <td>-0.019163</td>\n",
       "      <td>0.074412</td>\n",
       "      <td>-0.039493</td>\n",
       "      <td>-0.068330</td>\n",
       "      <td>-0.092204</td>\n",
       "    </tr>\n",
       "    <tr>\n",
       "      <th>2</th>\n",
       "      <td>0.085299</td>\n",
       "      <td>0.050680</td>\n",
       "      <td>0.044451</td>\n",
       "      <td>-0.005671</td>\n",
       "      <td>-0.045599</td>\n",
       "      <td>-0.034194</td>\n",
       "      <td>-0.032356</td>\n",
       "      <td>-0.002592</td>\n",
       "      <td>0.002864</td>\n",
       "      <td>-0.025930</td>\n",
       "    </tr>\n",
       "    <tr>\n",
       "      <th>3</th>\n",
       "      <td>-0.089063</td>\n",
       "      <td>-0.044642</td>\n",
       "      <td>-0.011595</td>\n",
       "      <td>-0.036656</td>\n",
       "      <td>0.012191</td>\n",
       "      <td>0.024991</td>\n",
       "      <td>-0.036038</td>\n",
       "      <td>0.034309</td>\n",
       "      <td>0.022692</td>\n",
       "      <td>-0.009362</td>\n",
       "    </tr>\n",
       "    <tr>\n",
       "      <th>4</th>\n",
       "      <td>0.005383</td>\n",
       "      <td>-0.044642</td>\n",
       "      <td>-0.036385</td>\n",
       "      <td>0.021872</td>\n",
       "      <td>0.003935</td>\n",
       "      <td>0.015596</td>\n",
       "      <td>0.008142</td>\n",
       "      <td>-0.002592</td>\n",
       "      <td>-0.031991</td>\n",
       "      <td>-0.046641</td>\n",
       "    </tr>\n",
       "    <tr>\n",
       "      <th>...</th>\n",
       "      <td>...</td>\n",
       "      <td>...</td>\n",
       "      <td>...</td>\n",
       "      <td>...</td>\n",
       "      <td>...</td>\n",
       "      <td>...</td>\n",
       "      <td>...</td>\n",
       "      <td>...</td>\n",
       "      <td>...</td>\n",
       "      <td>...</td>\n",
       "    </tr>\n",
       "    <tr>\n",
       "      <th>437</th>\n",
       "      <td>0.041708</td>\n",
       "      <td>0.050680</td>\n",
       "      <td>0.019662</td>\n",
       "      <td>0.059744</td>\n",
       "      <td>-0.005697</td>\n",
       "      <td>-0.002566</td>\n",
       "      <td>-0.028674</td>\n",
       "      <td>-0.002592</td>\n",
       "      <td>0.031193</td>\n",
       "      <td>0.007207</td>\n",
       "    </tr>\n",
       "    <tr>\n",
       "      <th>438</th>\n",
       "      <td>-0.005515</td>\n",
       "      <td>0.050680</td>\n",
       "      <td>-0.015906</td>\n",
       "      <td>-0.067642</td>\n",
       "      <td>0.049341</td>\n",
       "      <td>0.079165</td>\n",
       "      <td>-0.028674</td>\n",
       "      <td>0.034309</td>\n",
       "      <td>-0.018118</td>\n",
       "      <td>0.044485</td>\n",
       "    </tr>\n",
       "    <tr>\n",
       "      <th>439</th>\n",
       "      <td>0.041708</td>\n",
       "      <td>0.050680</td>\n",
       "      <td>-0.015906</td>\n",
       "      <td>0.017282</td>\n",
       "      <td>-0.037344</td>\n",
       "      <td>-0.013840</td>\n",
       "      <td>-0.024993</td>\n",
       "      <td>-0.011080</td>\n",
       "      <td>-0.046879</td>\n",
       "      <td>0.015491</td>\n",
       "    </tr>\n",
       "    <tr>\n",
       "      <th>440</th>\n",
       "      <td>-0.045472</td>\n",
       "      <td>-0.044642</td>\n",
       "      <td>0.039062</td>\n",
       "      <td>0.001215</td>\n",
       "      <td>0.016318</td>\n",
       "      <td>0.015283</td>\n",
       "      <td>-0.028674</td>\n",
       "      <td>0.026560</td>\n",
       "      <td>0.044528</td>\n",
       "      <td>-0.025930</td>\n",
       "    </tr>\n",
       "    <tr>\n",
       "      <th>441</th>\n",
       "      <td>-0.045472</td>\n",
       "      <td>-0.044642</td>\n",
       "      <td>-0.073030</td>\n",
       "      <td>-0.081414</td>\n",
       "      <td>0.083740</td>\n",
       "      <td>0.027809</td>\n",
       "      <td>0.173816</td>\n",
       "      <td>-0.039493</td>\n",
       "      <td>-0.004220</td>\n",
       "      <td>0.003064</td>\n",
       "    </tr>\n",
       "  </tbody>\n",
       "</table>\n",
       "<p>442 rows × 10 columns</p>\n",
       "</div>"
      ],
      "text/plain": [
       "          age       sex       bmi        bp        s1        s2        s3  \\\n",
       "0    0.038076  0.050680  0.061696  0.021872 -0.044223 -0.034821 -0.043401   \n",
       "1   -0.001882 -0.044642 -0.051474 -0.026328 -0.008449 -0.019163  0.074412   \n",
       "2    0.085299  0.050680  0.044451 -0.005671 -0.045599 -0.034194 -0.032356   \n",
       "3   -0.089063 -0.044642 -0.011595 -0.036656  0.012191  0.024991 -0.036038   \n",
       "4    0.005383 -0.044642 -0.036385  0.021872  0.003935  0.015596  0.008142   \n",
       "..        ...       ...       ...       ...       ...       ...       ...   \n",
       "437  0.041708  0.050680  0.019662  0.059744 -0.005697 -0.002566 -0.028674   \n",
       "438 -0.005515  0.050680 -0.015906 -0.067642  0.049341  0.079165 -0.028674   \n",
       "439  0.041708  0.050680 -0.015906  0.017282 -0.037344 -0.013840 -0.024993   \n",
       "440 -0.045472 -0.044642  0.039062  0.001215  0.016318  0.015283 -0.028674   \n",
       "441 -0.045472 -0.044642 -0.073030 -0.081414  0.083740  0.027809  0.173816   \n",
       "\n",
       "           s4        s5        s6  \n",
       "0   -0.002592  0.019908 -0.017646  \n",
       "1   -0.039493 -0.068330 -0.092204  \n",
       "2   -0.002592  0.002864 -0.025930  \n",
       "3    0.034309  0.022692 -0.009362  \n",
       "4   -0.002592 -0.031991 -0.046641  \n",
       "..        ...       ...       ...  \n",
       "437 -0.002592  0.031193  0.007207  \n",
       "438  0.034309 -0.018118  0.044485  \n",
       "439 -0.011080 -0.046879  0.015491  \n",
       "440  0.026560  0.044528 -0.025930  \n",
       "441 -0.039493 -0.004220  0.003064  \n",
       "\n",
       "[442 rows x 10 columns]"
      ]
     },
     "execution_count": 124,
     "metadata": {},
     "output_type": "execute_result"
    }
   ],
   "source": [
    "features_df"
   ]
  },
  {
   "cell_type": "code",
   "execution_count": 125,
   "id": "5a775f73-5f35-45c0-8d65-cf81eacace28",
   "metadata": {},
   "outputs": [
    {
     "data": {
      "text/html": [
       "<div>\n",
       "<style scoped>\n",
       "    .dataframe tbody tr th:only-of-type {\n",
       "        vertical-align: middle;\n",
       "    }\n",
       "\n",
       "    .dataframe tbody tr th {\n",
       "        vertical-align: top;\n",
       "    }\n",
       "\n",
       "    .dataframe thead th {\n",
       "        text-align: right;\n",
       "    }\n",
       "</style>\n",
       "<table border=\"1\" class=\"dataframe\">\n",
       "  <thead>\n",
       "    <tr style=\"text-align: right;\">\n",
       "      <th></th>\n",
       "      <th>age</th>\n",
       "      <th>sex</th>\n",
       "      <th>bmi</th>\n",
       "      <th>bp</th>\n",
       "      <th>s1</th>\n",
       "      <th>s2</th>\n",
       "      <th>s3</th>\n",
       "      <th>s4</th>\n",
       "      <th>s5</th>\n",
       "      <th>s6</th>\n",
       "    </tr>\n",
       "  </thead>\n",
       "  <tbody>\n",
       "    <tr>\n",
       "      <th>count</th>\n",
       "      <td>4.420000e+02</td>\n",
       "      <td>4.420000e+02</td>\n",
       "      <td>4.420000e+02</td>\n",
       "      <td>4.420000e+02</td>\n",
       "      <td>4.420000e+02</td>\n",
       "      <td>4.420000e+02</td>\n",
       "      <td>4.420000e+02</td>\n",
       "      <td>4.420000e+02</td>\n",
       "      <td>4.420000e+02</td>\n",
       "      <td>4.420000e+02</td>\n",
       "    </tr>\n",
       "    <tr>\n",
       "      <th>mean</th>\n",
       "      <td>-3.634285e-16</td>\n",
       "      <td>1.308343e-16</td>\n",
       "      <td>-8.045349e-16</td>\n",
       "      <td>1.281655e-16</td>\n",
       "      <td>-8.835316e-17</td>\n",
       "      <td>1.327024e-16</td>\n",
       "      <td>-4.574646e-16</td>\n",
       "      <td>3.777301e-16</td>\n",
       "      <td>-3.830854e-16</td>\n",
       "      <td>-3.412882e-16</td>\n",
       "    </tr>\n",
       "    <tr>\n",
       "      <th>std</th>\n",
       "      <td>4.761905e-02</td>\n",
       "      <td>4.761905e-02</td>\n",
       "      <td>4.761905e-02</td>\n",
       "      <td>4.761905e-02</td>\n",
       "      <td>4.761905e-02</td>\n",
       "      <td>4.761905e-02</td>\n",
       "      <td>4.761905e-02</td>\n",
       "      <td>4.761905e-02</td>\n",
       "      <td>4.761905e-02</td>\n",
       "      <td>4.761905e-02</td>\n",
       "    </tr>\n",
       "    <tr>\n",
       "      <th>min</th>\n",
       "      <td>-1.072256e-01</td>\n",
       "      <td>-4.464164e-02</td>\n",
       "      <td>-9.027530e-02</td>\n",
       "      <td>-1.123996e-01</td>\n",
       "      <td>-1.267807e-01</td>\n",
       "      <td>-1.156131e-01</td>\n",
       "      <td>-1.023071e-01</td>\n",
       "      <td>-7.639450e-02</td>\n",
       "      <td>-1.260974e-01</td>\n",
       "      <td>-1.377672e-01</td>\n",
       "    </tr>\n",
       "    <tr>\n",
       "      <th>25%</th>\n",
       "      <td>-3.729927e-02</td>\n",
       "      <td>-4.464164e-02</td>\n",
       "      <td>-3.422907e-02</td>\n",
       "      <td>-3.665645e-02</td>\n",
       "      <td>-3.424784e-02</td>\n",
       "      <td>-3.035840e-02</td>\n",
       "      <td>-3.511716e-02</td>\n",
       "      <td>-3.949338e-02</td>\n",
       "      <td>-3.324879e-02</td>\n",
       "      <td>-3.317903e-02</td>\n",
       "    </tr>\n",
       "    <tr>\n",
       "      <th>50%</th>\n",
       "      <td>5.383060e-03</td>\n",
       "      <td>-4.464164e-02</td>\n",
       "      <td>-7.283766e-03</td>\n",
       "      <td>-5.670611e-03</td>\n",
       "      <td>-4.320866e-03</td>\n",
       "      <td>-3.819065e-03</td>\n",
       "      <td>-6.584468e-03</td>\n",
       "      <td>-2.592262e-03</td>\n",
       "      <td>-1.947634e-03</td>\n",
       "      <td>-1.077698e-03</td>\n",
       "    </tr>\n",
       "    <tr>\n",
       "      <th>75%</th>\n",
       "      <td>3.807591e-02</td>\n",
       "      <td>5.068012e-02</td>\n",
       "      <td>3.124802e-02</td>\n",
       "      <td>3.564384e-02</td>\n",
       "      <td>2.835801e-02</td>\n",
       "      <td>2.984439e-02</td>\n",
       "      <td>2.931150e-02</td>\n",
       "      <td>3.430886e-02</td>\n",
       "      <td>3.243323e-02</td>\n",
       "      <td>2.791705e-02</td>\n",
       "    </tr>\n",
       "    <tr>\n",
       "      <th>max</th>\n",
       "      <td>1.107267e-01</td>\n",
       "      <td>5.068012e-02</td>\n",
       "      <td>1.705552e-01</td>\n",
       "      <td>1.320442e-01</td>\n",
       "      <td>1.539137e-01</td>\n",
       "      <td>1.987880e-01</td>\n",
       "      <td>1.811791e-01</td>\n",
       "      <td>1.852344e-01</td>\n",
       "      <td>1.335990e-01</td>\n",
       "      <td>1.356118e-01</td>\n",
       "    </tr>\n",
       "  </tbody>\n",
       "</table>\n",
       "</div>"
      ],
      "text/plain": [
       "                age           sex           bmi            bp            s1  \\\n",
       "count  4.420000e+02  4.420000e+02  4.420000e+02  4.420000e+02  4.420000e+02   \n",
       "mean  -3.634285e-16  1.308343e-16 -8.045349e-16  1.281655e-16 -8.835316e-17   \n",
       "std    4.761905e-02  4.761905e-02  4.761905e-02  4.761905e-02  4.761905e-02   \n",
       "min   -1.072256e-01 -4.464164e-02 -9.027530e-02 -1.123996e-01 -1.267807e-01   \n",
       "25%   -3.729927e-02 -4.464164e-02 -3.422907e-02 -3.665645e-02 -3.424784e-02   \n",
       "50%    5.383060e-03 -4.464164e-02 -7.283766e-03 -5.670611e-03 -4.320866e-03   \n",
       "75%    3.807591e-02  5.068012e-02  3.124802e-02  3.564384e-02  2.835801e-02   \n",
       "max    1.107267e-01  5.068012e-02  1.705552e-01  1.320442e-01  1.539137e-01   \n",
       "\n",
       "                 s2            s3            s4            s5            s6  \n",
       "count  4.420000e+02  4.420000e+02  4.420000e+02  4.420000e+02  4.420000e+02  \n",
       "mean   1.327024e-16 -4.574646e-16  3.777301e-16 -3.830854e-16 -3.412882e-16  \n",
       "std    4.761905e-02  4.761905e-02  4.761905e-02  4.761905e-02  4.761905e-02  \n",
       "min   -1.156131e-01 -1.023071e-01 -7.639450e-02 -1.260974e-01 -1.377672e-01  \n",
       "25%   -3.035840e-02 -3.511716e-02 -3.949338e-02 -3.324879e-02 -3.317903e-02  \n",
       "50%   -3.819065e-03 -6.584468e-03 -2.592262e-03 -1.947634e-03 -1.077698e-03  \n",
       "75%    2.984439e-02  2.931150e-02  3.430886e-02  3.243323e-02  2.791705e-02  \n",
       "max    1.987880e-01  1.811791e-01  1.852344e-01  1.335990e-01  1.356118e-01  "
      ]
     },
     "execution_count": 125,
     "metadata": {},
     "output_type": "execute_result"
    }
   ],
   "source": [
    "# get summary statistical information\n",
    "\n",
    "features_df.describe()"
   ]
  },
  {
   "cell_type": "code",
   "execution_count": 126,
   "id": "719999b4-758f-4b0a-9d36-ff0c00a3e3d5",
   "metadata": {},
   "outputs": [
    {
     "data": {
      "text/plain": [
       "0      151.0\n",
       "1       75.0\n",
       "2      141.0\n",
       "3      206.0\n",
       "4      135.0\n",
       "       ...  \n",
       "437    178.0\n",
       "438    104.0\n",
       "439    132.0\n",
       "440    220.0\n",
       "441     57.0\n",
       "Name: target, Length: 442, dtype: float64"
      ]
     },
     "execution_count": 126,
     "metadata": {},
     "output_type": "execute_result"
    }
   ],
   "source": [
    "target_df"
   ]
  },
  {
   "cell_type": "code",
   "execution_count": 127,
   "id": "6a3e36d3-3216-454a-bce0-f2bf6c420970",
   "metadata": {},
   "outputs": [
    {
     "data": {
      "text/plain": [
       "count    442.000000\n",
       "mean     152.133484\n",
       "std       77.093005\n",
       "min       25.000000\n",
       "25%       87.000000\n",
       "50%      140.500000\n",
       "75%      211.500000\n",
       "max      346.000000\n",
       "Name: target, dtype: float64"
      ]
     },
     "execution_count": 127,
     "metadata": {},
     "output_type": "execute_result"
    }
   ],
   "source": [
    "# Summary statistical information of the targets\n",
    "\n",
    "target_df.describe()"
   ]
  },
  {
   "cell_type": "code",
   "execution_count": 128,
   "id": "1a9c1079-74c8-4582-ab46-c723285fa7ee",
   "metadata": {},
   "outputs": [
    {
     "name": "stdout",
     "output_type": "stream",
     "text": [
      "          age       sex       bmi        bp        s1        s2        s3  \\\n",
      "0    0.038076  0.050680  0.061696  0.021872 -0.044223 -0.034821 -0.043401   \n",
      "1   -0.001882 -0.044642 -0.051474 -0.026328 -0.008449 -0.019163  0.074412   \n",
      "2    0.085299  0.050680  0.044451 -0.005671 -0.045599 -0.034194 -0.032356   \n",
      "3   -0.089063 -0.044642 -0.011595 -0.036656  0.012191  0.024991 -0.036038   \n",
      "4    0.005383 -0.044642 -0.036385  0.021872  0.003935  0.015596  0.008142   \n",
      "..        ...       ...       ...       ...       ...       ...       ...   \n",
      "437  0.041708  0.050680  0.019662  0.059744 -0.005697 -0.002566 -0.028674   \n",
      "438 -0.005515  0.050680 -0.015906 -0.067642  0.049341  0.079165 -0.028674   \n",
      "439  0.041708  0.050680 -0.015906  0.017282 -0.037344 -0.013840 -0.024993   \n",
      "440 -0.045472 -0.044642  0.039062  0.001215  0.016318  0.015283 -0.028674   \n",
      "441 -0.045472 -0.044642 -0.073030 -0.081414  0.083740  0.027809  0.173816   \n",
      "\n",
      "           s4        s5        s6  \n",
      "0   -0.002592  0.019908 -0.017646  \n",
      "1   -0.039493 -0.068330 -0.092204  \n",
      "2   -0.002592  0.002864 -0.025930  \n",
      "3    0.034309  0.022692 -0.009362  \n",
      "4   -0.002592 -0.031991 -0.046641  \n",
      "..        ...       ...       ...  \n",
      "437 -0.002592  0.031193  0.007207  \n",
      "438  0.034309 -0.018118  0.044485  \n",
      "439 -0.011080 -0.046879  0.015491  \n",
      "440  0.026560  0.044528 -0.025930  \n",
      "441 -0.039493 -0.004220  0.003064  \n",
      "\n",
      "[442 rows x 10 columns]\n"
     ]
    }
   ],
   "source": [
    "print(features_df)"
   ]
  },
  {
   "cell_type": "code",
   "execution_count": 129,
   "id": "4495d834-95a8-4391-9fbb-40f1dcc0b3dd",
   "metadata": {},
   "outputs": [],
   "source": [
    "# find column in features_df that has the highest correlation coefficient with the target values in target_df\n",
    "\n",
    "corrcoef_list = []\n",
    "\n",
    "# loop through each column of features_df and generate 10 coefficients with target_df\n",
    "\n",
    "for col in features_df.columns:\n",
    "    corrcoef_list.append(np.corrcoef(features_df[col], target_df)[1][0])"
   ]
  },
  {
   "cell_type": "code",
   "execution_count": 130,
   "id": "a72e4c51-dbc3-4b3b-821e-c8f31a5446c6",
   "metadata": {
    "jupyter": {
     "source_hidden": true
    },
    "tags": []
   },
   "outputs": [],
   "source": [
    "# another form :\n",
    "# for i in range(features_df.shape[1]):\n",
    "#     corrcoef_list.append(np.corrcoef(features_df.iloc[:,i], target_df)[1][0])"
   ]
  },
  {
   "cell_type": "code",
   "execution_count": 131,
   "id": "a95ae2d8-e910-44ab-939d-66976ecd185c",
   "metadata": {},
   "outputs": [
    {
     "data": {
      "text/plain": [
       "[0.1878887507189198,\n",
       " 0.0430619984516054,\n",
       " 0.5864501344746891,\n",
       " 0.4414838489308862,\n",
       " 0.21202248101455076,\n",
       " 0.17405358696874249,\n",
       " -0.39478925067091847,\n",
       " 0.4304528847447734,\n",
       " 0.5658834252428094,\n",
       " 0.3824834842485812]"
      ]
     },
     "execution_count": 131,
     "metadata": {},
     "output_type": "execute_result"
    }
   ],
   "source": [
    "corrcoef_list"
   ]
  },
  {
   "cell_type": "code",
   "execution_count": 132,
   "id": "ba309951-7e4b-4fef-b5d3-00e604915941",
   "metadata": {},
   "outputs": [
    {
     "name": "stdout",
     "output_type": "stream",
     "text": [
      "0.5864501344746891\n"
     ]
    }
   ],
   "source": [
    "# find the maximum value of correlation coefficient\n",
    "\n",
    "max_corrcoef = max(corrcoef_list)\n",
    "print(max_corrcoef)"
   ]
  },
  {
   "cell_type": "code",
   "execution_count": 133,
   "id": "44300d8a-a5aa-45ab-9f47-86fc30474e09",
   "metadata": {},
   "outputs": [
    {
     "name": "stdout",
     "output_type": "stream",
     "text": [
      "2\n"
     ]
    }
   ],
   "source": [
    "# find the column index\n",
    "\n",
    "index_max_corrcoef = corrcoef_list.index(max_corrcoef)\n",
    "print(index_max_corrcoef)"
   ]
  },
  {
   "cell_type": "code",
   "execution_count": 134,
   "id": "a19af280-7c97-428a-81ac-779494ca8c91",
   "metadata": {},
   "outputs": [
    {
     "name": "stdout",
     "output_type": "stream",
     "text": [
      "bmi\n"
     ]
    }
   ],
   "source": [
    "# find the column name\n",
    "\n",
    "colname_max_corrcoef = features_df.columns[index_max_corrcoef]\n",
    "print(colname_max_corrcoef)"
   ]
  },
  {
   "cell_type": "markdown",
   "id": "bd565578-10bc-44f5-b02d-fbdf9e5987d5",
   "metadata": {},
   "source": [
    "The column in features_df that has the highest correlation coefficient with the target values in target_df is the third column \n",
    "\n",
    "( Note: keep in mind 2nd in Python indexing), \n",
    "\n",
    "The result is bmi"
   ]
  },
  {
   "cell_type": "markdown",
   "id": "8122b9ec-b0f0-45b4-8c0f-38561f157f84",
   "metadata": {},
   "source": [
    "# Scatter plot of the target values vs this feature column's values"
   ]
  },
  {
   "cell_type": "code",
   "execution_count": 135,
   "id": "e475e847-5597-436e-bca0-e39ce07c96e5",
   "metadata": {},
   "outputs": [
    {
     "data": {
      "text/plain": [
       "<AxesSubplot:xlabel='bmi', ylabel='target'>"
      ]
     },
     "execution_count": 135,
     "metadata": {},
     "output_type": "execute_result"
    },
    {
     "data": {
      "image/png": "[encoded data removed]",
      "text/plain": [
       "<Figure size 432x288 with 1 Axes>"
      ]
     },
     "metadata": {
      "needs_background": "light"
     },
     "output_type": "display_data"
    }
   ],
   "source": [
    "# Createa a scatter plot of the target values vs. the bmi column's values\n",
    "\n",
    "bmi_target_df = pd.DataFrame({'bmi':features_df[colname_max_corrcoef], 'target':target_df})\n",
    "bmi_target_df.plot(kind='scatter', x='bmi', y='target')"
   ]
  },
  {
   "cell_type": "markdown",
   "id": "bb378a16-b28c-44f9-9b3d-c0f5cd4ef9f6",
   "metadata": {},
   "source": [
    "## Perform linear regression with Scikit-learn's LinearRegression"
   ]
  },
  {
   "cell_type": "code",
   "execution_count": 136,
   "id": "6accefde-1567-4065-8305-12e25e6952e2",
   "metadata": {},
   "outputs": [],
   "source": [
    "import matplotlib.pyplot as plt\n",
    "from sklearn.linear_model import LinearRegression\n",
    "from sklearn.metrics import mean_squared_error, r2_score"
   ]
  },
  {
   "cell_type": "code",
   "execution_count": 137,
   "id": "0bd16188-946f-4451-a154-ca8df213f464",
   "metadata": {},
   "outputs": [],
   "source": [
    "X = bmi_target_df[['bmi']]\n",
    "y = bmi_target_df[['target']]"
   ]
  },
  {
   "cell_type": "code",
   "execution_count": 138,
   "id": "9979b2dd-fda8-42cd-a19f-17c7a5cf47bc",
   "metadata": {},
   "outputs": [],
   "source": [
    "reg = LinearRegression().fit(X, y)"
   ]
  },
  {
   "cell_type": "code",
   "execution_count": 139,
   "id": "fd6fdc1e-7537-40f1-b7fe-a7474c5167b6",
   "metadata": {},
   "outputs": [
    {
     "data": {
      "text/plain": [
       "array([[949.43526038]])"
      ]
     },
     "execution_count": 139,
     "metadata": {},
     "output_type": "execute_result"
    }
   ],
   "source": [
    "# this finds coefficient\n",
    "\n",
    "reg.coef_"
   ]
  },
  {
   "cell_type": "code",
   "execution_count": 140,
   "id": "7de20f0d-7b17-4f37-babd-631b24e3b19c",
   "metadata": {},
   "outputs": [
    {
     "data": {
      "text/plain": [
       "array([152.13348416])"
      ]
     },
     "execution_count": 140,
     "metadata": {},
     "output_type": "execute_result"
    }
   ],
   "source": [
    "# This find intercept\n",
    "\n",
    "reg.intercept_"
   ]
  },
  {
   "cell_type": "code",
   "execution_count": 141,
   "id": "a02e70c0-2761-46d8-b6e3-cd9a3ef762ac",
   "metadata": {},
   "outputs": [],
   "source": [
    "ytrain = reg.intercept_ + reg.coef_ * X"
   ]
  },
  {
   "cell_type": "code",
   "execution_count": 142,
   "id": "902c8e80-5c45-4571-be28-bd777ec5c939",
   "metadata": {},
   "outputs": [
    {
     "data": {
      "image/png": "[encoded data removed]",
      "text/plain": [
       "<Figure size 432x288 with 1 Axes>"
      ]
     },
     "metadata": {
      "needs_background": "light"
     },
     "output_type": "display_data"
    }
   ],
   "source": [
    "plt.plot(X, y, 'ro', X, ytrain, 'b-');"
   ]
  },
  {
   "cell_type": "code",
   "execution_count": 143,
   "id": "1685d760-98b3-4707-890c-660c3ec12ebe",
   "metadata": {},
   "outputs": [
    {
     "data": {
      "text/plain": [
       "3890.4565854612724"
      ]
     },
     "execution_count": 143,
     "metadata": {},
     "output_type": "execute_result"
    }
   ],
   "source": [
    "# calculate mean squared error\n",
    "\n",
    "\n",
    "mean_squared_error(y, ytrain)"
   ]
  },
  {
   "cell_type": "code",
   "execution_count": 144,
   "id": "2aa8dc3e-5a65-467c-a31a-d1d05f01aa50",
   "metadata": {},
   "outputs": [
    {
     "data": {
      "text/plain": [
       "0.3439237602253803"
      ]
     },
     "execution_count": 144,
     "metadata": {},
     "output_type": "execute_result"
    }
   ],
   "source": [
    "# calculate R-squared value\n",
    "\n",
    "r2_score(y, ytrain)"
   ]
  },
  {
   "cell_type": "markdown",
   "id": "c08464cc-0a48-49bb-92aa-4e22158cd5e5",
   "metadata": {},
   "source": [
    "## Linear regression with another variable, s5 (ltg, possibly log of serum triglycerides level)"
   ]
  },
  {
   "cell_type": "code",
   "execution_count": 145,
   "id": "c13105ec-3288-47d1-8298-fc94b9b8a90a",
   "metadata": {},
   "outputs": [],
   "source": [
    "# perform linear regression of the target values vs. the s3 column's values\n",
    "\n",
    "X2 = features_df[['s5']]\n",
    "y2 = target_df\n",
    "reg2 = LinearRegression().fit(X2, y2)\n"
   ]
  },
  {
   "cell_type": "code",
   "execution_count": 146,
   "id": "c6b01bdc-c9c4-477d-a4cb-01a02355037b",
   "metadata": {},
   "outputs": [
    {
     "data": {
      "text/plain": [
       "array([916.13872282])"
      ]
     },
     "execution_count": 146,
     "metadata": {},
     "output_type": "execute_result"
    }
   ],
   "source": [
    "# find coefficient of s5\n",
    "\n",
    "reg2.coef_"
   ]
  },
  {
   "cell_type": "code",
   "execution_count": 147,
   "id": "2a7bddd2-c2e7-49e7-a6ca-940b35f656b4",
   "metadata": {},
   "outputs": [
    {
     "data": {
      "text/plain": [
       "152.13348416289628"
      ]
     },
     "execution_count": 147,
     "metadata": {},
     "output_type": "execute_result"
    }
   ],
   "source": [
    "reg2.intercept_"
   ]
  },
  {
   "cell_type": "code",
   "execution_count": 148,
   "id": "a92699f4-eecc-48fd-94e8-fa6c7d9bb8b6",
   "metadata": {},
   "outputs": [],
   "source": [
    "ytrain2 = reg2.intercept_ + reg2.coef_ * X2"
   ]
  },
  {
   "cell_type": "code",
   "execution_count": 149,
   "id": "2e76e446-6844-459d-96ac-0884f143f414",
   "metadata": {},
   "outputs": [
    {
     "data": {
      "image/png": "[encoded data removed]",
      "text/plain": [
       "<Figure size 432x288 with 1 Axes>"
      ]
     },
     "metadata": {
      "needs_background": "light"
     },
     "output_type": "display_data"
    }
   ],
   "source": [
    "plt.plot(X2, y2, 'ro', X2, ytrain2, 'g-');"
   ]
  },
  {
   "cell_type": "code",
   "execution_count": 150,
   "id": "d1d32ab9-d88d-4c5f-8f72-153c5949dc8d",
   "metadata": {},
   "outputs": [
    {
     "data": {
      "text/plain": [
       "4030.9931334683297"
      ]
     },
     "execution_count": 150,
     "metadata": {},
     "output_type": "execute_result"
    }
   ],
   "source": [
    "# calculate mean squared error\n",
    "\n",
    "mean_squared_error(y2, ytrain2)"
   ]
  },
  {
   "cell_type": "code",
   "execution_count": 151,
   "id": "209c68ae-fb6d-40ae-9119-824e8ef87f03",
   "metadata": {},
   "outputs": [
    {
     "data": {
      "text/plain": [
       "0.32022405096453443"
      ]
     },
     "execution_count": 151,
     "metadata": {},
     "output_type": "execute_result"
    }
   ],
   "source": [
    "# calculate R-squared value\n",
    "\n",
    "r2_score(y2, ytrain2)"
   ]
  },
  {
   "cell_type": "markdown",
   "id": "ee2aab3f-cc73-4178-80b7-8ebb08e0e18e",
   "metadata": {},
   "source": [
    "The new fit mean sqaured error is higher and the R-squared value is lower"
   ]
  }
 ],
 "metadata": {
  "kernelspec": {
   "display_name": "Python 3 (ipykernel)",
   "language": "python",
   "name": "python3"
  },
  "language_info": {
   "codemirror_mode": {
    "name": "ipython",
    "version": 3
   },
   "file_extension": ".py",
   "mimetype": "text/x-python",
   "name": "python",
   "nbconvert_exporter": "python",
   "pygments_lexer": "ipython3",
   "version": "3.9.6"
  }
 },
 "nbformat": 4,
 "nbformat_minor": 5
}
